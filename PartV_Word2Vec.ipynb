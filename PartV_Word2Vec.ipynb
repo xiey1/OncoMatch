{
 "cells": [
  {
   "cell_type": "markdown",
   "metadata": {},
   "source": [
    "# Summary:\n",
    "This notebook will cover training **Word2Vec** model to embed abstracts."
   ]
  },
  {
   "cell_type": "markdown",
   "metadata": {},
   "source": [
    "# Table of contents\n",
    "* [1. Text preprocessing](#Part1_link)\n",
    "* [2. Train Word2Vec model](#Part2_link)\n",
    "* [3. Evaluate the trained Word2Vec model](#Part3_link)\n",
    "* [4. Embedding using the trained Word2Vec model](#Part4_link)\n",
    "<br >&nbsp;&nbsp;&nbsp;[4.1 Embed abstracts](#Part4.1_link)\n",
    "<br >&nbsp;&nbsp;&nbsp;[4.2 Embed article titles](#Part4.2_link)\n",
    "* [5. Validate embedding performance](#Part5_link)\n",
    "<br >&nbsp;&nbsp;&nbsp;[5.1 Consine similarity scores between abstracts and titles in entire dataset (pancancer)](#Part5.1_link)\n",
    "<br >&nbsp;&nbsp;&nbsp;[5.2 Consine similarity scores between abstracts and titles in each cancer type](#Part5.2_link)"
   ]
  },
  {
   "cell_type": "code",
   "execution_count": 2,
   "metadata": {},
   "outputs": [],
   "source": [
    "import pandas as pd\n",
    "import numpy as np\n",
    "import time\n",
    "import datetime\n",
    "import os\n",
    "import pickle\n",
    "from Bio import Entrez\n",
    "import requests\n",
    "from bs4 import BeautifulSoup\n",
    "from collections import defaultdict\n",
    "\n",
    "def warn(*args, **kwargs):\n",
    "    pass\n",
    "import warnings\n",
    "warnings.warn = warn\n",
    "\n",
    "import matplotlib.pyplot as plt\n",
    "%matplotlib inline\n",
    "import seaborn as sns\n",
    "\n",
    "import gensim\n",
    "from gensim.summarization.summarizer import summarize\n",
    "from gensim.summarization import keywords\n",
    "import nltk\n",
    "from nltk.tokenize import word_tokenize\n",
    "from nltk.tokenize import sent_tokenize\n",
    "from nltk.stem import WordNetLemmatizer\n",
    "from nltk.stem.porter import PorterStemmer\n",
    "from nltk.corpus import stopwords\n",
    "from string import punctuation\n",
    "from wordcloud import WordCloud, ImageColorGenerator\n",
    "from PIL import Image\n",
    "from PIL import ImageFile\n",
    "ImageFile.LOAD_TRUNCATED_IMAGES = True\n",
    "from ast import literal_eval\n",
    "from sklearn.manifold import TSNE\n",
    "from sklearn.metrics.pairwise import cosine_similarity\n",
    "from sklearn.metrics import confusion_matrix\n",
    "from sklearn.preprocessing import normalize"
   ]
  },
  {
   "cell_type": "code",
   "execution_count": 2,
   "metadata": {},
   "outputs": [],
   "source": [
    "base_dir='/Volumes/Yuchen_Drive/Insight/OncoMatch'\n",
    "out_dir='/Volumes/Yuchen_Drive/Insight/OncoMatch/models_w2v'\n",
    "abstract_df=pd.read_csv(os.path.join(base_dir,'data/abstract_citation_annot_df_50930.csv'),index_col='pmid')\n",
    "cancer2pmid_dict=pickle.load(open(os.path.join(base_dir, \"data/cancer2pmid_dict.pkl\"),\"rb\"))"
   ]
  },
  {
   "cell_type": "code",
   "execution_count": 4,
   "metadata": {},
   "outputs": [
    {
     "name": "stdout",
     "output_type": "stream",
     "text": [
      "Total number of abstracts: 50930\n"
     ]
    }
   ],
   "source": [
    "print('Total number of abstracts: {}'.format(abstract_df.shape[0]))"
   ]
  },
  {
   "cell_type": "markdown",
   "metadata": {},
   "source": [
    "<a id='Part1_link'></a>\n",
    "# 1. Text preprocessing"
   ]
  },
  {
   "cell_type": "code",
   "execution_count": 5,
   "metadata": {},
   "outputs": [],
   "source": [
    "stop_word1 = gensim.parsing.preprocessing.STOPWORDS   ## 337\n",
    "stop_word2 = nltk.corpus.stopwords.words('english')   ## 179\n",
    "punct = \"/-'?!.,#$%\\'()*+-/:;<=>@[\\\\]^_`{|}~`\" + '\"\"“”’' + '∞θ÷α•à−β∅³π‘₹´°£€\\×™√²—–&'\n",
    "stop_words = set(list(stop_word1)+stop_word2+list(punct))   ## 448"
   ]
  },
  {
   "cell_type": "code",
   "execution_count": 6,
   "metadata": {},
   "outputs": [],
   "source": [
    "## Method 1\n",
    "class MySentences(object):\n",
    "    \"\"\" Credits go to https://www.kaggle.com/reiinakano/basic-nlp-bag-of-words-tf-idf-word2vec-lstm\n",
    "        MySentences is a generator to produce a list of tokenized sentences \n",
    "    \n",
    "    Takes a list of numpy arrays containing documents.\n",
    "    \n",
    "    Args:\n",
    "        arrays: List of arrays, where each element in the array contains a document.\n",
    "    \"\"\"\n",
    "    def __init__(self, *arrays):\n",
    "        self.arrays = arrays\n",
    " \n",
    "    def __iter__(self):\n",
    "        for array in self.arrays:\n",
    "            for document in array:\n",
    "                for sent in nltk.sent_tokenize(document):\n",
    "                    # print(sent)\n",
    "                    yield [WordNetLemmatizer().lemmatize(token).lower() for token in nltk.word_tokenize(sent) if len(token)>1 and token.lower() not in stop_words]"
   ]
  },
  {
   "cell_type": "code",
   "execution_count": 8,
   "metadata": {},
   "outputs": [
    {
     "name": "stdout",
     "output_type": "stream",
     "text": [
      "length of text_array: 50930\n"
     ]
    }
   ],
   "source": [
    "text_array = abstract_df.abstract.values\n",
    "print('length of text_array: {}'.format(len(text_array)))"
   ]
  },
  {
   "cell_type": "code",
   "execution_count": 9,
   "metadata": {},
   "outputs": [
    {
     "name": "stdout",
     "output_type": "stream",
     "text": [
      "['chronic', 'myelogenous', 'leukemia', 'cml', 'myeloproliferative', 'disorder', 'follows', 'characteristic', 'clinical', 'course', 'chronic', 'phase', 'variable', 'duration', 'precedes', 'accelerated', 'ultimately', 'blastic', 'phase', 'generally', 'fatal']\n"
     ]
    }
   ],
   "source": [
    "text_corpus=MySentences(text_array)\n",
    "print(next(iter(text_corpus)))"
   ]
  },
  {
   "cell_type": "markdown",
   "metadata": {},
   "source": [
    "<a id='Part2_link'></a>\n",
    "# 2. Train Word2Vec model"
   ]
  },
  {
   "cell_type": "code",
   "execution_count": 10,
   "metadata": {},
   "outputs": [
    {
     "name": "stdout",
     "output_type": "stream",
     "text": [
      "Model done training. Saving to /Volumes/Yuchen_Drive/Insight/OncoMatch/models_w2v/doctor_recommendation_w2vmodel_dim300_mincount2.w2v\n"
     ]
    }
   ],
   "source": [
    "## mincount2_dim300\n",
    "word2vec=gensim.models.Word2Vec(text_corpus,size=300, window=5, min_count=2, workers=4)\n",
    "location = os.path.join(base_dir, 'models_w2v/doctor_recommendation_w2vmodel_dim300_mincount2.w2v')\n",
    "word2vec.save(location)\n",
    "print('Model done training. Saving to {}'.format(location))\n",
    "word2vec = gensim.models.Word2Vec.load(location)"
   ]
  },
  {
   "cell_type": "code",
   "execution_count": 11,
   "metadata": {},
   "outputs": [
    {
     "name": "stdout",
     "output_type": "stream",
     "text": [
      "The dimension of the embedding matrix for word2vec is 300\n"
     ]
    }
   ],
   "source": [
    "## get embedding dimension of word2vec (dimensionality of the word vectors)\n",
    "dim=len(word2vec.wv.syn0[0])\n",
    "print('The dimension of the embedding matrix for word2vec is {}'.format(dim))"
   ]
  },
  {
   "cell_type": "code",
   "execution_count": 12,
   "metadata": {},
   "outputs": [
    {
     "name": "stdout",
     "output_type": "stream",
     "text": [
      "Attributes for word2vec_mincount2:\n",
      "Vocabulary size: 83839\n",
      "Sample words in the vocabulary: ['patient', 'cancer', 'cell', 'tumor', 'survival', 'treatment', 'study', 'therapy', 'disease', 'clinical']\n",
      "embedding matrix shape: (83839, 300)\n"
     ]
    }
   ],
   "source": [
    "## get size of the vocabulary_mincount2\n",
    "print('Attributes for word2vec_mincount2:')\n",
    "print('Vocabulary size: {}'.format(len(word2vec.wv.index2word)))\n",
    "print('Sample words in the vocabulary: {}'.format(word2vec.wv.index2word[:10]))\n",
    "print('embedding matrix shape: {}'.format(word2vec.wv.vectors.shape))"
   ]
  },
  {
   "cell_type": "code",
   "execution_count": 14,
   "metadata": {},
   "outputs": [
    {
     "name": "stdout",
     "output_type": "stream",
     "text": [
      "300\n",
      "Vector representation for 'cyclin': [ 1.1789465  -1.3757324  -0.39036578 -1.3379644   0.82750887  1.8643337\n",
      " -0.5241257   0.40892473 -1.1053663   1.2282484  -0.28931636  0.15974405\n",
      "  1.1562427  -1.206813   -0.8997953   0.29312932 -1.0029075   0.43363672\n",
      "  0.20870923  0.98929405  0.04243967  1.2436551  -0.15244405  0.17404369\n",
      " -1.509726   -0.42231095 -0.55436206 -0.67065316  2.5220754   0.8067221\n",
      " -1.3885901   1.4518783  -1.4346932   1.0983518  -1.4019679   1.9144313\n",
      " -0.4755491   0.5297261   1.3184509  -0.11146162 -0.13373101 -2.4961023\n",
      "  0.07897426 -1.0497311  -0.9545327  -0.60824764 -1.2815638  -0.08909608\n",
      " -1.1058238  -2.3536265   1.9138979  -1.316358    0.81449234 -0.84159374\n",
      "  0.9236009   2.139535    1.2172855   1.4871627  -0.40615675  0.7979262\n",
      "  0.2120738  -2.1310763  -0.70182943 -1.397219   -0.09446929  0.06290232\n",
      "  0.5196358   1.9228766   0.8319319  -0.30079985  1.0793283  -1.0877444\n",
      "  0.14827876  1.4465362  -0.3638882   0.8907661  -0.99446696  0.19716778\n",
      " -0.72475725 -0.12646654 -1.523228    1.3700044   0.71324706 -1.3260936\n",
      "  0.7024382  -1.7056687   2.7077358   0.6873969  -1.2013571  -2.1084323\n",
      " -0.40281722 -0.08805411 -0.17003343  0.88024855 -0.28112862  0.9842206\n",
      "  1.8537804   1.2995796  -1.3102831  -1.1008205  -1.6814302  -0.7426932\n",
      "  0.7336591  -0.2796199   0.4442766  -0.73558974 -1.1397748   0.5601926\n",
      "  1.5466777   0.906294   -0.42767665 -1.2968171   0.94692034  0.49980325\n",
      " -0.411921    2.0220513   0.8201086  -0.96861035 -2.018967    0.40550676\n",
      " -1.1693114  -1.1119542   1.2760855   0.87545496  2.0900898   1.4758432\n",
      "  1.3518353  -2.095456    0.90153843  1.8872126  -0.25300083  0.89031756\n",
      "  0.83385867  0.93177676 -1.2490165  -2.2635214  -1.6788037  -0.42957103\n",
      " -0.39286256 -0.43475622  1.1875024  -0.9145049   0.6914385   1.4785494\n",
      " -0.5481433  -1.4369826  -0.96277195 -1.1551343  -0.0800899   0.83760476\n",
      " -0.4069054   1.0034735  -1.3419079   1.0901123   1.4203389   0.5773551\n",
      "  0.40237954  0.09565438 -1.8939513  -0.11639781 -1.2764453   0.7967591\n",
      "  0.7933744  -0.04390901  0.27519655  1.3435522  -0.43120602 -0.2756543\n",
      "  2.3278313  -0.4494077  -0.772622   -0.7637902   1.4904054  -0.7351402\n",
      " -0.11878307  0.29344556 -0.7213969   0.64713997 -0.10224395  0.41569933\n",
      "  1.1069165   1.0451627  -0.06047209 -1.3757864   0.14957662  0.05588138\n",
      " -0.02428859 -1.866581    0.5260113  -0.34935692  0.2239337   0.57528085\n",
      " -1.3887248   0.5682702  -0.9150798  -0.87647253  0.77054673  0.06746598\n",
      "  0.47706068  0.49221718 -1.014793    0.44614473 -0.40528104  1.1548308\n",
      " -1.6565483  -0.01901468 -1.5638963  -1.5905426  -0.70222765 -0.1792183\n",
      " -1.2154524   0.33033583  1.096874    0.77507997 -0.38781452 -0.29999584\n",
      " -0.54775506 -1.1619053  -0.28200167  0.66578245  1.0968438   1.7749633\n",
      " -0.27422646 -0.00333215 -1.1105946   1.4562864  -0.8207023   0.5990757\n",
      " -0.74521357  0.3583668   0.07055199  0.7028098  -0.77494824 -0.02193748\n",
      " -1.6598148  -0.20545088  1.7792071   0.05350275 -0.860931   -0.56400186\n",
      " -0.6930425  -0.28236055  0.48251203 -0.2994516  -0.06832576 -0.78972095\n",
      " -0.3967832  -0.7072421  -1.0837262   0.28126547 -0.15036999 -0.16364144\n",
      "  0.22942732 -1.2158105   0.37108508 -1.512442   -2.416434   -0.56990576\n",
      "  0.13463224 -0.5996653   0.59337026  1.6619378   0.4578566  -1.7322743\n",
      "  1.2287669  -1.4236754  -1.6665021   0.05483822 -0.5383324  -0.5123972\n",
      "  0.8471165   0.9401132  -0.6482934   0.01280931 -0.5191612   0.724863\n",
      "  0.43731347  0.3813391  -1.7268924   0.23288523  0.39283368  0.79062957\n",
      "  1.1894896  -1.516549   -1.9957107   0.63978404 -0.48233885 -1.2213755\n",
      " -0.51730794  0.13158941 -1.317896   -0.4151617  -0.04336998  0.47140622\n",
      "  1.043648   -1.0757622  -0.95592076 -1.3046972   0.79750466 -0.7825423 ]\n"
     ]
    }
   ],
   "source": [
    "## get vector representation for word 'cyclin'\n",
    "print(len(word2vec.wv['cancer']))\n",
    "print(\"Vector representation for 'cyclin': {}\".format(word2vec.wv['cancer']))"
   ]
  },
  {
   "cell_type": "markdown",
   "metadata": {},
   "source": [
    "<a id='Part3_link'></a>\n",
    "# 3. Evaluate the trained Word2Vec model"
   ]
  },
  {
   "cell_type": "code",
   "execution_count": 15,
   "metadata": {},
   "outputs": [
    {
     "name": "stdout",
     "output_type": "stream",
     "text": [
      "('atypical', 'atypia', 'nonmalignant', 'non-neoplastic', 'hyperplasia', 'dysplastic', 'fibrous', 'uterus', 'leiomyoma', 'phyllode', 'endometrium', 'glandular', 'cystic', 'indeterminate', 'suspicious', 'multicentric', 'cyst', 'hyperplastic', 'multifocal', 'epithelium', 'intraepithelial', 'histiocytoma', 'ipmns', 'normal-appearing', 'ipmn', 'bbd', 'nonneoplastic', 'ovary', 'melanocytic', 'morphologically')\n"
     ]
    }
   ],
   "source": [
    "## get 'most_similar' words\n",
    "result,scores = zip(*word2vec.most_similar(positive=['benign'],topn=30))\n",
    "print(result)"
   ]
  },
  {
   "cell_type": "code",
   "execution_count": 16,
   "metadata": {},
   "outputs": [
    {
     "name": "stdout",
     "output_type": "stream",
     "text": [
      "('indolent', 'lethal', 'typically', 'curable', 'incurable', 'especially', 'rare', 'usually', 'fatal', 'recur', 'heterogeneous', 'certain', 'uncommon', 'particularly', 'historically', 'behave', 'aggressiveness', 'chemoresistant', 'insidious', 'challenging', 'infiltrative', 'prognosis', 'typical', 'poorly', 'multimodality', 'malignant', 'disseminated', 'tend', 'devastating', 'arise')\n"
     ]
    }
   ],
   "source": [
    "## get 'most_similar' words\n",
    "result,scores = zip(*word2vec.most_similar(positive=['aggressive'],topn=30))\n",
    "print(result)"
   ]
  },
  {
   "cell_type": "code",
   "execution_count": 100,
   "metadata": {},
   "outputs": [],
   "source": [
    "index_list=[]\n",
    "result1,scores = zip(*word2vec.most_similar(positive=['benign'], topn=50))\n",
    "result2,scores = zip(*word2vec.most_similar(positive=['aggressive'], topn=50))\n",
    "word_list=list(result1)+list(result2)\n",
    "for word in word_list:\n",
    "    index_list.append(word2vec.wv.index2word.index(word))\n",
    "tsne = TSNE()\n",
    "embed_tsne = tsne.fit_transform(word2vec.wv.vectors[index_list, :])\n",
    "embed_df=pd.DataFrame({'word':np.array(word_list),'tsne1':embed_tsne[:,0],'tsne2':embed_tsne[:,1],'color':np.append(np.repeat('benign',len(embed_tsne)//2),np.repeat('malignant',len(embed_tsne)//2))})"
   ]
  },
  {
   "cell_type": "code",
   "execution_count": 101,
   "metadata": {},
   "outputs": [
    {
     "data": {
      "text/plain": [
       "(83839, 300)"
      ]
     },
     "execution_count": 101,
     "metadata": {},
     "output_type": "execute_result"
    }
   ],
   "source": [
    "word2vec.wv.vectors[:, :].shape"
   ]
  },
  {
   "cell_type": "code",
   "execution_count": 102,
   "metadata": {
    "scrolled": false
   },
   "outputs": [
    {
     "data": {
      "text/plain": [
       "<matplotlib.legend.Legend at 0x12aa057f0>"
      ]
     },
     "execution_count": 102,
     "metadata": {},
     "output_type": "execute_result"
    },
    {
     "data": {
      "image/png": "[encoded data removed]",
      "text/plain": [
       "<Figure size 864x864 with 1 Axes>"
      ]
     },
     "metadata": {
      "needs_background": "light"
     },
     "output_type": "display_data"
    }
   ],
   "source": [
    "fig, ax = plt.subplots(figsize=(12, 12))\n",
    "word_to_print=['non-neoplastic', 'atypical', 'atypia', 'nonmalignant', 'hyperplasia', 'dysplastic', 'uterus', 'endometrium', 'leiomyoma', 'fibrous', 'cystic', 'glandular', 'cyst', 'hyperplastic', 'phyllode', 'indeterminate', 'ipmn', 'ipmns', 'suspicious', 'intraepithelial', 'epithelium', 'multifocal', 'multicentric', 'polyp', 'melanocytic', 'grossly', 'nonneoplastic', 'morphologically',\n",
    "               'indolent', 'lethal', 'curable', 'rare', 'incurable', 'uncommon', 'particularly', 'certain', 'recur', 'fatal', 'heterogeneous', 'challenging', 'chemoresistant', 'historically', 'malignant', 'typical', 'prognosis', 'insidious', 'devastating', 'rarely', 'poorly', 'arise', 'infiltrative', 'aggressiveness', 'difficult', 'frequently']\n",
    "sns.scatterplot(x='tsne1',y='tsne2',data=embed_df,hue='color',palette=['steelblue','red'],ax=ax)\n",
    "for idx in list(range(30))+list(range(50,80)):\n",
    "    if word_list[idx] in word_to_print:\n",
    "        ax.annotate(word_list[idx], (embed_tsne[idx, 0], embed_tsne[idx, 1]), alpha=0.9,size=8)\n",
    "plt.legend(bbox_to_anchor=(1.05, 1), loc=2, borderaxespad=0.)"
   ]
  },
  {
   "cell_type": "markdown",
   "metadata": {},
   "source": [
    "As we can see from the tsne plot above, the trained Word2Vec model can distinguish between words similar in semantic meaning to 'benign' and those similar to 'aggressive', which represent two opposite conditions when describing cancer."
   ]
  },
  {
   "cell_type": "markdown",
   "metadata": {},
   "source": [
    "<a id='Part4_link'></a>\n",
    "# 4. Embedding using the trained Word2Vec model"
   ]
  },
  {
   "cell_type": "code",
   "execution_count": 17,
   "metadata": {},
   "outputs": [],
   "source": [
    "## Method 1\n",
    "class MyTokenizer:\n",
    "    \"\"\"\n",
    "    Credits go to https://www.kaggle.com/reiinakano/basic-nlp-bag-of-words-tf-idf-word2vec-lstm\n",
    "    \"\"\"\n",
    "    def __init__(self):\n",
    "        pass\n",
    "    \n",
    "    def fit(self, X, y=None):\n",
    "        return self\n",
    "    \n",
    "    def transform(self, X):\n",
    "        transformed_X = []\n",
    "        for document in X:\n",
    "            tokenized_doc = []\n",
    "            for sent in nltk.sent_tokenize(document):\n",
    "                for token in nltk.word_tokenize(sent):\n",
    "                    if len(token)>1 and token.lower() not in stop_words:\n",
    "                        tokenized_doc += WordNetLemmatizer().lemmatize(token).lower()\n",
    "            transformed_X.append(np.array(tokenized_doc))\n",
    "        return np.array(transformed_X)\n",
    "    \n",
    "    def fit_transform(self, X, y=None):\n",
    "        return self.transform(X)"
   ]
  },
  {
   "cell_type": "code",
   "execution_count": 18,
   "metadata": {},
   "outputs": [],
   "source": [
    "## Method 1\n",
    "class MeanEmbeddingVectorizer(object):\n",
    "    \"\"\"\n",
    "    Credits go to https://www.kaggle.com/reiinakano/basic-nlp-bag-of-words-tf-idf-word2vec-lstm\n",
    "    \"\"\"\n",
    "    def __init__(self, word2vec):\n",
    "        self.word2vec = word2vec\n",
    "        # if a text is empty we should return a vector of zeros\n",
    "        # with the same dimensionality as all the other vectors\n",
    "        self.dim = len(word2vec.wv.syn0[0])\n",
    "\n",
    "    def fit(self, X, y=None):\n",
    "        return self\n",
    "\n",
    "    def transform(self, X):\n",
    "        X = MyTokenizer().fit_transform(X)\n",
    "        \n",
    "        return np.array([\n",
    "            np.mean([self.word2vec.wv[w] for w in words if w in self.word2vec.wv]\n",
    "                    or [np.zeros(self.dim)], axis=0)\n",
    "            for words in X\n",
    "        ])\n",
    "    \n",
    "    def fit_transform(self, X, y=None):\n",
    "        return self.transform(X)"
   ]
  },
  {
   "cell_type": "markdown",
   "metadata": {},
   "source": [
    "<a id='Part4.1_link'></a>\n",
    "## 4.1 Embed abstracts"
   ]
  },
  {
   "cell_type": "code",
   "execution_count": null,
   "metadata": {},
   "outputs": [],
   "source": [
    "## Method 1\n",
    "mean_embedding_vectorizer = MeanEmbeddingVectorizer(word2vec)\n",
    "mean_embedded = mean_embedding_vectorizer.fit_transform(abstract_df.abstract.values)\n",
    "mean_embedded=pd.DataFrame(mean_embedded)\n",
    "mean_embedded['pmid']=abstract_df.index.values\n",
    "mean_embedded.to_csv(os.path.join(out_dir, 'doctor_recommendation_w2vmodel_dim300_mincount2.csv'),index=False)"
   ]
  },
  {
   "cell_type": "code",
   "execution_count": 19,
   "metadata": {},
   "outputs": [],
   "source": [
    "abstract_embedded_df=pd.read_csv(os.path.join(out_dir, 'doctor_recommendation_w2vmodel_dim300_mincount2.csv'),index_col='pmid')"
   ]
  },
  {
   "cell_type": "code",
   "execution_count": 20,
   "metadata": {},
   "outputs": [
    {
     "data": {
      "text/html": [
       "<div>\n",
       "<style scoped>\n",
       "    .dataframe tbody tr th:only-of-type {\n",
       "        vertical-align: middle;\n",
       "    }\n",
       "\n",
       "    .dataframe tbody tr th {\n",
       "        vertical-align: top;\n",
       "    }\n",
       "\n",
       "    .dataframe thead th {\n",
       "        text-align: right;\n",
       "    }\n",
       "</style>\n",
       "<table border=\"1\" class=\"dataframe\">\n",
       "  <thead>\n",
       "    <tr style=\"text-align: right;\">\n",
       "      <th></th>\n",
       "      <th>0</th>\n",
       "      <th>1</th>\n",
       "      <th>2</th>\n",
       "      <th>3</th>\n",
       "      <th>4</th>\n",
       "      <th>5</th>\n",
       "      <th>6</th>\n",
       "      <th>7</th>\n",
       "      <th>8</th>\n",
       "      <th>9</th>\n",
       "      <th>...</th>\n",
       "      <th>290</th>\n",
       "      <th>291</th>\n",
       "      <th>292</th>\n",
       "      <th>293</th>\n",
       "      <th>294</th>\n",
       "      <th>295</th>\n",
       "      <th>296</th>\n",
       "      <th>297</th>\n",
       "      <th>298</th>\n",
       "      <th>299</th>\n",
       "    </tr>\n",
       "    <tr>\n",
       "      <th>pmid</th>\n",
       "      <th></th>\n",
       "      <th></th>\n",
       "      <th></th>\n",
       "      <th></th>\n",
       "      <th></th>\n",
       "      <th></th>\n",
       "      <th></th>\n",
       "      <th></th>\n",
       "      <th></th>\n",
       "      <th></th>\n",
       "      <th></th>\n",
       "      <th></th>\n",
       "      <th></th>\n",
       "      <th></th>\n",
       "      <th></th>\n",
       "      <th></th>\n",
       "      <th></th>\n",
       "      <th></th>\n",
       "      <th></th>\n",
       "      <th></th>\n",
       "      <th></th>\n",
       "    </tr>\n",
       "  </thead>\n",
       "  <tbody>\n",
       "    <tr>\n",
       "      <th>10037348</th>\n",
       "      <td>0.027920</td>\n",
       "      <td>-0.071908</td>\n",
       "      <td>0.005197</td>\n",
       "      <td>-0.101170</td>\n",
       "      <td>-0.024000</td>\n",
       "      <td>-0.056501</td>\n",
       "      <td>0.023086</td>\n",
       "      <td>0.017264</td>\n",
       "      <td>0.126151</td>\n",
       "      <td>-0.033535</td>\n",
       "      <td>...</td>\n",
       "      <td>0.065026</td>\n",
       "      <td>0.113038</td>\n",
       "      <td>0.028608</td>\n",
       "      <td>0.158502</td>\n",
       "      <td>-0.001793</td>\n",
       "      <td>2.215543e-05</td>\n",
       "      <td>-0.086976</td>\n",
       "      <td>0.024398</td>\n",
       "      <td>0.076197</td>\n",
       "      <td>-0.095176</td>\n",
       "    </tr>\n",
       "    <tr>\n",
       "      <th>10079468</th>\n",
       "      <td>0.030035</td>\n",
       "      <td>-0.083192</td>\n",
       "      <td>0.001816</td>\n",
       "      <td>-0.099922</td>\n",
       "      <td>-0.028040</td>\n",
       "      <td>-0.061504</td>\n",
       "      <td>0.024803</td>\n",
       "      <td>0.012987</td>\n",
       "      <td>0.122175</td>\n",
       "      <td>-0.031771</td>\n",
       "      <td>...</td>\n",
       "      <td>0.067843</td>\n",
       "      <td>0.111933</td>\n",
       "      <td>0.021106</td>\n",
       "      <td>0.154962</td>\n",
       "      <td>-0.004402</td>\n",
       "      <td>-5.857616e-04</td>\n",
       "      <td>-0.083373</td>\n",
       "      <td>0.023071</td>\n",
       "      <td>0.073218</td>\n",
       "      <td>-0.094607</td>\n",
       "    </tr>\n",
       "    <tr>\n",
       "      <th>10581602</th>\n",
       "      <td>0.028167</td>\n",
       "      <td>-0.076112</td>\n",
       "      <td>0.001488</td>\n",
       "      <td>-0.105520</td>\n",
       "      <td>-0.026869</td>\n",
       "      <td>-0.054702</td>\n",
       "      <td>0.025024</td>\n",
       "      <td>0.019939</td>\n",
       "      <td>0.122125</td>\n",
       "      <td>-0.032921</td>\n",
       "      <td>...</td>\n",
       "      <td>0.064938</td>\n",
       "      <td>0.113975</td>\n",
       "      <td>0.021653</td>\n",
       "      <td>0.162764</td>\n",
       "      <td>0.000846</td>\n",
       "      <td>-3.479962e-03</td>\n",
       "      <td>-0.083481</td>\n",
       "      <td>0.025282</td>\n",
       "      <td>0.076966</td>\n",
       "      <td>-0.094461</td>\n",
       "    </tr>\n",
       "    <tr>\n",
       "      <th>10873802</th>\n",
       "      <td>0.029576</td>\n",
       "      <td>-0.090951</td>\n",
       "      <td>-0.003797</td>\n",
       "      <td>-0.099309</td>\n",
       "      <td>-0.030946</td>\n",
       "      <td>-0.061669</td>\n",
       "      <td>0.025772</td>\n",
       "      <td>0.009679</td>\n",
       "      <td>0.119301</td>\n",
       "      <td>-0.027836</td>\n",
       "      <td>...</td>\n",
       "      <td>0.059614</td>\n",
       "      <td>0.108517</td>\n",
       "      <td>0.019028</td>\n",
       "      <td>0.148635</td>\n",
       "      <td>-0.000736</td>\n",
       "      <td>-6.608876e-08</td>\n",
       "      <td>-0.073357</td>\n",
       "      <td>0.023543</td>\n",
       "      <td>0.066006</td>\n",
       "      <td>-0.098958</td>\n",
       "    </tr>\n",
       "    <tr>\n",
       "      <th>11050493</th>\n",
       "      <td>0.027538</td>\n",
       "      <td>-0.066302</td>\n",
       "      <td>0.004837</td>\n",
       "      <td>-0.110081</td>\n",
       "      <td>-0.025009</td>\n",
       "      <td>-0.055943</td>\n",
       "      <td>0.023392</td>\n",
       "      <td>0.020909</td>\n",
       "      <td>0.133947</td>\n",
       "      <td>-0.033590</td>\n",
       "      <td>...</td>\n",
       "      <td>0.064789</td>\n",
       "      <td>0.119670</td>\n",
       "      <td>0.027293</td>\n",
       "      <td>0.171791</td>\n",
       "      <td>0.003569</td>\n",
       "      <td>-9.555602e-04</td>\n",
       "      <td>-0.090478</td>\n",
       "      <td>0.024017</td>\n",
       "      <td>0.086408</td>\n",
       "      <td>-0.097830</td>\n",
       "    </tr>\n",
       "  </tbody>\n",
       "</table>\n",
       "<p>5 rows × 300 columns</p>\n",
       "</div>"
      ],
      "text/plain": [
       "                 0         1         2         3         4         5  \\\n",
       "pmid                                                                   \n",
       "10037348  0.027920 -0.071908  0.005197 -0.101170 -0.024000 -0.056501   \n",
       "10079468  0.030035 -0.083192  0.001816 -0.099922 -0.028040 -0.061504   \n",
       "10581602  0.028167 -0.076112  0.001488 -0.105520 -0.026869 -0.054702   \n",
       "10873802  0.029576 -0.090951 -0.003797 -0.099309 -0.030946 -0.061669   \n",
       "11050493  0.027538 -0.066302  0.004837 -0.110081 -0.025009 -0.055943   \n",
       "\n",
       "                 6         7         8         9  ...       290       291  \\\n",
       "pmid                                              ...                       \n",
       "10037348  0.023086  0.017264  0.126151 -0.033535  ...  0.065026  0.113038   \n",
       "10079468  0.024803  0.012987  0.122175 -0.031771  ...  0.067843  0.111933   \n",
       "10581602  0.025024  0.019939  0.122125 -0.032921  ...  0.064938  0.113975   \n",
       "10873802  0.025772  0.009679  0.119301 -0.027836  ...  0.059614  0.108517   \n",
       "11050493  0.023392  0.020909  0.133947 -0.033590  ...  0.064789  0.119670   \n",
       "\n",
       "               292       293       294           295       296       297  \\\n",
       "pmid                                                                       \n",
       "10037348  0.028608  0.158502 -0.001793  2.215543e-05 -0.086976  0.024398   \n",
       "10079468  0.021106  0.154962 -0.004402 -5.857616e-04 -0.083373  0.023071   \n",
       "10581602  0.021653  0.162764  0.000846 -3.479962e-03 -0.083481  0.025282   \n",
       "10873802  0.019028  0.148635 -0.000736 -6.608876e-08 -0.073357  0.023543   \n",
       "11050493  0.027293  0.171791  0.003569 -9.555602e-04 -0.090478  0.024017   \n",
       "\n",
       "               298       299  \n",
       "pmid                          \n",
       "10037348  0.076197 -0.095176  \n",
       "10079468  0.073218 -0.094607  \n",
       "10581602  0.076966 -0.094461  \n",
       "10873802  0.066006 -0.098958  \n",
       "11050493  0.086408 -0.097830  \n",
       "\n",
       "[5 rows x 300 columns]"
      ]
     },
     "execution_count": 20,
     "metadata": {},
     "output_type": "execute_result"
    }
   ],
   "source": [
    "abstract_embedded_df.head()"
   ]
  },
  {
   "cell_type": "markdown",
   "metadata": {},
   "source": [
    "<a id='Part4.2_link'></a>\n",
    "## 4.2 Embed article titles"
   ]
  },
  {
   "cell_type": "code",
   "execution_count": 109,
   "metadata": {},
   "outputs": [],
   "source": [
    "## Method 1\n",
    "mean_embedding_vectorizer = MeanEmbeddingVectorizer(word2vec)\n",
    "mean_embedded_title = mean_embedding_vectorizer.fit_transform(abstract_df.article_title.values)\n",
    "mean_embedded_title=pd.DataFrame(mean_embedded_title)\n",
    "mean_embedded_title['pmid']=abstract_df.index.values\n",
    "mean_embedded_title.to_csv(os.path.join(out_dir, 'doctor_recommendation_w2vmodel1_dim300_mincount2_title.csv'),index=False)"
   ]
  },
  {
   "cell_type": "code",
   "execution_count": 21,
   "metadata": {},
   "outputs": [],
   "source": [
    "title_embedded_df=pd.read_csv(os.path.join(out_dir, 'doctor_recommendation_w2vmodel1_dim300_mincount2_title.csv'),index_col='pmid')"
   ]
  },
  {
   "cell_type": "code",
   "execution_count": 22,
   "metadata": {},
   "outputs": [
    {
     "data": {
      "text/html": [
       "<div>\n",
       "<style scoped>\n",
       "    .dataframe tbody tr th:only-of-type {\n",
       "        vertical-align: middle;\n",
       "    }\n",
       "\n",
       "    .dataframe tbody tr th {\n",
       "        vertical-align: top;\n",
       "    }\n",
       "\n",
       "    .dataframe thead th {\n",
       "        text-align: right;\n",
       "    }\n",
       "</style>\n",
       "<table border=\"1\" class=\"dataframe\">\n",
       "  <thead>\n",
       "    <tr style=\"text-align: right;\">\n",
       "      <th></th>\n",
       "      <th>0</th>\n",
       "      <th>1</th>\n",
       "      <th>2</th>\n",
       "      <th>3</th>\n",
       "      <th>4</th>\n",
       "      <th>5</th>\n",
       "      <th>6</th>\n",
       "      <th>7</th>\n",
       "      <th>8</th>\n",
       "      <th>9</th>\n",
       "      <th>...</th>\n",
       "      <th>290</th>\n",
       "      <th>291</th>\n",
       "      <th>292</th>\n",
       "      <th>293</th>\n",
       "      <th>294</th>\n",
       "      <th>295</th>\n",
       "      <th>296</th>\n",
       "      <th>297</th>\n",
       "      <th>298</th>\n",
       "      <th>299</th>\n",
       "    </tr>\n",
       "    <tr>\n",
       "      <th>pmid</th>\n",
       "      <th></th>\n",
       "      <th></th>\n",
       "      <th></th>\n",
       "      <th></th>\n",
       "      <th></th>\n",
       "      <th></th>\n",
       "      <th></th>\n",
       "      <th></th>\n",
       "      <th></th>\n",
       "      <th></th>\n",
       "      <th></th>\n",
       "      <th></th>\n",
       "      <th></th>\n",
       "      <th></th>\n",
       "      <th></th>\n",
       "      <th></th>\n",
       "      <th></th>\n",
       "      <th></th>\n",
       "      <th></th>\n",
       "      <th></th>\n",
       "      <th></th>\n",
       "    </tr>\n",
       "  </thead>\n",
       "  <tbody>\n",
       "    <tr>\n",
       "      <th>10079468</th>\n",
       "      <td>0.043508</td>\n",
       "      <td>-0.145683</td>\n",
       "      <td>-0.003363</td>\n",
       "      <td>-0.062995</td>\n",
       "      <td>-0.023418</td>\n",
       "      <td>-0.065873</td>\n",
       "      <td>0.022792</td>\n",
       "      <td>-0.009617</td>\n",
       "      <td>0.078370</td>\n",
       "      <td>-0.015118</td>\n",
       "      <td>...</td>\n",
       "      <td>0.074465</td>\n",
       "      <td>0.068084</td>\n",
       "      <td>0.002175</td>\n",
       "      <td>0.092497</td>\n",
       "      <td>-0.018361</td>\n",
       "      <td>-0.007818</td>\n",
       "      <td>-0.065528</td>\n",
       "      <td>0.015224</td>\n",
       "      <td>0.028849</td>\n",
       "      <td>-0.080949</td>\n",
       "    </tr>\n",
       "    <tr>\n",
       "      <th>10581602</th>\n",
       "      <td>0.015646</td>\n",
       "      <td>-0.068451</td>\n",
       "      <td>0.002268</td>\n",
       "      <td>-0.130716</td>\n",
       "      <td>-0.034557</td>\n",
       "      <td>-0.047113</td>\n",
       "      <td>0.028347</td>\n",
       "      <td>0.027775</td>\n",
       "      <td>0.146084</td>\n",
       "      <td>-0.028006</td>\n",
       "      <td>...</td>\n",
       "      <td>0.073708</td>\n",
       "      <td>0.130903</td>\n",
       "      <td>0.045108</td>\n",
       "      <td>0.209821</td>\n",
       "      <td>0.010566</td>\n",
       "      <td>0.003797</td>\n",
       "      <td>-0.089736</td>\n",
       "      <td>0.031670</td>\n",
       "      <td>0.090515</td>\n",
       "      <td>-0.117994</td>\n",
       "    </tr>\n",
       "    <tr>\n",
       "      <th>11719088</th>\n",
       "      <td>0.032940</td>\n",
       "      <td>-0.144001</td>\n",
       "      <td>-0.014008</td>\n",
       "      <td>-0.076589</td>\n",
       "      <td>-0.038869</td>\n",
       "      <td>-0.069392</td>\n",
       "      <td>0.026182</td>\n",
       "      <td>-0.016274</td>\n",
       "      <td>0.094527</td>\n",
       "      <td>-0.015636</td>\n",
       "      <td>...</td>\n",
       "      <td>0.068057</td>\n",
       "      <td>0.080621</td>\n",
       "      <td>0.015304</td>\n",
       "      <td>0.105873</td>\n",
       "      <td>-0.020142</td>\n",
       "      <td>0.001643</td>\n",
       "      <td>-0.043640</td>\n",
       "      <td>0.027093</td>\n",
       "      <td>0.025685</td>\n",
       "      <td>-0.112654</td>\n",
       "    </tr>\n",
       "    <tr>\n",
       "      <th>11719506</th>\n",
       "      <td>0.037736</td>\n",
       "      <td>-0.133117</td>\n",
       "      <td>-0.007689</td>\n",
       "      <td>-0.065408</td>\n",
       "      <td>-0.024347</td>\n",
       "      <td>-0.057728</td>\n",
       "      <td>0.024949</td>\n",
       "      <td>-0.002101</td>\n",
       "      <td>0.075098</td>\n",
       "      <td>-0.017079</td>\n",
       "      <td>...</td>\n",
       "      <td>0.057642</td>\n",
       "      <td>0.071253</td>\n",
       "      <td>0.005717</td>\n",
       "      <td>0.094854</td>\n",
       "      <td>-0.008470</td>\n",
       "      <td>-0.008511</td>\n",
       "      <td>-0.054831</td>\n",
       "      <td>0.020769</td>\n",
       "      <td>0.024674</td>\n",
       "      <td>-0.082620</td>\n",
       "    </tr>\n",
       "    <tr>\n",
       "      <th>11719516</th>\n",
       "      <td>0.040043</td>\n",
       "      <td>-0.130945</td>\n",
       "      <td>-0.011063</td>\n",
       "      <td>-0.066507</td>\n",
       "      <td>-0.037362</td>\n",
       "      <td>-0.075369</td>\n",
       "      <td>0.023908</td>\n",
       "      <td>-0.015028</td>\n",
       "      <td>0.087497</td>\n",
       "      <td>-0.025981</td>\n",
       "      <td>...</td>\n",
       "      <td>0.061453</td>\n",
       "      <td>0.084557</td>\n",
       "      <td>-0.007662</td>\n",
       "      <td>0.099031</td>\n",
       "      <td>-0.020641</td>\n",
       "      <td>-0.011468</td>\n",
       "      <td>-0.043598</td>\n",
       "      <td>0.027886</td>\n",
       "      <td>0.037550</td>\n",
       "      <td>-0.106598</td>\n",
       "    </tr>\n",
       "  </tbody>\n",
       "</table>\n",
       "<p>5 rows × 300 columns</p>\n",
       "</div>"
      ],
      "text/plain": [
       "                 0         1         2         3         4         5  \\\n",
       "pmid                                                                   \n",
       "10079468  0.043508 -0.145683 -0.003363 -0.062995 -0.023418 -0.065873   \n",
       "10581602  0.015646 -0.068451  0.002268 -0.130716 -0.034557 -0.047113   \n",
       "11719088  0.032940 -0.144001 -0.014008 -0.076589 -0.038869 -0.069392   \n",
       "11719506  0.037736 -0.133117 -0.007689 -0.065408 -0.024347 -0.057728   \n",
       "11719516  0.040043 -0.130945 -0.011063 -0.066507 -0.037362 -0.075369   \n",
       "\n",
       "                 6         7         8         9  ...       290       291  \\\n",
       "pmid                                              ...                       \n",
       "10079468  0.022792 -0.009617  0.078370 -0.015118  ...  0.074465  0.068084   \n",
       "10581602  0.028347  0.027775  0.146084 -0.028006  ...  0.073708  0.130903   \n",
       "11719088  0.026182 -0.016274  0.094527 -0.015636  ...  0.068057  0.080621   \n",
       "11719506  0.024949 -0.002101  0.075098 -0.017079  ...  0.057642  0.071253   \n",
       "11719516  0.023908 -0.015028  0.087497 -0.025981  ...  0.061453  0.084557   \n",
       "\n",
       "               292       293       294       295       296       297  \\\n",
       "pmid                                                                   \n",
       "10079468  0.002175  0.092497 -0.018361 -0.007818 -0.065528  0.015224   \n",
       "10581602  0.045108  0.209821  0.010566  0.003797 -0.089736  0.031670   \n",
       "11719088  0.015304  0.105873 -0.020142  0.001643 -0.043640  0.027093   \n",
       "11719506  0.005717  0.094854 -0.008470 -0.008511 -0.054831  0.020769   \n",
       "11719516 -0.007662  0.099031 -0.020641 -0.011468 -0.043598  0.027886   \n",
       "\n",
       "               298       299  \n",
       "pmid                          \n",
       "10079468  0.028849 -0.080949  \n",
       "10581602  0.090515 -0.117994  \n",
       "11719088  0.025685 -0.112654  \n",
       "11719506  0.024674 -0.082620  \n",
       "11719516  0.037550 -0.106598  \n",
       "\n",
       "[5 rows x 300 columns]"
      ]
     },
     "execution_count": 22,
     "metadata": {},
     "output_type": "execute_result"
    }
   ],
   "source": [
    "title_embedded_df.head()"
   ]
  },
  {
   "cell_type": "markdown",
   "metadata": {},
   "source": [
    "<a id='Part5_link'></a>\n",
    "# 5. Validate embedding performance"
   ]
  },
  {
   "cell_type": "markdown",
   "metadata": {},
   "source": [
    "<a id='Part5.1_link'></a>\n",
    "## 5.1 Consine similarity scores between abstracts and titles in entire dataset (pancancer)"
   ]
  },
  {
   "cell_type": "code",
   "execution_count": null,
   "metadata": {},
   "outputs": [],
   "source": [
    "def w2v_query(pmid, query):\n",
    "    mean_embedding_vectorizer = MeanEmbeddingVectorizer(word2vec)\n",
    "    mean_embedded_query = mean_embedding_vectorizer.fit_transform(np.array([query]))\n",
    "    ## Pan-cancer\n",
    "    similarity_score = cosine_similarity(X=abstract_embedded_df,Y=mean_embedded_query,dense_output=False)\n",
    "    similarity_df=pd.DataFrame({'pmid':abstract_embedded_df.index, 'w2v_score':similarity_score.squeeze()}).sort_values(by=['w2v_score'],ascending=False).reset_index().drop(['index'],axis=1)\n",
    "    return int(similarity_df.index[similary_df.pmid==pmid].values)"
   ]
  },
  {
   "cell_type": "code",
   "execution_count": null,
   "metadata": {},
   "outputs": [],
   "source": [
    "def w2v_query_subset(pmid, query):\n",
    "    mean_embedding_vectorizer = MeanEmbeddingVectorizer(word2vec)\n",
    "    mean_embedded_query = mean_embedding_vectorizer.fit_transform(np.array([query]))\n",
    "\n",
    "    similarity_score = cosine_similarity(X=subset_embedded_df,Y=mean_embedded_query,dense_output=False)\n",
    "    similarity_df=pd.DataFrame({'pmid':subset_embedded_df.index, 'w2v_score':similarity_score.squeeze()}).sort_values(by=['w2v_score'],ascending=False).reset_index().drop(['index'],axis=1)\n",
    "    return int(similarity_df.index[similarity_df.pmid==pmid].values)"
   ]
  },
  {
   "cell_type": "code",
   "execution_count": 185,
   "metadata": {},
   "outputs": [],
   "source": [
    "abstract_df['pmid'] = abstract_df.index"
   ]
  },
  {
   "cell_type": "code",
   "execution_count": 186,
   "metadata": {},
   "outputs": [],
   "source": [
    "abstract_df['similarity_rank'] = abstract_df.apply(lambda x:w2v_query(x.pmid,x.article_title),axis=1)"
   ]
  },
  {
   "cell_type": "code",
   "execution_count": 207,
   "metadata": {},
   "outputs": [],
   "source": [
    "abstract_df.to_csv(os.path.join(base_dir,'data/abstract_citation_annot_w2vRank_df_50930.csv'),index=False)"
   ]
  },
  {
   "cell_type": "code",
   "execution_count": 4,
   "metadata": {},
   "outputs": [],
   "source": [
    "base_dir='/Volumes/Yuchen_Drive/Insight/OncoMatch'\n",
    "abstract_df=pd.read_csv(os.path.join(base_dir,'data/abstract_citation_annot_w2vRank_df_50930.csv'),index_col='pmid')"
   ]
  },
  {
   "cell_type": "code",
   "execution_count": 8,
   "metadata": {},
   "outputs": [
    {
     "data": {
      "text/html": [
       "<div>\n",
       "<style scoped>\n",
       "    .dataframe tbody tr th:only-of-type {\n",
       "        vertical-align: middle;\n",
       "    }\n",
       "\n",
       "    .dataframe tbody tr th {\n",
       "        vertical-align: top;\n",
       "    }\n",
       "\n",
       "    .dataframe thead th {\n",
       "        text-align: right;\n",
       "    }\n",
       "</style>\n",
       "<table border=\"1\" class=\"dataframe\">\n",
       "  <thead>\n",
       "    <tr style=\"text-align: right;\">\n",
       "      <th></th>\n",
       "      <th>article_title</th>\n",
       "      <th>journal_title</th>\n",
       "      <th>journal_abbre</th>\n",
       "      <th>article_date</th>\n",
       "      <th>abstract</th>\n",
       "      <th>article_type</th>\n",
       "      <th>pub_days</th>\n",
       "      <th>citation</th>\n",
       "      <th>abstract_clean</th>\n",
       "      <th>Breast Cancer</th>\n",
       "      <th>...</th>\n",
       "      <th>Endometrial Cancer</th>\n",
       "      <th>Acute Lymphoblastic Leukemia (ALL)</th>\n",
       "      <th>Chronic Lymphocytic Leukemia (CLL)</th>\n",
       "      <th>Cardiac Tumors</th>\n",
       "      <th>Cervical Cancer</th>\n",
       "      <th>Esophageal Cancer</th>\n",
       "      <th>Thyroid Cancer</th>\n",
       "      <th>Rectal Cancer</th>\n",
       "      <th>similarity_rank</th>\n",
       "      <th>similarity_rank_percentile</th>\n",
       "    </tr>\n",
       "    <tr>\n",
       "      <th>pmid</th>\n",
       "      <th></th>\n",
       "      <th></th>\n",
       "      <th></th>\n",
       "      <th></th>\n",
       "      <th></th>\n",
       "      <th></th>\n",
       "      <th></th>\n",
       "      <th></th>\n",
       "      <th></th>\n",
       "      <th></th>\n",
       "      <th></th>\n",
       "      <th></th>\n",
       "      <th></th>\n",
       "      <th></th>\n",
       "      <th></th>\n",
       "      <th></th>\n",
       "      <th></th>\n",
       "      <th></th>\n",
       "      <th></th>\n",
       "      <th></th>\n",
       "      <th></th>\n",
       "    </tr>\n",
       "  </thead>\n",
       "  <tbody>\n",
       "    <tr>\n",
       "      <th>10079468</th>\n",
       "      <td>Chronic myelogenous leukemia: update on biolog...</td>\n",
       "      <td>Oncology (Williston Park, N.Y.)</td>\n",
       "      <td>Oncology (Williston Park, N.Y.)</td>\n",
       "      <td>1999-02-01</td>\n",
       "      <td>Chronic myelogenous leukemia (CML) is a myelop...</td>\n",
       "      <td>Comparative Study</td>\n",
       "      <td>7659.0</td>\n",
       "      <td>73.0</td>\n",
       "      <td>Chronic myelogenous CML is a disorder that fol...</td>\n",
       "      <td>0</td>\n",
       "      <td>...</td>\n",
       "      <td>0</td>\n",
       "      <td>0</td>\n",
       "      <td>0</td>\n",
       "      <td>0</td>\n",
       "      <td>0</td>\n",
       "      <td>0</td>\n",
       "      <td>0</td>\n",
       "      <td>0</td>\n",
       "      <td>19744</td>\n",
       "      <td>0.387669</td>\n",
       "    </tr>\n",
       "    <tr>\n",
       "      <th>10581602</th>\n",
       "      <td>Pain management in patients with advanced pros...</td>\n",
       "      <td>Oncology (Williston Park, N.Y.)</td>\n",
       "      <td>Oncology (Williston Park, N.Y.)</td>\n",
       "      <td>1999-11-01</td>\n",
       "      <td>Prostate cancer is the most commonly diagnosed...</td>\n",
       "      <td>Journal Article</td>\n",
       "      <td>7386.0</td>\n",
       "      <td>25.0</td>\n",
       "      <td>cancer is the most commonly diagnosed cancer a...</td>\n",
       "      <td>0</td>\n",
       "      <td>...</td>\n",
       "      <td>0</td>\n",
       "      <td>0</td>\n",
       "      <td>0</td>\n",
       "      <td>0</td>\n",
       "      <td>0</td>\n",
       "      <td>0</td>\n",
       "      <td>0</td>\n",
       "      <td>0</td>\n",
       "      <td>26172</td>\n",
       "      <td>0.513882</td>\n",
       "    </tr>\n",
       "    <tr>\n",
       "      <th>11719088</th>\n",
       "      <td>DNA adducts, genetic polymorphisms, and K-ras ...</td>\n",
       "      <td>Mutation research</td>\n",
       "      <td>Mutat. Res.</td>\n",
       "      <td>2002-01-01</td>\n",
       "      <td>To test the hypothesis that carcinogen exposur...</td>\n",
       "      <td>Journal Article</td>\n",
       "      <td>6594.0</td>\n",
       "      <td>68.0</td>\n",
       "      <td>To test the hypothesis that carcinogen exposur...</td>\n",
       "      <td>0</td>\n",
       "      <td>...</td>\n",
       "      <td>0</td>\n",
       "      <td>0</td>\n",
       "      <td>0</td>\n",
       "      <td>0</td>\n",
       "      <td>0</td>\n",
       "      <td>0</td>\n",
       "      <td>0</td>\n",
       "      <td>0</td>\n",
       "      <td>30101</td>\n",
       "      <td>0.591027</td>\n",
       "    </tr>\n",
       "    <tr>\n",
       "      <th>11719506</th>\n",
       "      <td>Gene expression profiling leads to identificat...</td>\n",
       "      <td>The Journal of biological chemistry</td>\n",
       "      <td>J. Biol. Chem.</td>\n",
       "      <td>2001-11-21</td>\n",
       "      <td>The zinc finger transcription factor GLI1, whi...</td>\n",
       "      <td>Journal Article</td>\n",
       "      <td>6635.0</td>\n",
       "      <td>255.0</td>\n",
       "      <td>The zinc finger transcription factor GLI1 whic...</td>\n",
       "      <td>0</td>\n",
       "      <td>...</td>\n",
       "      <td>0</td>\n",
       "      <td>0</td>\n",
       "      <td>0</td>\n",
       "      <td>0</td>\n",
       "      <td>0</td>\n",
       "      <td>0</td>\n",
       "      <td>0</td>\n",
       "      <td>0</td>\n",
       "      <td>748</td>\n",
       "      <td>0.014687</td>\n",
       "    </tr>\n",
       "    <tr>\n",
       "      <th>11719516</th>\n",
       "      <td>Compensation of BRG-1 function by Brm: insight...</td>\n",
       "      <td>The Journal of biological chemistry</td>\n",
       "      <td>J. Biol. Chem.</td>\n",
       "      <td>2001-11-21</td>\n",
       "      <td>The BRG-1 subunit of the SWI-SNF complex is in...</td>\n",
       "      <td>Journal Article</td>\n",
       "      <td>6635.0</td>\n",
       "      <td>82.0</td>\n",
       "      <td>The BRG-1 subunit of the SWI-SNF complex is in...</td>\n",
       "      <td>0</td>\n",
       "      <td>...</td>\n",
       "      <td>0</td>\n",
       "      <td>0</td>\n",
       "      <td>0</td>\n",
       "      <td>0</td>\n",
       "      <td>0</td>\n",
       "      <td>0</td>\n",
       "      <td>0</td>\n",
       "      <td>0</td>\n",
       "      <td>16497</td>\n",
       "      <td>0.323915</td>\n",
       "    </tr>\n",
       "  </tbody>\n",
       "</table>\n",
       "<p>5 rows × 39 columns</p>\n",
       "</div>"
      ],
      "text/plain": [
       "                                              article_title  \\\n",
       "pmid                                                          \n",
       "10079468  Chronic myelogenous leukemia: update on biolog...   \n",
       "10581602  Pain management in patients with advanced pros...   \n",
       "11719088  DNA adducts, genetic polymorphisms, and K-ras ...   \n",
       "11719506  Gene expression profiling leads to identificat...   \n",
       "11719516  Compensation of BRG-1 function by Brm: insight...   \n",
       "\n",
       "                                journal_title  \\\n",
       "pmid                                            \n",
       "10079468      Oncology (Williston Park, N.Y.)   \n",
       "10581602      Oncology (Williston Park, N.Y.)   \n",
       "11719088                    Mutation research   \n",
       "11719506  The Journal of biological chemistry   \n",
       "11719516  The Journal of biological chemistry   \n",
       "\n",
       "                            journal_abbre article_date  \\\n",
       "pmid                                                     \n",
       "10079468  Oncology (Williston Park, N.Y.)   1999-02-01   \n",
       "10581602  Oncology (Williston Park, N.Y.)   1999-11-01   \n",
       "11719088                      Mutat. Res.   2002-01-01   \n",
       "11719506                   J. Biol. Chem.   2001-11-21   \n",
       "11719516                   J. Biol. Chem.   2001-11-21   \n",
       "\n",
       "                                                   abstract  \\\n",
       "pmid                                                          \n",
       "10079468  Chronic myelogenous leukemia (CML) is a myelop...   \n",
       "10581602  Prostate cancer is the most commonly diagnosed...   \n",
       "11719088  To test the hypothesis that carcinogen exposur...   \n",
       "11719506  The zinc finger transcription factor GLI1, whi...   \n",
       "11719516  The BRG-1 subunit of the SWI-SNF complex is in...   \n",
       "\n",
       "               article_type  pub_days  citation  \\\n",
       "pmid                                              \n",
       "10079468  Comparative Study    7659.0      73.0   \n",
       "10581602    Journal Article    7386.0      25.0   \n",
       "11719088    Journal Article    6594.0      68.0   \n",
       "11719506    Journal Article    6635.0     255.0   \n",
       "11719516    Journal Article    6635.0      82.0   \n",
       "\n",
       "                                             abstract_clean  Breast Cancer  \\\n",
       "pmid                                                                         \n",
       "10079468  Chronic myelogenous CML is a disorder that fol...              0   \n",
       "10581602  cancer is the most commonly diagnosed cancer a...              0   \n",
       "11719088  To test the hypothesis that carcinogen exposur...              0   \n",
       "11719506  The zinc finger transcription factor GLI1 whic...              0   \n",
       "11719516  The BRG-1 subunit of the SWI-SNF complex is in...              0   \n",
       "\n",
       "          ...  Endometrial Cancer  Acute Lymphoblastic Leukemia (ALL)  \\\n",
       "pmid      ...                                                           \n",
       "10079468  ...                   0                                   0   \n",
       "10581602  ...                   0                                   0   \n",
       "11719088  ...                   0                                   0   \n",
       "11719506  ...                   0                                   0   \n",
       "11719516  ...                   0                                   0   \n",
       "\n",
       "          Chronic Lymphocytic Leukemia (CLL)  Cardiac Tumors  Cervical Cancer  \\\n",
       "pmid                                                                            \n",
       "10079468                                   0               0                0   \n",
       "10581602                                   0               0                0   \n",
       "11719088                                   0               0                0   \n",
       "11719506                                   0               0                0   \n",
       "11719516                                   0               0                0   \n",
       "\n",
       "          Esophageal Cancer  Thyroid Cancer  Rectal Cancer  similarity_rank  \\\n",
       "pmid                                                                          \n",
       "10079468                  0               0              0            19744   \n",
       "10581602                  0               0              0            26172   \n",
       "11719088                  0               0              0            30101   \n",
       "11719506                  0               0              0              748   \n",
       "11719516                  0               0              0            16497   \n",
       "\n",
       "          similarity_rank_percentile  \n",
       "pmid                                  \n",
       "10079468                    0.387669  \n",
       "10581602                    0.513882  \n",
       "11719088                    0.591027  \n",
       "11719506                    0.014687  \n",
       "11719516                    0.323915  \n",
       "\n",
       "[5 rows x 39 columns]"
      ]
     },
     "execution_count": 8,
     "metadata": {},
     "output_type": "execute_result"
    }
   ],
   "source": [
    "abstract_df['similarity_rank_percentile'] = abstract_df.similarity_rank/abstract_df.shape[0]\n",
    "abstract_df.head()"
   ]
  },
  {
   "cell_type": "code",
   "execution_count": 11,
   "metadata": {},
   "outputs": [
    {
     "data": {
      "text/plain": [
       "Text(0.5, 1.0, 'Ranking of similarity scores using Word2Vec embedding \\nin PanCancer datasets')"
      ]
     },
     "execution_count": 11,
     "metadata": {},
     "output_type": "execute_result"
    },
    {
     "data": {
      "image/png": "[encoded data removed]",
      "text/plain": [
       "<Figure size 432x288 with 1 Axes>"
      ]
     },
     "metadata": {
      "needs_background": "light"
     },
     "output_type": "display_data"
    }
   ],
   "source": [
    "plt.hist(abstract_df['similarity_rank_percentile'], bins=200)\n",
    "plt.xlabel('Ranking of similarity scores', fontsize=16)\n",
    "plt.ylabel('Number of articles', fontsize=16)\n",
    "plt.title('Ranking of similarity scores using Word2Vec embedding \\nin PanCancer datasets', fontsize=16)"
   ]
  },
  {
   "cell_type": "markdown",
   "metadata": {},
   "source": [
    "The Word2Vec model cannot predict article titles based on abstracts in the PanCancer dataset."
   ]
  },
  {
   "cell_type": "markdown",
   "metadata": {},
   "source": [
    "<a id='Part5.2_link'></a>\n",
    "## 5.2 Consine similarity scores between abstracts and titles in each cancer type"
   ]
  },
  {
   "cell_type": "code",
   "execution_count": 14,
   "metadata": {},
   "outputs": [],
   "source": [
    "cancertype_flattened_df=pd.read_csv(os.path.join(base_dir, \"data/cancertype_df2.csv\"))\n",
    "cancer_types=np.array(cancertype_flattened_df.cancer_type.value_counts().index)"
   ]
  },
  {
   "cell_type": "code",
   "execution_count": null,
   "metadata": {},
   "outputs": [],
   "source": [
    "for cancer_type in cancer_types:\n",
    "    print(cancer_type)\n",
    "    prefix=\"_\".join(i.lower() for i in cancer_type.split())\n",
    "    pmid_list = cancer2pmid_dict[cancer_type]\n",
    "    subset_df=abstract_df.loc[pmid_list]\n",
    "    subset_embedded_df=abstract_embedded_df.loc[subset_df.index]\n",
    "    print('subset_df: {}'.format(subset_df.shape))\n",
    "    subset_df['w2v_similarity_rank_{}'.format(prefix)] = subset_df.apply(lambda x:w2v_query_subset(x.pmid,x.article_title),axis=1)\n",
    "    subset_df.to_csv(os.path.join(base_dir, 'models_w2v/{}_w2v_similarity_score.csv'.format(prefix)), index=False)"
   ]
  },
  {
   "cell_type": "code",
   "execution_count": 5,
   "metadata": {},
   "outputs": [],
   "source": [
    "cancer_type = \"Breast Cancer\"\n",
    "prefix=\"_\".join(i.lower() for i in cancer_type.split())\n",
    "subset_df = pd.read_csv(os.path.join(base_dir, 'models_w2v/{}_w2v_similarity_score.csv'.format(prefix)))"
   ]
  },
  {
   "cell_type": "code",
   "execution_count": 6,
   "metadata": {},
   "outputs": [
    {
     "data": {
      "text/plain": [
       "Text(0.5, 1.0, 'Distribution of rank for w2v similarity scores')"
      ]
     },
     "execution_count": 6,
     "metadata": {},
     "output_type": "execute_result"
    },
    {
     "data": {
      "image/png": "[encoded data removed]",
      "text/plain": [
       "<Figure size 432x288 with 1 Axes>"
      ]
     },
     "metadata": {
      "needs_background": "light"
     },
     "output_type": "display_data"
    }
   ],
   "source": [
    "subset_df['w2v_similarity_rank_breast_cancer_percentile'] = subset_df['w2v_similarity_rank_breast_cancer']/subset_df.shape[0]\n",
    "plt.hist(subset_df.w2v_similarity_rank_breast_cancer_percentile, bins=100)\n",
    "plt.title('Distribution of rank for w2v similarity scores')"
   ]
  },
  {
   "cell_type": "markdown",
   "metadata": {},
   "source": [
    "The Word2Vec model has better performance to predict title based on abstracts when the dataset is filtered based on cancer type. The large percentage of lower ranking abstracts suggests that another model is needed."
   ]
  },
  {
   "cell_type": "code",
   "execution_count": 227,
   "metadata": {},
   "outputs": [],
   "source": [
    "def plot_w2v_similarity_rank(cancer_type):\n",
    "    prefix=\"_\".join(i.lower() for i in cancer_type.split())\n",
    "    subset_df = pd.read_csv(os.path.join(base_dir, 'models_w2v/{}_w2v_similarity_score.csv'.format(prefix)))\n",
    "    subset_df['w2v_similarity_rank_{}_percentile'.format(prefix)] = subset_df['w2v_similarity_rank_{}'.format(prefix)]/subset_df.shape[0]\n",
    "    \n",
    "    fig,ax=plt.subplots(1,1,figsize=(12,6))\n",
    "    sns.distplot(subset_df['w2v_similarity_rank_{}_percentile'.format(prefix)], hist=True,kde=False,bins=int(subset_df.shape[0]/50) if subset_df.shape[0]>1000 else 20,ax=ax,hist_kws={'edgecolor':'black'})\n",
    "    ax.set_xlim(0,1)\n",
    "    ax.set_xlabel('w2v_similarity_score_rank_percentile_{}'.format(prefix), fontsize=12)\n",
    "    ax.set_yticks([])\n",
    "    ax.set_title('Distribution of W2V similarity score rank for {}'.format(cancer_type), fontsize=18)\n",
    "    plt.show()\n",
    "    fig.savefig(os.path.join(base_dir, 'models_w2v/{}_w2v_similarity_score.png'.format(prefix)))"
   ]
  },
  {
   "cell_type": "code",
   "execution_count": null,
   "metadata": {},
   "outputs": [],
   "source": [
    "for cancer_type in cancer_types:\n",
    "    plot_w2v_similarity_rank(cancer_type)"
   ]
  },
  {
   "cell_type": "code",
   "execution_count": null,
   "metadata": {},
   "outputs": [],
   "source": []
  },
  {
   "cell_type": "code",
   "execution_count": null,
   "metadata": {},
   "outputs": [],
   "source": []
  },
  {
   "cell_type": "code",
   "execution_count": null,
   "metadata": {},
   "outputs": [],
   "source": []
  }
 ],
 "metadata": {
  "kernelspec": {
   "display_name": "Python 3",
   "language": "python",
   "name": "python3"
  },
  "language_info": {
   "codemirror_mode": {
    "name": "ipython",
    "version": 3
   },
   "file_extension": ".py",
   "mimetype": "text/x-python",
   "name": "python",
   "nbconvert_exporter": "python",
   "pygments_lexer": "ipython3",
   "version": "3.7.4"
  }
 },
 "nbformat": 4,
 "nbformat_minor": 2
}
