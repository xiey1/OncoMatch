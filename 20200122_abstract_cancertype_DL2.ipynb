{
 "cells": [
  {
   "cell_type": "code",
   "execution_count": 1,
   "metadata": {},
   "outputs": [
    {
     "name": "stderr",
     "output_type": "stream",
     "text": [
      "Using TensorFlow backend.\n"
     ]
    }
   ],
   "source": [
    "import pandas as pd\n",
    "import numpy as np\n",
    "import os\n",
    "import matplotlib.pyplot as plt\n",
    "%matplotlib inline\n",
    "import seaborn as sns\n",
    "from matplotlib_venn import venn2\n",
    "from collections import Counter\n",
    "from collections import defaultdict\n",
    "import time\n",
    "\n",
    "def warn(*args, **kwargs):\n",
    "    pass\n",
    "import warnings\n",
    "warnings.warn = warn\n",
    "\n",
    "import gensim\n",
    "from keras.preprocessing import text\n",
    "from keras.preprocessing import sequence\n",
    "import nltk\n",
    "from nltk.tokenize import word_tokenize\n",
    "from nltk.tokenize import sent_tokenize\n",
    "from nltk.stem import WordNetLemmatizer\n",
    "from nltk.corpus import stopwords\n",
    "from string import punctuation\n",
    "import pickle\n",
    "\n",
    "from sklearn.feature_extraction.text import CountVectorizer\n",
    "from sklearn.feature_extraction.text import TfidfVectorizer\n",
    "import nltk\n",
    "import itertools\n",
    "from sklearn.model_selection import StratifiedShuffleSplit\n",
    "from sklearn.model_selection import StratifiedKFold\n",
    "from sklearn.model_selection import train_test_split\n",
    "from sklearn.model_selection import validation_curve\n",
    "from sklearn.metrics import confusion_matrix\n",
    "from sklearn.metrics import recall_score\n",
    "from sklearn.metrics import precision_score\n",
    "from sklearn.metrics import f1_score\n",
    "from sklearn.metrics import accuracy_score\n",
    "from sklearn.metrics import roc_auc_score\n",
    "from sklearn.metrics import log_loss\n",
    "from sklearn.metrics import roc_curve\n",
    "from sklearn.metrics import auc\n",
    "\n",
    "import io\n",
    "import json\n",
    "from tqdm._tqdm_notebook import tqdm_notebook as tqdm\n",
    "import torch\n",
    "from torch.utils.data import TensorDataset, DataLoader\n",
    "import torch.nn as nn\n",
    "from torch.nn import functional as F"
   ]
  },
  {
   "cell_type": "code",
   "execution_count": 2,
   "metadata": {},
   "outputs": [],
   "source": [
    "base_dir='/Volumes/Yuchen_Drive/Insight/OncoMatch'\n",
    "abstract_df=pd.read_csv(os.path.join(base_dir, 'data/abstract_citation_df_50930.csv'),index_col='pmid')\n",
    "cancertype_flattened_df=pickle.load(open(os.path.join(base_dir, \"data/cancertype_df2.pkl\"),\"rb\"))"
   ]
  },
  {
   "cell_type": "code",
   "execution_count": 69,
   "metadata": {},
   "outputs": [
    {
     "name": "stdout",
     "output_type": "stream",
     "text": [
      "unique pmid with cancer types: 42455\n",
      "unique cancer types: 55\n"
     ]
    }
   ],
   "source": [
    "print('unique pmid with cancer types: {}'.format(cancertype_flattened_df.pmid.nunique()))\n",
    "print('unique cancer types: {}'.format(cancertype_flattened_df.cancer_type.nunique()))"
   ]
  },
  {
   "cell_type": "code",
   "execution_count": 70,
   "metadata": {},
   "outputs": [
    {
     "name": "stdout",
     "output_type": "stream",
     "text": [
      "55\n"
     ]
    }
   ],
   "source": [
    "cancertype_array=cancertype_flattened_df.cancer_type.unique()\n",
    "print(len(cancertype_array))"
   ]
  },
  {
   "cell_type": "code",
   "execution_count": 71,
   "metadata": {},
   "outputs": [
    {
     "data": {
      "text/plain": [
       "(42455, 8)"
      ]
     },
     "execution_count": 71,
     "metadata": {},
     "output_type": "execute_result"
    }
   ],
   "source": [
    "abstract_train_df=abstract_df.loc[cancertype_flattened_df.pmid.unique(),:]\n",
    "abstract_train_df.shape"
   ]
  },
  {
   "cell_type": "code",
   "execution_count": 72,
   "metadata": {},
   "outputs": [
    {
     "data": {
      "text/plain": [
       "(8475, 8)"
      ]
     },
     "execution_count": 72,
     "metadata": {},
     "output_type": "execute_result"
    }
   ],
   "source": [
    "abstract_test_df=abstract_df.loc[np.setdiff1d(abstract_df.index, cancertype_flattened_df.pmid.unique()),:]\n",
    "abstract_test_df.shape"
   ]
  },
  {
   "cell_type": "code",
   "execution_count": 6,
   "metadata": {},
   "outputs": [],
   "source": [
    "#stop_word1 = gensim.parsing.preprocessing.STOPWORDS   ## 337\n",
    "#stop_word2 = nltk.corpus.stopwords.words('english')   ## 179\n",
    "punct = \"/-'?!.,#$%\\'()*+-/:;<=>@[\\\\]^_`{|}~`\" + '\"\"“”’' + '∞θ÷α•à−β∅³π‘₹´°£€\\×™√²—–&'\n",
    "cancertype_words = ['adrenocortical', 'anal', 'appendix', 'bladder', 'bone', 'breast', 'cervical', 'gallbladder', 'ovarian', 'penile', 'prostate', 'rectal', 'skin', 'thyroid', 'vaginal', 'vulvar', 'urethral', 'parathyroid',\n",
    "                    'carcinoid', 'pituitary', 'wilms', 'rhabdoid', 'melanoma', 'mesothelioma', 'neuroblastoma', 'osteosarcoma', 'pheochromocytoma', 'retinoblastoma', 'rhabdomyosarcoma', 'sarcoma',\n",
    "                    'bile', 'colorectal', 'colon', 'cardiac', 'heart', 'endometrial', 'uterine', 'endometrium', 'uterus', 'esophageal', 'esophagus', 'ewing', 'sarcoma', 'fallopian', 'gastric', 'stomach', 'gastrointestinal',\n",
    "                    'esthesioneuroblastoma', 'hypopharyngeal', 'laryngeal', 'nasopharyngeal', 'pharyngeal', 'salivary', 'oropharyngeal', 'neck', 'kidney', 'renal', 'leukemia', 'liver', 'hepatocellular', 'hepatocyte', 'hepatoblastoma',\n",
    "                    'lung', 'bronchial', 'pleuropulmonar', 'tracheobronchial', 'non-small', 'lymphoma', 'non-hodgkin', 'hodgkin', 'burkitt', 'myeloma', 'myeloproliferative', 'myelodysplastic', 'pancreatic', 'pancreas', 'testicular', 'testicle', 'testicles', 'testis',\n",
    "                    'Lung', 'Breast', 'Colon', 'Kidney', 'Leukemia', 'Lymphoma', 'brain', 'Brain']\n",
    "#stop_words = set(list(stop_word1)+stop_word2+list(punct)+custom_words+cancertype_words)   ## 572\n",
    "stop_words = set(list(punct)+cancertype_words)   ## 143"
   ]
  },
  {
   "cell_type": "code",
   "execution_count": 7,
   "metadata": {},
   "outputs": [
    {
     "name": "stdout",
     "output_type": "stream",
     "text": [
      "145\n"
     ]
    }
   ],
   "source": [
    "print(len(stop_words))"
   ]
  },
  {
   "cell_type": "code",
   "execution_count": 8,
   "metadata": {},
   "outputs": [],
   "source": [
    "def preprocess(text):\n",
    "    result=[]\n",
    "    for sent in sent_tokenize(text):\n",
    "        for token in word_tokenize(sent):\n",
    "            if token.lower() not in stop_words:\n",
    "                result.append(token)\n",
    "    return \" \".join(result)"
   ]
  },
  {
   "cell_type": "code",
   "execution_count": 9,
   "metadata": {},
   "outputs": [],
   "source": [
    "abstract_train_df['abstract_clean'] = abstract_train_df.abstract.apply(lambda x:preprocess(x))\n",
    "abstract_test_df['abstract_clean'] = abstract_test_df.abstract.apply(lambda x:preprocess(x))"
   ]
  },
  {
   "cell_type": "code",
   "execution_count": 64,
   "metadata": {
    "scrolled": true
   },
   "outputs": [
    {
     "data": {
      "text/plain": [
       "Breast Cancer                         7757\n",
       "Lung Cancer                           5201\n",
       "Leukemia                              4755\n",
       "Prostate Cancer                       3878\n",
       "Colorectal Cancer                     3412\n",
       "Lymphoma                              2939\n",
       "Bone Cancer                           2788\n",
       "Melanoma                              2459\n",
       "Liver Cancer                          2422\n",
       "Kidney Cancer                         2262\n",
       "Ovarian Cancer                        2216\n",
       "Pancreatic Cancer                     1992\n",
       "Brain Tumor                           1956\n",
       "Head and Neck Cancer                  1914\n",
       "Acute Myeloid Leukemia (AML)          1488\n",
       "Multiple Myeloma                      1413\n",
       "Sarcoma                               1407\n",
       "Bladder Cancer                        1013\n",
       "Skin Cancer                           1008\n",
       "Gastric Cancer                         996\n",
       "Gastrointestinal Tumor                 989\n",
       "Endometrial Cancer                     962\n",
       "Acute Lymphoblastic Leukemia (ALL)     903\n",
       "Chronic Lymphocytic Leukemia (CLL)     803\n",
       "Cardiac Tumors                         797\n",
       "Cervical Cancer                        788\n",
       "Esophageal Cancer                      745\n",
       "Thyroid Cancer                         687\n",
       "Rectal Cancer                          655\n",
       "Myeloproliferative Neoplasms           573\n",
       "Neuroblastoma                          368\n",
       "Testicular Cancer                      295\n",
       "Osteosarcoma                           291\n",
       "Chronic Myelogenous Leukemia (CML)     282\n",
       "Mesothelioma                           247\n",
       "Ewing Sarcoma                          217\n",
       "Vaginal Cancer                         199\n",
       "Anal Cancer                            199\n",
       "Retinoblastoma                         194\n",
       "Fallopian Tube Cancer                  172\n",
       "Gallbladder Cancer                     170\n",
       "Carcinoid Tumor                        141\n",
       "Wilms Tumor                            139\n",
       "Bile Duct Cancer                       115\n",
       "Pituitary Tumor                        106\n",
       "Burkitt Lymphoma                        82\n",
       "Rhabdoid Tumor                          64\n",
       "Penile Cancer                           64\n",
       "Adrenocortical Cancer                   59\n",
       "Vulvar Cancer                           57\n",
       "Mycosis Fungoides                       56\n",
       "Hairy Cell Leukemia                     54\n",
       "Parathyroid Cancer                      39\n",
       "Urethral Cancer                         35\n",
       "Appendix Cancer                         30\n",
       "Name: cancer_type, dtype: int64"
      ]
     },
     "execution_count": 64,
     "metadata": {},
     "output_type": "execute_result"
    }
   ],
   "source": [
    "cancertype_flattened_df.cancer_type.value_counts()"
   ]
  },
  {
   "cell_type": "code",
   "execution_count": 27,
   "metadata": {},
   "outputs": [],
   "source": [
    "cancer_types= np.array(cancertype_flattened_df.cancer_type.value_counts().index)[:29]"
   ]
  },
  {
   "cell_type": "code",
   "execution_count": 28,
   "metadata": {},
   "outputs": [
    {
     "name": "stdout",
     "output_type": "stream",
     "text": [
      "29\n"
     ]
    }
   ],
   "source": [
    "print(len(cancer_types))"
   ]
  },
  {
   "cell_type": "code",
   "execution_count": 78,
   "metadata": {},
   "outputs": [
    {
     "name": "stdout",
     "output_type": "stream",
     "text": [
      "7757 pmid for Breast Cancer\n",
      "5201 pmid for Lung Cancer\n",
      "4755 pmid for Leukemia\n",
      "3878 pmid for Prostate Cancer\n",
      "3412 pmid for Colorectal Cancer\n",
      "2939 pmid for Lymphoma\n",
      "2788 pmid for Bone Cancer\n",
      "2459 pmid for Melanoma\n",
      "2422 pmid for Liver Cancer\n",
      "2262 pmid for Kidney Cancer\n",
      "2216 pmid for Ovarian Cancer\n",
      "1992 pmid for Pancreatic Cancer\n",
      "1956 pmid for Brain Tumor\n",
      "1914 pmid for Head and Neck Cancer\n",
      "1488 pmid for Acute Myeloid Leukemia (AML)\n",
      "1413 pmid for Multiple Myeloma\n",
      "1407 pmid for Sarcoma\n",
      "1013 pmid for Bladder Cancer\n",
      "1008 pmid for Skin Cancer\n",
      "996 pmid for Gastric Cancer\n",
      "989 pmid for Gastrointestinal Tumor\n",
      "962 pmid for Endometrial Cancer\n",
      "903 pmid for Acute Lymphoblastic Leukemia (ALL)\n",
      "803 pmid for Chronic Lymphocytic Leukemia (CLL)\n",
      "797 pmid for Cardiac Tumors\n",
      "788 pmid for Cervical Cancer\n",
      "745 pmid for Esophageal Cancer\n",
      "687 pmid for Thyroid Cancer\n",
      "655 pmid for Rectal Cancer\n"
     ]
    }
   ],
   "source": [
    "abstract_train_df['pmid']=abstract_train_df.index\n",
    "for i in cancer_types:\n",
    "    cancer_pmid=cancertype_flattened_df[cancertype_flattened_df.cancer_type==i].pmid.unique()\n",
    "    print('{} pmid for {}'.format(len(cancer_pmid), i))\n",
    "    abstract_train_df[i]=abstract_train_df.pmid.apply(lambda x: 1 if x in cancer_pmid else 0)"
   ]
  },
  {
   "cell_type": "code",
   "execution_count": 79,
   "metadata": {},
   "outputs": [
    {
     "data": {
      "text/plain": [
       "0    34698\n",
       "1     7757\n",
       "Name: Breast Cancer, dtype: int64"
      ]
     },
     "execution_count": 79,
     "metadata": {},
     "output_type": "execute_result"
    }
   ],
   "source": [
    "abstract_train_df['Breast Cancer'].value_counts()"
   ]
  },
  {
   "cell_type": "code",
   "execution_count": 80,
   "metadata": {},
   "outputs": [
    {
     "data": {
      "text/plain": [
       "(42455, 38)"
      ]
     },
     "execution_count": 80,
     "metadata": {},
     "output_type": "execute_result"
    }
   ],
   "source": [
    "abstract_train_df.shape"
   ]
  },
  {
   "cell_type": "markdown",
   "metadata": {},
   "source": [
    "### Vectorize corpus of text"
   ]
  },
  {
   "cell_type": "code",
   "execution_count": 12,
   "metadata": {},
   "outputs": [],
   "source": [
    "## generate vocabulary based on a list of texts.\n",
    "tokenizer=text.Tokenizer()\n",
    "tokenizer.fit_on_texts(list(abstract_train_df.abstract_clean)+list(abstract_test_df.abstract_clean))"
   ]
  },
  {
   "cell_type": "code",
   "execution_count": 15,
   "metadata": {},
   "outputs": [
    {
     "name": "stdout",
     "output_type": "stream",
     "text": [
      "Total number of documents: 50930\n",
      "Size of the vocabulary: 80064\n",
      "Here are examples of 'tokenizer.word_index':\n",
      "['of', 'and', 'the', 'in', 'with', 'to', 'patients', 'a', 'for', 'was']\n",
      "[1, 2, 3, 4, 5, 6, 7, 8, 9, 10]\n"
     ]
    }
   ],
   "source": [
    "print('Total number of documents: {}'.format(tokenizer.document_count))\n",
    "print('Size of the vocabulary: {}'.format(len(tokenizer.word_index.keys())))\n",
    "print(\"Here are examples of 'tokenizer.word_index':\")\n",
    "print(list(tokenizer.word_index.keys())[:10])\n",
    "print(list(tokenizer.word_index.values())[:10])"
   ]
  },
  {
   "cell_type": "code",
   "execution_count": 16,
   "metadata": {},
   "outputs": [],
   "source": [
    "## Transforms each text in texts to a sequence of integers.\n",
    "abstract_train_df['text_clean_seq']=tokenizer.texts_to_sequences(abstract_train_df.abstract_clean)\n",
    "abstract_test_df['text_clean_seq']=tokenizer.texts_to_sequences(abstract_test_df.abstract_clean)"
   ]
  },
  {
   "cell_type": "markdown",
   "metadata": {},
   "source": [
    "### Build embedding matrix"
   ]
  },
  {
   "cell_type": "code",
   "execution_count": 17,
   "metadata": {},
   "outputs": [],
   "source": [
    "CRAWL_EMBEDDING_PATH = '/Volumes/Yuchen_Drive/Toxic_Comment/crawl-300d-2M.vec'\n",
    "GLOVE_EMBEDDING_PATH = '/Volumes/Yuchen_Drive/Toxic_Comment/glove.840B.300d.txt'"
   ]
  },
  {
   "cell_type": "code",
   "execution_count": 18,
   "metadata": {},
   "outputs": [],
   "source": [
    "def get_coefs(word, *arr):\n",
    "    \"\"\"\n",
    "    Credit goes to https://www.kaggle.com/bminixhofer/simple-lstm-pytorch-version\n",
    "    \"\"\"\n",
    "    return word, np.asarray(arr, dtype='float32')\n",
    "\n",
    "def load_embeddings(path):\n",
    "    \"\"\"\n",
    "    Credit goes to https://www.kaggle.com/bminixhofer/simple-lstm-pytorch-version\n",
    "    \"\"\"\n",
    "    with open(path) as f:\n",
    "        return dict([get_coefs(*line.strip().split(' ')) for line in tqdm(f)])"
   ]
  },
  {
   "cell_type": "code",
   "execution_count": 19,
   "metadata": {},
   "outputs": [],
   "source": [
    "def build_matrix(word_index, path):\n",
    "    \"\"\"\n",
    "    Credit goes to https://www.kaggle.com/bminixhofer/simple-lstm-pytorch-version\n",
    "    \"\"\"\n",
    "    embedding_index = load_embeddings(path)\n",
    "    embedding_matrix = np.zeros((len(word_index)+1, 300))\n",
    "    unknown_words = []\n",
    "    for word, i in word_index.items():\n",
    "        try:\n",
    "            embedding_matrix[i] = embedding_index[word]\n",
    "        except KeyError:\n",
    "            unknown_words.append(word)\n",
    "    return embedding_matrix, unknown_words"
   ]
  },
  {
   "cell_type": "code",
   "execution_count": 20,
   "metadata": {},
   "outputs": [
    {
     "data": {
      "application/vnd.jupyter.widget-view+json": {
       "model_id": "489298801e7c4b3cbb0c445ea6e549ac",
       "version_major": 2,
       "version_minor": 0
      },
      "text/plain": [
       "HBox(children=(IntProgress(value=1, bar_style='info', max=1), HTML(value='')))"
      ]
     },
     "metadata": {},
     "output_type": "display_data"
    },
    {
     "name": "stdout",
     "output_type": "stream",
     "text": [
      "\n"
     ]
    },
    {
     "data": {
      "application/vnd.jupyter.widget-view+json": {
       "model_id": "3a49328859614e7bb9516341e3f97b40",
       "version_major": 2,
       "version_minor": 0
      },
      "text/plain": [
       "HBox(children=(IntProgress(value=1, bar_style='info', max=1), HTML(value='')))"
      ]
     },
     "metadata": {},
     "output_type": "display_data"
    },
    {
     "name": "stdout",
     "output_type": "stream",
     "text": [
      "\n",
      "Number of total features: 80064\n",
      "Number of unknown words (crawl): 34158\n",
      "Number of unknown words (glove): 35005\n"
     ]
    }
   ],
   "source": [
    "crawl_matrix, unknown_words_crawl = build_matrix(tokenizer.word_index, CRAWL_EMBEDDING_PATH)\n",
    "glove_matrix, unknown_words_glove = build_matrix(tokenizer.word_index, GLOVE_EMBEDDING_PATH)\n",
    "print(\"Number of total features: {}\".format(len(tokenizer.word_index)))\n",
    "print('Number of unknown words (crawl): {}'.format(len(unknown_words_crawl)))\n",
    "print('Number of unknown words (glove): {}'.format(len(unknown_words_glove)))"
   ]
  },
  {
   "cell_type": "code",
   "execution_count": 21,
   "metadata": {},
   "outputs": [
    {
     "name": "stdout",
     "output_type": "stream",
     "text": [
      "crawl_matrix: (80065, 300)\n",
      "glove_matrix: (80065, 300)\n",
      "embedding_matrix: (80065, 600)\n"
     ]
    }
   ],
   "source": [
    "embedding_matrix = np.concatenate([crawl_matrix, glove_matrix], axis = 1)\n",
    "print(\"crawl_matrix: {}\".format(crawl_matrix.shape))\n",
    "print(\"glove_matrix: {}\".format(glove_matrix.shape))\n",
    "print(\"embedding_matrix: {}\".format(embedding_matrix.shape))"
   ]
  },
  {
   "cell_type": "code",
   "execution_count": 78,
   "metadata": {},
   "outputs": [],
   "source": [
    "pickle.dump(embedding_matrix, open(os.path.join(base_dir, \"data/embedding_matrix2.pkl\"), \"wb\"))"
   ]
  },
  {
   "cell_type": "code",
   "execution_count": 22,
   "metadata": {},
   "outputs": [],
   "source": [
    "del crawl_matrix\n",
    "del glove_matrix"
   ]
  },
  {
   "cell_type": "markdown",
   "metadata": {},
   "source": [
    "### Split annotated datasets to training and validation sets based on specific cancer_type"
   ]
  },
  {
   "cell_type": "code",
   "execution_count": 5,
   "metadata": {},
   "outputs": [],
   "source": [
    "cancer_prefix_dict={'Breast Cancer':'Doctor_recommendation_RNN4_breast_epoch100_lr5_gpu',\n",
    "                   'Lung Cancer':'Doctor_recommendation_RNN4_lung_epoch100_lr5_gpu',\n",
    "                   'Leukemia':'Doctor_recommendation_RNN4_leukemia_epoch100_lr5_gpu',\n",
    "                   'Prostate Cancer':'Doctor_recommendation_RNN4_prostate_epoch100_lr5_gpu',\n",
    "                   'Colorectal Cancer':'Doctor_recommendation_RNN4_colorectal_epoch100_lr5_gpu',\n",
    "                   'Lymphoma':'Doctor_recommendation_RNN4_lymphoma_epoch100_lr5_gpu',\n",
    "                   'Bone Cancer':'Doctor_recommendation_RNN4_bone_epoch100_lr5_gpu',\n",
    "                   'Melanoma':'Doctor_recommendation_RNN4_melanoma_epoch100_lr5_gpu',\n",
    "                   'Liver Cancer':'Doctor_recommendation_RNN4_liver_epoch100_lr5_gpu',\n",
    "                   'Kidney Cancer':'Doctor_recommendation_RNN4_kidney_epoch100_lr5_gpu',\n",
    "                   'Ovarian Cancer':'Doctor_recommendation_RNN4_ovarian_epoch100_lr5_gpu',\n",
    "                   'Pancreatic Cancer':'Doctor_recommendation_RNN4_pancreatic_epoch100_lr5_gpu',\n",
    "                   'Brain Tumor':'Doctor_recommendation_RNN4_brain_epoch100_lr5_gpu',\n",
    "                   'Head and Neck Cancer':'Doctor_recommendation_RNN4_head_and_neck_epoch100_lr5_gpu',\n",
    "                   'Acute Myeloid Leukemia (AML)':'Doctor_recommendation_RNN4_aml_epoch100_lr5_gpu',\n",
    "                   'Multiple Myeloma':'Doctor_recommendation_RNN4_multiple_myeloma_epoch100_lr5_gpu',\n",
    "                   'Sarcoma':'Doctor_recommendation_RNN4_sarcoma_epoch100_lr5_gpu',\n",
    "                   'Bladder Cancer':'Doctor_recommendation_RNN4_bladder_epoch100_lr5_gpu',\n",
    "                   'Skin Cancer':'Doctor_recommendation_RNN4_skin_epoch100_lr5_gpu',\n",
    "                   'Gastric Cancer':'Doctor_recommendation_RNN4_gastric_epoch100_lr5_gpu',\n",
    "                   'Gastrointestinal Tumor':'Doctor_recommendation_RNN4_gastrointestinal_epoch100_lr5_gpu',\n",
    "                   'Endometrial Cancer':'Doctor_recommendation_RNN4_endometrial_epoch100_lr5_gpu',\n",
    "                   'Acute Lymphoblastic Leukemia (ALL)':'Doctor_recommendation_RNN4_all_epoch100_lr5_gpu',\n",
    "                   'Chronic Lymphocytic Leukemia (CLL)':'Doctor_recommendation_RNN4_cll_epoch100_lr5_gpu',\n",
    "                   'Cardiac Tumors':'Doctor_recommendation_RNN4_cardiac_epoch100_lr5_gpu',\n",
    "                   'Cervical Cancer':'Doctor_recommendation_RNN4_cervical_epoch100_lr5_gpu',\n",
    "                   'Esophageal Cancer':'Doctor_recommendation_RNN4_esophageal_epoch100_lr5_gpu',\n",
    "                   'Thyroid Cancer':'Doctor_recommendation_RNN4_thyroid_epoch100_lr5_gpu',\n",
    "                   'Rectal Cancer':'Doctor_recommendation_RNN4_rectal_epoch100_lr5_gpu'\n",
    "                   }\n"
   ]
  },
  {
   "cell_type": "code",
   "execution_count": 6,
   "metadata": {},
   "outputs": [],
   "source": [
    "cancer_type='Breast Cancer'\n",
    "prefix=cancer_prefix_dict[cancer_type]"
   ]
  },
  {
   "cell_type": "code",
   "execution_count": 75,
   "metadata": {},
   "outputs": [
    {
     "data": {
      "text/plain": [
       "(42455, 8)"
      ]
     },
     "execution_count": 75,
     "metadata": {},
     "output_type": "execute_result"
    }
   ],
   "source": [
    "abstract_train_df.shape"
   ]
  },
  {
   "cell_type": "code",
   "execution_count": 83,
   "metadata": {},
   "outputs": [
    {
     "name": "stdout",
     "output_type": "stream",
     "text": [
      "Number of samples in training set: 33964\n",
      "Number of samples in validation set: 4245\n",
      "Number of samples in testing set: 4246\n",
      "Number of samples in testing dataset: 8475\n"
     ]
    }
   ],
   "source": [
    "train_set,val_set=train_test_split(abstract_train_df,train_size=0.8,stratify=abstract_train_df[cancer_type],random_state=8)\n",
    "val_set,test_set=train_test_split(val_set,train_size=0.5,stratify=val_set[cancer_type],random_state=8)\n",
    "print('Number of samples in training set: {}'.format(train_set.shape[0]))\n",
    "print('Number of samples in validation set: {}'.format(val_set.shape[0]))\n",
    "print('Number of samples in testing set: {}'.format(test_set.shape[0]))\n",
    "print('Number of samples in testing dataset: {}'.format(abstract_test_df.shape[0]))"
   ]
  },
  {
   "cell_type": "code",
   "execution_count": 84,
   "metadata": {},
   "outputs": [],
   "source": [
    "abstract_train_df['text_length']=abstract_train_df['abstract_clean'].apply(lambda x:len(x))"
   ]
  },
  {
   "cell_type": "code",
   "execution_count": 85,
   "metadata": {},
   "outputs": [
    {
     "name": "stderr",
     "output_type": "stream",
     "text": [
      "/Library/Frameworks/Python.framework/Versions/3.6/lib/python3.6/site-packages/scipy/stats/stats.py:1713: FutureWarning: Using a non-tuple sequence for multidimensional indexing is deprecated; use `arr[tuple(seq)]` instead of `arr[seq]`. In the future this will be interpreted as an array index, `arr[np.array(seq)]`, which will result either in an error or a different result.\n",
      "  return np.add.reduce(sorted[indexer] * weights, axis=axis) / sumval\n"
     ]
    },
    {
     "data": {
      "text/plain": [
       "Text(0, 0.5, 'Density')"
      ]
     },
     "execution_count": 85,
     "metadata": {},
     "output_type": "execute_result"
    },
    {
     "data": {
      "image/png": "[encoded data removed]",
      "text/plain": [
       "<Figure size 432x432 with 1 Axes>"
      ]
     },
     "metadata": {
      "needs_background": "light"
     },
     "output_type": "display_data"
    }
   ],
   "source": [
    "fig,ax=plt.subplots(1,1,figsize=(6,6))\n",
    "palette=['blue','red']\n",
    "for i in range(2):\n",
    "    sns.distplot(abstract_train_df[abstract_train_df[cancer_type]==i].text_length,color=palette[i],hist=False,ax=ax,label='Class{}'.format(i))\n",
    "ax.set_title('Distribution of text length in each class',fontsize=12)\n",
    "ax.set_xlabel('Number of words per text', fontsize=12)\n",
    "ax.set_yticks([])\n",
    "ax.set_ylabel('Density',fontsize=12)"
   ]
  },
  {
   "cell_type": "markdown",
   "metadata": {},
   "source": [
    "### Padding sequence"
   ]
  },
  {
   "cell_type": "code",
   "execution_count": 86,
   "metadata": {},
   "outputs": [],
   "source": [
    "## Pads sequences to the same length.\n",
    "MAX_LEN=2000\n",
    "train_x=sequence.pad_sequences(train_set.text_clean_seq,maxlen=MAX_LEN)\n",
    "val_x=sequence.pad_sequences(val_set.text_clean_seq,maxlen=MAX_LEN)\n",
    "test_x=sequence.pad_sequences(abstract_test_df.text_clean_seq,maxlen=MAX_LEN)"
   ]
  },
  {
   "cell_type": "code",
   "execution_count": 87,
   "metadata": {},
   "outputs": [
    {
     "name": "stdout",
     "output_type": "stream",
     "text": [
      "train_x.shape: (33964, 2000)\n",
      "val_x.shape: (8491, 2000)\n",
      "test_x.shape: (8475, 2000)\n"
     ]
    }
   ],
   "source": [
    "print('train_x.shape: {}'.format(train_x.shape))\n",
    "print('val_x.shape: {}'.format(val_x.shape))\n",
    "print('test_x.shape: {}'.format(test_x.shape))"
   ]
  },
  {
   "cell_type": "markdown",
   "metadata": {},
   "source": [
    "### Generate TensorDataset and DataLoader"
   ]
  },
  {
   "cell_type": "code",
   "execution_count": 88,
   "metadata": {},
   "outputs": [],
   "source": [
    "train_data=TensorDataset(torch.tensor(train_x, dtype=torch.long),torch.tensor((train_set[cancer_type]).to_numpy(), dtype=torch.long))\n",
    "val_data=TensorDataset(torch.tensor(val_x, dtype=torch.long),torch.tensor((val_set[cancer_type]).to_numpy(), dtype=torch.long))\n",
    "test_data=TensorDataset(torch.tensor(test_x, dtype=torch.long))"
   ]
  },
  {
   "cell_type": "code",
   "execution_count": 89,
   "metadata": {},
   "outputs": [],
   "source": [
    "# BATCH_SIZE=128\n",
    "BATCH_SIZE=64\n",
    "train_loader=DataLoader(train_data,shuffle=True,batch_size=BATCH_SIZE)\n",
    "val_loader=DataLoader(val_data,shuffle=True,batch_size=BATCH_SIZE)\n",
    "test_loader=DataLoader(test_data,batch_size=BATCH_SIZE)"
   ]
  },
  {
   "cell_type": "code",
   "execution_count": 90,
   "metadata": {},
   "outputs": [
    {
     "name": "stdout",
     "output_type": "stream",
     "text": [
      "Input size: torch.Size([64, 2000])\n",
      "labels size: torch.Size([64])\n"
     ]
    }
   ],
   "source": [
    "inputs,labels=next(iter(train_loader))\n",
    "print('Input size: {}'.format(inputs.shape))\n",
    "print('labels size: {}'.format(labels.shape))"
   ]
  },
  {
   "cell_type": "markdown",
   "metadata": {},
   "source": [
    "### Build PM_RNN4 model "
   ]
  },
  {
   "cell_type": "code",
   "execution_count": 91,
   "metadata": {},
   "outputs": [],
   "source": [
    "class SpatialDropout(nn.Dropout2d):\n",
    "    def forward(self, x):\n",
    "        x = x.unsqueeze(2)    # (N, T, 1, K)\n",
    "        x = x.permute(0, 3, 2, 1)  # (N, K, 1, T)\n",
    "        x = super(SpatialDropout, self).forward(x)  # (N, K, 1, T), some features are masked\n",
    "        x = x.permute(0, 3, 2, 1)  # (N, T, 1, K)\n",
    "        x = x.squeeze(2)  # (N, T, K)\n",
    "        return x"
   ]
  },
  {
   "cell_type": "code",
   "execution_count": 93,
   "metadata": {},
   "outputs": [],
   "source": [
    "class DR_RNN(nn.Module):\n",
    "    \"\"\"\n",
    "    The RNN model that will be used to perform Cancer type classification.\n",
    "    \"\"\"\n",
    "\n",
    "    def __init__(self, vocab_size, output_size, embedding_matrix, embedding_dim, hidden_dim, n_layers, drop_prob=0.5):\n",
    "        \"\"\"\n",
    "        Initialize the model by setting up the layers.\n",
    "        \"\"\"\n",
    "        super(DR_RNN, self).__init__()\n",
    "\n",
    "        self.output_size = output_size\n",
    "        self.n_layers = n_layers\n",
    "        self.hidden_dim = hidden_dim\n",
    "        \n",
    "        # define all layers\n",
    "        self.embedding = nn.Embedding(vocab_size, embedding_dim)\n",
    "        self.embedding.weight = nn.Parameter(torch.tensor(embedding_matrix, dtype=torch.float32))\n",
    "        self.embedding.weight.requires_grad = False\n",
    "        self.embedding_dropout = SpatialDropout(0.3)\n",
    "        \n",
    "        self.conv1_1 = nn.Conv1d(600,256,3,padding=1)\n",
    "        self.conv1_2 = nn.Conv1d(256,128,1,padding=0)\n",
    "        \n",
    "        # self.lstm = nn.LSTM(embedding_dim, hidden_dim, n_layers, dropout=drop_prob, batch_first=True)\n",
    "        self.lstm1 = nn.LSTM(128, hidden_dim, bidirectional=True, batch_first=True)\n",
    "        self.lstm2 = nn.LSTM(hidden_dim * 2, hidden_dim, bidirectional=True, batch_first=True)\n",
    "        \n",
    "        self.pool = nn.MaxPool1d(2,2)\n",
    "        \n",
    "        self.linear1 = nn.Linear(hidden_dim * 4, hidden_dim * 4)\n",
    "        self.linear2 = nn.Linear(hidden_dim * 4, hidden_dim * 4)\n",
    "        \n",
    "        self.dropout = nn.Dropout(0.2)\n",
    "        \n",
    "        self.linear_out = nn.Linear(hidden_dim * 4, output_size)\n",
    "\n",
    "    def forward(self, x):\n",
    "        \"\"\"\n",
    "        Perform a forward pass of our model on some input and hidden state.\n",
    "        \"\"\"\n",
    "        batch_size = x.size(0)   ## x: torch.Size([64, 2000])   torch.Size([BATCH_SIZE, MAX_LEN])\n",
    "        # print(\"x: {}\".format(x.shape))\n",
    "        x = x.long()\n",
    "        embeds = self.embedding(x)   ## embeds: torch.Size([128, 2000, 600])   torch.Size([BATCH_SIZE, MAX_LEN, embedding_dim])\n",
    "        # print(\"embeds: {}\".format(embeds.shape))\n",
    "        embeds = self.embedding_dropout(embeds)\n",
    "        \n",
    "        ## Conv1d\n",
    "        embeds=embeds.permute(0,2,1)   ## embeds_pre_conv: torch.Size([128, 600, 2000])   torch.Size([BATCH_SIZE, embedding_dim, MAX_LEN])\n",
    "        # print(\"embeds_pre_conv: {}\".format(embeds.shape))\n",
    "        embeds = F.relu(self.conv1_1(embeds))   ## embeds_conv1_1: torch.Size([128, 256, 2000])\n",
    "        # print(\"embeds_conv1_1: {}\".format(embeds.shape))\n",
    "        embeds = F.relu(self.conv1_2(embeds))   ## embeds_conv1_2: torch.Size([128, 128, 2000])\n",
    "        # print(\"embeds_conv1_2: {}\".format(embeds.shape))\n",
    "        embeds = self.pool(embeds)   ## embeds_conv1_2_maxpool: torch.Size([128, 128, 1000])\n",
    "        # print(\"embeds_conv1_2_maxpool: {}\".format(embeds.shape))\n",
    "        embeds = self.dropout(embeds)\n",
    "        embeds=embeds.permute(0,2,1)   ## embeds_post_conv: torch.Size([128, 1000, 128])   torch.Size([BATCH_SIZE, MAX_LEN/2, *])\n",
    "        # print(\"embeds_post_conv: {}\".format(embeds.shape))\n",
    "        \n",
    "        lstm1, _ = self.lstm1(embeds)   ## lstm1: torch.Size([128, 1000, 256])   torch.Size([BATCH_SIZE, MAX_LEN/2, hidden_dim*n_layers])\n",
    "        # print(\"lstm1: {}\".format(lstm1.shape))\n",
    "        lstm2, _ = self.lstm2(lstm1)   ## lstm2: torch.Size([128, 1000, 256])   torch.Size([BATCH_SIZE, MAX_LEN/2, hidden_dim*n_layers])\n",
    "        # print(\"lstm2: {}\".format(lstm2.shape))\n",
    "        \n",
    "        # global average pooling\n",
    "        avg_pool = torch.mean(lstm1, 1)   ## avg_pool: torch.Size([128, 256])\n",
    "        # print(\"avg_pool: {}\".format(avg_pool.shape))\n",
    "        # global max pooling\n",
    "        max_pool, _ = torch.max(lstm2, 1)   ## max_pool: torch.Size([128, 256])\n",
    "        # print(\"max_pool: {}\".format(max_pool.shape))\n",
    "        \n",
    "        h_conc = torch.cat((max_pool, avg_pool), 1)   ## h_conc: torch.Size([128, 512])\n",
    "        # print(\"h_conc: {}\".format(h_conc.shape))\n",
    "        h_conc_linear1  = self.dropout(F.relu(self.linear1(h_conc)))   ## h_conc_linear1: torch.Size([128, 512])\n",
    "        # print(\"h_conc_linear1: {}\".format(h_conc_linear1.shape))\n",
    "        h_conc_linear2  = self.dropout(F.relu(self.linear2(h_conc)))   ## h_conc_linear2: torch.Size([128, 512])\n",
    "        # print(\"h_conc_linear2: {}\".format(h_conc_linear2.shape))\n",
    "        \n",
    "        hidden = h_conc + h_conc_linear1 + h_conc_linear2   ## hidden: torch.Size([128, 512])\n",
    "        # print(\"hidden: {}\".format(hidden.shape))\n",
    "        result = self.linear_out(hidden)   ## result: torch.Size([128, 9])   torch.Size([BATCH_SIZE, output_size])\n",
    "        # print(\"result: {}\".format(result.shape))\n",
    "\n",
    "        return result"
   ]
  },
  {
   "cell_type": "code",
   "execution_count": 94,
   "metadata": {},
   "outputs": [
    {
     "name": "stdout",
     "output_type": "stream",
     "text": [
      "DR_RNN(\n",
      "  (embedding): Embedding(80065, 600)\n",
      "  (embedding_dropout): SpatialDropout(p=0.3, inplace=False)\n",
      "  (conv1_1): Conv1d(600, 256, kernel_size=(3,), stride=(1,), padding=(1,))\n",
      "  (conv1_2): Conv1d(256, 128, kernel_size=(1,), stride=(1,))\n",
      "  (lstm1): LSTM(128, 128, batch_first=True, bidirectional=True)\n",
      "  (lstm2): LSTM(256, 128, batch_first=True, bidirectional=True)\n",
      "  (pool): MaxPool1d(kernel_size=2, stride=2, padding=0, dilation=1, ceil_mode=False)\n",
      "  (linear1): Linear(in_features=512, out_features=512, bias=True)\n",
      "  (linear2): Linear(in_features=512, out_features=512, bias=True)\n",
      "  (dropout): Dropout(p=0.2, inplace=False)\n",
      "  (linear_out): Linear(in_features=512, out_features=9, bias=True)\n",
      ")\n"
     ]
    }
   ],
   "source": [
    "vocab_size = len(tokenizer.word_index)+1\n",
    "output_size = 9\n",
    "embedding_dim = 600\n",
    "hidden_dim = 128\n",
    "n_layers = 1\n",
    "model = DR_RNN(vocab_size, output_size, embedding_matrix, embedding_dim, hidden_dim, n_layers)\n",
    "print(model)"
   ]
  },
  {
   "cell_type": "markdown",
   "metadata": {},
   "source": [
    "### Train PM_RNN4 model"
   ]
  },
  {
   "cell_type": "code",
   "execution_count": 95,
   "metadata": {},
   "outputs": [],
   "source": [
    "def DR_RNN_train(n_epochs, train_loader, val_loader, model, criterion, optimizer, device, save_path):\n",
    "    '''\n",
    "    Corresponding to SentimentRNN2, with nn.CrossEntropyLoss() as criterion\n",
    "    '''\n",
    "    epoch_dict={}\n",
    "    valid_loss_min = np.Inf\n",
    "    valid_f1_max = 0\n",
    "    model = model.to(device)\n",
    "    for epoch in np.arange(n_epochs):\n",
    "        # Initiate loss and accuracy values\n",
    "        train_loss = 0.0\n",
    "        train_acc = 0.0\n",
    "        val_loss = 0.0\n",
    "        val_acc = 0.0\n",
    "        dt = np.dtype(int)\n",
    "        train_pred_array = np.array([], dtype = dt)\n",
    "        train_y_array = np.array([], dtype = dt)\n",
    "        val_pred_array = np.array([], dtype = dt)\n",
    "        val_y_array = np.array([], dtype = dt)\n",
    "        epoch_dict[epoch] = {}\n",
    "        # Training\n",
    "        model.train()\n",
    "        for inputs, labels in train_loader:\n",
    "            optimizer.zero_grad()\n",
    "            inputs, labels = inputs.to(device), labels.to(device)\n",
    "            output = model(inputs)\n",
    "            #print('Step1')\n",
    "            loss = criterion(output, labels)\n",
    "            #print(loss)\n",
    "            loss.backward()\n",
    "            #print('Step2')\n",
    "            nn.utils.clip_grad_norm_(model.parameters(), clip)\n",
    "            optimizer.step()\n",
    "            ## Update loss and acc values for the training process\n",
    "            # print(loss)\n",
    "            train_loss += loss.item()*inputs.shape[0]\n",
    "            _, top_class = output.topk(1,dim=1)\n",
    "            equals = top_class == labels.view(*top_class.shape)\n",
    "            train_acc += torch.mean(equals.type(torch.FloatTensor)).item()\n",
    "            if device.type == 'cpu':\n",
    "                train_pred_array = np.append(train_pred_array, torch.reshape(top_class, labels.shape).numpy())\n",
    "                train_y_array = np.append(train_y_array, labels.numpy())\n",
    "            else:\n",
    "                train_pred_array = np.append(train_pred_array, torch.reshape(top_class.cpu(), labels.cpu().shape).numpy())\n",
    "                train_y_array = np.append(train_y_array, labels.cpu().numpy())\n",
    "        \n",
    "        else:\n",
    "            # print(\"validation starts\")\n",
    "            with torch.no_grad():\n",
    "                model.eval()\n",
    "                for inputs, labels in val_loader:\n",
    "                    inputs, labels = inputs.to(device), labels.to(device)\n",
    "                    output = model(inputs)\n",
    "                    loss = criterion(output, labels)\n",
    "                    # print(loss)\n",
    "                    ## Update loss and acc values for the validation process\n",
    "                    val_loss += loss.item()*inputs.shape[0]\n",
    "                    _, top_class = output.topk(1,dim=1)\n",
    "                    equals = top_class == labels.view(*top_class.shape)\n",
    "                    val_acc += torch.mean(equals.type(torch.FloatTensor)).item()\n",
    "                    if device.type == 'cpu':\n",
    "                        val_pred_array = np.append(val_pred_array, torch.reshape(top_class, labels.shape).numpy())\n",
    "                        val_y_array = np.append(val_y_array, labels.numpy())\n",
    "                    else:\n",
    "                        val_pred_array = np.append(val_pred_array, torch.reshape(top_class.cpu(), labels.cpu().shape).numpy())\n",
    "                        val_y_array = np.append(val_y_array, labels.cpu().numpy())\n",
    "        \n",
    "                ### write training/validation loss/accuracy\n",
    "                epoch_dict[epoch]['Train_Loss'] = train_loss/len(train_loader.sampler)\n",
    "                epoch_dict[epoch]['Train_Accuracy'] = train_acc/len(train_loader)\n",
    "                epoch_dict[epoch]['Val_Loss'] = val_loss/len(val_loader.sampler)\n",
    "                epoch_dict[epoch]['Val_Accuracy'] = val_acc/len(val_loader)\n",
    "                epoch_dict[epoch]['Train_F1'] = f1_score(train_y_array, train_pred_array)\n",
    "                epoch_dict[epoch]['Val_F1'] = f1_score(val_y_array, val_pred_array)\n",
    "                \n",
    "                print(\"Epoch: {}/{}.. \".format(epoch+1, n_epochs),\n",
    "                      \"Train Loss: {:.3f}.. \".format(train_loss/len(train_loader.sampler)),\n",
    "                      \"Train Accuracy: {:.3f}.. \".format(train_acc/len(train_loader)),\n",
    "                      \"Train F1: {:.3f}..\".format(f1_score(train_y_array, train_pred_array)),\n",
    "                      \"Validation Loss: {:.3f}.. \".format(val_loss/len(val_loader.sampler)),\n",
    "                      \"Validation Accuracy: {:.3f}\".format(val_acc/len(val_loader)),\n",
    "                      \"Validation F1: {:.3f}..\".format(f1_score(val_y_array, val_pred_array)))\n",
    "                \n",
    "                ## save the model with the highest val_f1 and update valid_loss_min\n",
    "                #if val_loss <= valid_loss_min:\n",
    "                val_f1 = f1_score(val_y_array, val_pred_array)\n",
    "                if val_f1 >= valid_f1_max:\n",
    "                    #print('Validation loss decreased -- Saving model -- \\n')\n",
    "                    print('Validation F1 increased -- Saving model -- \\n')\n",
    "                    torch.save(model.state_dict(), save_path)\n",
    "                    valid_f1_max = val_f1\n",
    "                \n",
    "    epoch_df = pd.DataFrame.from_dict(epoch_dict, orient = 'index')\n",
    "    epoch_df['Epoch'] = np.arange(n_epochs)+1\n",
    "    return model, epoch_df"
   ]
  },
  {
   "cell_type": "code",
   "execution_count": 84,
   "metadata": {},
   "outputs": [
    {
     "name": "stdout",
     "output_type": "stream",
     "text": [
      "device: cpu\n"
     ]
    }
   ],
   "source": [
    "device = torch.device('cuda:0' if torch.cuda.is_available() else 'cpu')\n",
    "print('device: {}'.format(device.type))\n",
    "\n",
    "## define model\n",
    "vocab_size = len(tokenizer.word_index)+1\n",
    "output_size = 9\n",
    "embedding_dim = 600\n",
    "hidden_dim = 128\n",
    "n_layers = 1\n",
    "model = DR_RNN_train(vocab_size, output_size, embedding_matrix, embedding_dim, hidden_dim, n_layers)\n",
    "\n",
    "## loss and optimization functions\n",
    "lr=0.001\n",
    "criterion = nn.CrossEntropyLoss()\n",
    "optimizer = torch.optim.Adam(model.parameters(), lr=lr)\n",
    "n_epochs = 100\n",
    "clip=5"
   ]
  },
  {
   "cell_type": "code",
   "execution_count": null,
   "metadata": {},
   "outputs": [],
   "source": [
    "save_path = os.path.join(base_dir, 'models_2/{}.pth'.format(prefix))\n",
    "model, epoch_df = DR_RNN_train(n_epochs, train_loader, val_loader, model, criterion, optimizer, device, save_path)"
   ]
  },
  {
   "cell_type": "code",
   "execution_count": null,
   "metadata": {},
   "outputs": [],
   "source": [
    "# epoch_df.to_csv(os.path.join(base_dir, 'models_2/{}.csv'.format(prefix)),index=False)"
   ]
  },
  {
   "cell_type": "markdown",
   "metadata": {},
   "source": [
    "### Visualize training performance"
   ]
  },
  {
   "cell_type": "markdown",
   "metadata": {},
   "source": [
    "Here are is a functions used in training performance evaluation."
   ]
  },
  {
   "cell_type": "code",
   "execution_count": 96,
   "metadata": {},
   "outputs": [],
   "source": [
    "def plot_loss_accuracy_curve(epoch_df,cancer_type):\n",
    "    plt.figure(figsize=(12,4))\n",
    "    plt.subplot(1,3,1)\n",
    "    plt.plot(epoch_df.Epoch, epoch_df.Train_Loss, label = 'Training loss')\n",
    "    plt.plot(epoch_df.Epoch, epoch_df.Val_Loss, label = 'Validation loss')\n",
    "    plt.xlabel('Epoch', fontsize=12)\n",
    "    plt.ylabel('Loss', fontsize=12)\n",
    "    plt.legend()\n",
    "    plt.title('{}\\nTraining and Validation Loss'.format(cancer_type), fontsize=12)\n",
    "\n",
    "    plt.subplot(1,3,2)\n",
    "    plt.plot(epoch_df.Epoch, epoch_df.Train_Accuracy, label = 'Training Accuracy')\n",
    "    plt.plot(epoch_df.Epoch, epoch_df.Val_Accuracy, label = 'Validation Accuracy')\n",
    "    plt.xlabel('Epoch', fontsize=12)\n",
    "    plt.ylabel('Accuracy', fontsize=12)\n",
    "    plt.legend()\n",
    "    plt.title('{}\\nTraining and Validation Accuracy'.format(cancer_type), fontsize=12)\n",
    "    \n",
    "    plt.subplot(1,3,3)\n",
    "    plt.plot(epoch_df.Epoch, epoch_df.Train_F1, label = 'Training F1')\n",
    "    plt.plot(epoch_df.Epoch, epoch_df.Val_F1, label = 'Validation F1')\n",
    "    plt.xlabel('Epoch', fontsize=12)\n",
    "    plt.ylabel('F1_score', fontsize=12)\n",
    "    plt.legend()\n",
    "    plt.title('{}\\nTraining and Validation F1'.format(cancer_type), fontsize=12)\n",
    "    plt.tight_layout()"
   ]
  },
  {
   "cell_type": "code",
   "execution_count": 97,
   "metadata": {},
   "outputs": [
    {
     "data": {
      "image/png": "[encoded data removed]",
      "text/plain": [
       "<Figure size 864x288 with 3 Axes>"
      ]
     },
     "metadata": {
      "needs_background": "light"
     },
     "output_type": "display_data"
    }
   ],
   "source": [
    "## Models were trained in HPC and output scores are uploaded here.\n",
    "## Doctor_recommendation_RNN4_all_epoch100_lr5_gpu.py\n",
    "epoch_df=pd.read_csv(os.path.join(base_dir, 'models_2/{}.csv'.format(prefix)))\n",
    "plot_loss_accuracy_curve(epoch_df,cancer_type)"
   ]
  },
  {
   "cell_type": "code",
   "execution_count": 8,
   "metadata": {},
   "outputs": [],
   "source": [
    "def plot_confusion_matrix(cm, classes,title='Confusion matrix',cmap=plt.cm.Blues):    \n",
    "    plt.figure(figsize=(5,5))\n",
    "    plt.imshow(cm, interpolation='nearest', cmap=cmap)\n",
    "    plt.title(title, fontsize=16)\n",
    "    plt.colorbar(shrink=0.8)\n",
    "    tick_marks = np.arange(len(classes))\n",
    "    plt.xticks(tick_marks, classes, rotation=45, fontsize=12)\n",
    "    plt.yticks(tick_marks, classes, fontsize=12)\n",
    "\n",
    "    thresh = cm.max() / 2.\n",
    "    for i, j in itertools.product(range(cm.shape[0]), range(cm.shape[1])):\n",
    "        plt.text(j, i, '{:d} \\n({:.2f}%)'.format(cm[i, j], cm[i,j]/cm.sum()*100), horizontalalignment=\"center\", color=\"white\" if cm[i, j] > thresh else \"black\",fontsize=16)\n",
    "\n",
    "    plt.ylabel('True label', fontsize=12)\n",
    "    plt.xlabel('Predicted label', fontsize=12)\n",
    "    plt.tight_layout()"
   ]
  },
  {
   "cell_type": "code",
   "execution_count": 9,
   "metadata": {},
   "outputs": [],
   "source": [
    "def plot_acc_bar(cm,title=''):\n",
    "    acc=[cm[i][i] for i in range(len(classes))]\n",
    "    acc_freq=acc/cm.sum(axis=1)\n",
    "    fig = plt.figure(figsize = (3,3))\n",
    "    ax = fig.add_subplot(1,1,1)\n",
    "    width = 0.75 # the width of the bars \n",
    "    ind = np.arange(len(classes))  # the x locations for the groups\n",
    "    ax.bar(ind, np.round(acc_freq*100,2), width, edgecolor='black', color = sns.color_palette('hls', len(classes)))\n",
    "    plt.xticks(ind, labels = classes, fontsize=12, rotation=45)\n",
    "    plt.yticks(fontsize=12)\n",
    "    plt.ylim(0,110)\n",
    "    plt.xlabel('Category', fontsize=12)\n",
    "    plt.ylabel('Accuracy%', fontsize=12)\n",
    "    for i, v in enumerate(np.round(acc_freq*100,2)):\n",
    "        ax.text(i-0.25, v + 1, str(np.round(v,2))+'%', fontsize=12)\n",
    "    plt.title(title)"
   ]
  },
  {
   "cell_type": "code",
   "execution_count": 10,
   "metadata": {},
   "outputs": [],
   "source": [
    "def plot_ROC_curve(y_true, y_score,title=''):\n",
    "    fpr, tpr, _ = roc_curve(y_true, y_score)\n",
    "    auc_value = auc(fpr, tpr)\n",
    "    plt.plot(fpr, tpr, color = 'blue', label='ROC curve (area = {:.2f})'.format(auc_value))\n",
    "    plt.plot([0, 1], [0, 1], color='grey', linestyle='--')\n",
    "    plt.xlabel('False positive rate',fontsize=12)\n",
    "    plt.ylabel('True positive rate',fontsize=12)\n",
    "    plt.title('ROC curve')\n",
    "    #plt.legend(bbox_to_anchor=(1.05, 1), loc=2, borderaxespad=0.)\n",
    "    plt.legend(fontsize=16)\n",
    "    plt.title(title,fontsize=16)\n",
    "    plt.show()"
   ]
  },
  {
   "cell_type": "code",
   "execution_count": 36,
   "metadata": {},
   "outputs": [],
   "source": [
    "def DR_RNN_eval(test_loader, model, criterion, device, classes):\n",
    "    '''Apply the trained model to testing dataset and summarize the overall test_loss/test_acc\n",
    "    also output testing accuracy for each category and the prediction result for each sample as well as the probability'''\n",
    "    # Initiate loss and accuracy values\n",
    "    test_loss = 0.0\n",
    "    test_acc = 0.0\n",
    "    class_correct = list(0. for i in range(len(classes)))\n",
    "    class_total = list(0. for i in range(len(classes)))\n",
    "  \n",
    "    dt = np.dtype(int)\n",
    "    true_label = np.array([], dtype = dt)\n",
    "    pred_label = np.array([], dtype = dt)\n",
    "    prob_array = np.array([])\n",
    "    probs_array = np.arange(1,len(classes)+1).reshape(1,-1)\n",
    "    \n",
    "    model = model.to(device)\n",
    "    with torch.no_grad():\n",
    "        model.eval()\n",
    "        for inputs, labels in test_loader:\n",
    "            inputs, labels = inputs.to(device), labels.to(device)\n",
    "            output = model(inputs)\n",
    "            loss = criterion(output, labels)\n",
    "            test_loss += loss.item()*inputs.shape[0]\n",
    "        \n",
    "            softmax = nn.Softmax(dim=1)\n",
    "            output_softmax = softmax(output)\n",
    "            top_probs, preds = output_softmax.topk(1,dim=1)\n",
    "            equals = preds == labels.view(*preds.shape)\n",
    "            correct = np.squeeze(equals)\n",
    "            test_acc += torch.mean(equals.type(torch.FloatTensor)).item()\n",
    "            for i in range(len(inputs)):\n",
    "                label = labels[i].item()\n",
    "                class_correct[label] += correct[i].item()\n",
    "                class_total[label] += 1\n",
    "    \n",
    "            if device.type == 'cpu':\n",
    "                true_label = np.append(true_label, labels)\n",
    "                pred_label = np.append(pred_label, preds)\n",
    "                prob_array = np.append(prob_array, top_probs)\n",
    "                probs_array = np.concatenate((probs_array, output_softmax))\n",
    "      \n",
    "            else:\n",
    "                true_label = np.append(true_label, labels.cpu())\n",
    "                pred_label = np.append(pred_label, preds.cpu())\n",
    "                prob_array = np.append(prob_array, top_probs.cpu())\n",
    "                probs_array = np.concatenate((probs_array, output_softmax.cpu()))\n",
    "            \n",
    "      \n",
    "    test_loss = test_loss/len(test_loader.sampler)\n",
    "    test_acc = test_acc/len(test_loader)\n",
    "    print('Test Loss: {:.6f}\\n'.format(test_loss))\n",
    "    print('Test Accuracy (Overall): {:.3f}%  ({}/{})\\n'.format(np.sum(class_correct)/np.sum(class_total)*100, np.sum(class_correct), np.sum(class_total)))\n",
    "  \n",
    "    for i in range(len(classes)):\n",
    "        if class_total[i] > 0:\n",
    "            print('Test Accuracy of {}: {:.3f}% ({}/{})'.format(classes[i], class_correct[i]/class_total[i]*100,class_correct[i], class_total[i]))\n",
    "        else:\n",
    "            print('Test Accuracy of {}: N/A'.format(classes[i]))\n",
    "    summary_df = pd.DataFrame({'category': classes, 'correct': class_correct, 'total': class_total})\n",
    "    pred_df = pd.DataFrame({'true_label': true_label, 'prediction': pred_label, 'prob': prob_array})\n",
    "    probs_df = pd.DataFrame(probs_array[1:], columns = ['class_{}'.format(i) for i in range(2)])\n",
    "    pred_df = pd.merge(pred_df, probs_df, left_index=True, right_index=True)\n",
    "    return summary_df, pred_df"
   ]
  },
  {
   "cell_type": "code",
   "execution_count": 102,
   "metadata": {},
   "outputs": [
    {
     "name": "stdout",
     "output_type": "stream",
     "text": [
      "device: cpu\n"
     ]
    }
   ],
   "source": [
    "device = torch.device('cuda:0' if torch.cuda.is_available() else 'cpu')\n",
    "print('device: {}'.format(device.type))\n",
    "\n",
    "## Load trained model\n",
    "vocab_size = len(tokenizer.word_index)+1\n",
    "output_size = 2\n",
    "embedding_dim = 600\n",
    "hidden_dim = 128\n",
    "n_layers = 1\n",
    "model = DR_RNN(vocab_size, output_size, embedding_matrix, embedding_dim, hidden_dim, n_layers)\n",
    "\n",
    "if device.type == 'cpu':\n",
    "    state_dict = torch.load(os.path.join(base_dir, 'models_2/{}.pth'.format(prefix)), map_location='cpu')\n",
    "else:\n",
    "    state_dict = torch.load(os.path.join(base_dir,'models_2/{}.pth'.format(prefix)))\n",
    "model.load_state_dict(state_dict)\n",
    "for param in model.parameters():\n",
    "    param.requires_grad=False"
   ]
  },
  {
   "cell_type": "code",
   "execution_count": 106,
   "metadata": {},
   "outputs": [
    {
     "name": "stdout",
     "output_type": "stream",
     "text": [
      "Test Loss: 0.174846\n",
      "\n",
      "Test Accuracy (Overall): 94.633%  (7846.0/8291.0)\n",
      "\n",
      "Test Accuracy of Class_0: 97.670% (6582.0/6739.0)\n",
      "Test Accuracy of Class_1: 81.443% (1264.0/1552.0)\n"
     ]
    }
   ],
   "source": [
    "criterion = nn.CrossEntropyLoss()\n",
    "classes = np.array(['Class_'+str(i) for i in np.arange(2)])\n",
    "summary_df, pred_df = DM_RNN_eval(val_loader, model, criterion, device, classes)"
   ]
  },
  {
   "cell_type": "code",
   "execution_count": 107,
   "metadata": {},
   "outputs": [
    {
     "data": {
      "text/html": [
       "<div>\n",
       "<style scoped>\n",
       "    .dataframe tbody tr th:only-of-type {\n",
       "        vertical-align: middle;\n",
       "    }\n",
       "\n",
       "    .dataframe tbody tr th {\n",
       "        vertical-align: top;\n",
       "    }\n",
       "\n",
       "    .dataframe thead th {\n",
       "        text-align: right;\n",
       "    }\n",
       "</style>\n",
       "<table border=\"1\" class=\"dataframe\">\n",
       "  <thead>\n",
       "    <tr style=\"text-align: right;\">\n",
       "      <th></th>\n",
       "      <th>category</th>\n",
       "      <th>correct</th>\n",
       "      <th>total</th>\n",
       "    </tr>\n",
       "  </thead>\n",
       "  <tbody>\n",
       "    <tr>\n",
       "      <th>0</th>\n",
       "      <td>Class_0</td>\n",
       "      <td>6582.0</td>\n",
       "      <td>6739.0</td>\n",
       "    </tr>\n",
       "    <tr>\n",
       "      <th>1</th>\n",
       "      <td>Class_1</td>\n",
       "      <td>1264.0</td>\n",
       "      <td>1552.0</td>\n",
       "    </tr>\n",
       "  </tbody>\n",
       "</table>\n",
       "</div>"
      ],
      "text/plain": [
       "  category  correct   total\n",
       "0  Class_0   6582.0  6739.0\n",
       "1  Class_1   1264.0  1552.0"
      ]
     },
     "execution_count": 107,
     "metadata": {},
     "output_type": "execute_result"
    }
   ],
   "source": [
    "summary_df.head()"
   ]
  },
  {
   "cell_type": "code",
   "execution_count": 108,
   "metadata": {},
   "outputs": [
    {
     "data": {
      "text/html": [
       "<div>\n",
       "<style scoped>\n",
       "    .dataframe tbody tr th:only-of-type {\n",
       "        vertical-align: middle;\n",
       "    }\n",
       "\n",
       "    .dataframe tbody tr th {\n",
       "        vertical-align: top;\n",
       "    }\n",
       "\n",
       "    .dataframe thead th {\n",
       "        text-align: right;\n",
       "    }\n",
       "</style>\n",
       "<table border=\"1\" class=\"dataframe\">\n",
       "  <thead>\n",
       "    <tr style=\"text-align: right;\">\n",
       "      <th></th>\n",
       "      <th>true_label</th>\n",
       "      <th>prediction</th>\n",
       "      <th>prob</th>\n",
       "      <th>class_0</th>\n",
       "      <th>class_1</th>\n",
       "    </tr>\n",
       "  </thead>\n",
       "  <tbody>\n",
       "    <tr>\n",
       "      <th>0</th>\n",
       "      <td>1</td>\n",
       "      <td>1</td>\n",
       "      <td>0.999513</td>\n",
       "      <td>0.000487</td>\n",
       "      <td>0.999513</td>\n",
       "    </tr>\n",
       "    <tr>\n",
       "      <th>1</th>\n",
       "      <td>0</td>\n",
       "      <td>0</td>\n",
       "      <td>0.999856</td>\n",
       "      <td>0.999856</td>\n",
       "      <td>0.000145</td>\n",
       "    </tr>\n",
       "    <tr>\n",
       "      <th>2</th>\n",
       "      <td>0</td>\n",
       "      <td>0</td>\n",
       "      <td>0.999981</td>\n",
       "      <td>0.999981</td>\n",
       "      <td>0.000019</td>\n",
       "    </tr>\n",
       "    <tr>\n",
       "      <th>3</th>\n",
       "      <td>0</td>\n",
       "      <td>0</td>\n",
       "      <td>0.744403</td>\n",
       "      <td>0.744403</td>\n",
       "      <td>0.255597</td>\n",
       "    </tr>\n",
       "    <tr>\n",
       "      <th>4</th>\n",
       "      <td>0</td>\n",
       "      <td>0</td>\n",
       "      <td>0.999891</td>\n",
       "      <td>0.999891</td>\n",
       "      <td>0.000109</td>\n",
       "    </tr>\n",
       "  </tbody>\n",
       "</table>\n",
       "</div>"
      ],
      "text/plain": [
       "   true_label  prediction      prob   class_0   class_1\n",
       "0           1           1  0.999513  0.000487  0.999513\n",
       "1           0           0  0.999856  0.999856  0.000145\n",
       "2           0           0  0.999981  0.999981  0.000019\n",
       "3           0           0  0.744403  0.744403  0.255597\n",
       "4           0           0  0.999891  0.999891  0.000109"
      ]
     },
     "execution_count": 108,
     "metadata": {},
     "output_type": "execute_result"
    }
   ],
   "source": [
    "pred_df.head()"
   ]
  },
  {
   "cell_type": "code",
   "execution_count": 109,
   "metadata": {},
   "outputs": [],
   "source": [
    "summary_df.to_csv(os.path.join(base_dir,'models/{}_summary_df.csv'.format(prefix)),index=False)\n",
    "pred_df.to_csv(os.path.join(base_dir,'models/{}_pred_df.csv'.format(prefix)),index=False)"
   ]
  },
  {
   "cell_type": "code",
   "execution_count": 17,
   "metadata": {},
   "outputs": [],
   "source": [
    "summary_df=pd.read_csv(os.path.join(base_dir,'models/{}_summary_df.csv'.format(prefix)))\n",
    "pred_df=pd.read_csv(os.path.join(base_dir,'models/{}_pred_df.csv'.format(prefix)))"
   ]
  },
  {
   "cell_type": "code",
   "execution_count": 27,
   "metadata": {},
   "outputs": [
    {
     "data": {
      "image/png": "[encoded data removed]",
      "text/plain": [
       "<Figure size 360x360 with 2 Axes>"
      ]
     },
     "metadata": {
      "needs_background": "light"
     },
     "output_type": "display_data"
    }
   ],
   "source": [
    "cm = confusion_matrix(pred_df.true_label, pred_df.prediction)\n",
    "classes = ['class_{}'.format(i) for i in range(2)]\n",
    "plot_confusion_matrix(cm, classes, title = 'Confusion Matrix\\nBreast Cancer (LSTM)', cmap=plt.cm.Blues)"
   ]
  },
  {
   "cell_type": "code",
   "execution_count": 24,
   "metadata": {},
   "outputs": [],
   "source": [
    "pred_df2=pd.read_csv(os.path.join(base_dir, 'models/{}_pred_df_manual.csv'.format(prefix)))"
   ]
  },
  {
   "cell_type": "code",
   "execution_count": 26,
   "metadata": {},
   "outputs": [
    {
     "data": {
      "image/png": "[encoded data removed]",
      "text/plain": [
       "<Figure size 360x360 with 2 Axes>"
      ]
     },
     "metadata": {
      "needs_background": "light"
     },
     "output_type": "display_data"
    }
   ],
   "source": [
    "cm = confusion_matrix(pred_df2.true_label, pred_df2.prediction)\n",
    "classes = ['class_{}'.format(i) for i in range(2)]\n",
    "plot_confusion_matrix(cm, classes, title = 'Confusion Matrix\\nBreast Cancer (validation)', cmap=plt.cm.Blues)"
   ]
  },
  {
   "cell_type": "code",
   "execution_count": 14,
   "metadata": {},
   "outputs": [
    {
     "data": {
      "image/png": "[encoded data removed]",
      "text/plain": [
       "<Figure size 216x216 with 1 Axes>"
      ]
     },
     "metadata": {
      "needs_background": "light"
     },
     "output_type": "display_data"
    }
   ],
   "source": [
    "plot_acc_bar(cm,title='Breast Cancer')"
   ]
  },
  {
   "cell_type": "code",
   "execution_count": 15,
   "metadata": {},
   "outputs": [
    {
     "data": {
      "image/png": "[encoded data removed]",
      "text/plain": [
       "<Figure size 432x288 with 1 Axes>"
      ]
     },
     "metadata": {
      "needs_background": "light"
     },
     "output_type": "display_data"
    }
   ],
   "source": [
    "plot_ROC_curve(pred_df.true_label.values, pred_df.class_1.values, title='ROC curve: Breast Cancer')"
   ]
  },
  {
   "cell_type": "code",
   "execution_count": 99,
   "metadata": {},
   "outputs": [
    {
     "name": "stdout",
     "output_type": "stream",
     "text": [
      "f1 score: 0.8575112830431979\n"
     ]
    }
   ],
   "source": [
    "print('f1 score: {}'.format(f1_score(pred_df.true_label.values, pred_df.prediction)))"
   ]
  },
  {
   "cell_type": "markdown",
   "metadata": {},
   "source": [
    "### Make prediction"
   ]
  },
  {
   "cell_type": "code",
   "execution_count": 110,
   "metadata": {},
   "outputs": [],
   "source": [
    "def DR_RNN_pred(test_loader, model, device):\n",
    "    '''Apply the trained model to testing dataset and summarize the overall test_loss/test_acc\n",
    "    also output testing accuracy for each category and the prediction result for each sample as well as the probability'''\n",
    "    # Initiate loss and accuracy values\n",
    "    \n",
    "    dt = np.dtype(int)\n",
    "    pred_label = np.array([], dtype = dt)\n",
    "    prob_array = np.array([])\n",
    "    probs_array = np.arange(1,len(classes)+1).reshape(1,-1)\n",
    "    \n",
    "    model = model.to(device)\n",
    "    with torch.no_grad():\n",
    "        model.eval()\n",
    "        for inputs in test_loader:\n",
    "            inputs=inputs[0]\n",
    "            inputs = inputs.to(device)\n",
    "            output = model(inputs)\n",
    "            \n",
    "            softmax = nn.Softmax(dim=1)\n",
    "            output_softmax = softmax(output)\n",
    "            top_probs, preds = output_softmax.topk(1,dim=1)\n",
    "            \n",
    "            if device.type == 'cpu':\n",
    "                pred_label = np.append(pred_label, preds)\n",
    "                prob_array = np.append(prob_array, top_probs)\n",
    "                probs_array = np.concatenate((probs_array, output_softmax))\n",
    "      \n",
    "            else:\n",
    "                pred_label = np.append(pred_label, preds.cpu())\n",
    "                prob_array = np.append(prob_array, top_probs.cpu())\n",
    "                probs_array = np.concatenate((probs_array, output_softmax.cpu()))\n",
    "            \n",
    "    pred_df = pd.DataFrame({'prediction': pred_label, 'prob': prob_array})\n",
    "    probs_df = pd.DataFrame(probs_array[1:], columns = ['class_{}'.format(i) for i in range(2)])\n",
    "    pred_df = pd.merge(pred_df, probs_df, left_index=True, right_index=True)\n",
    "    return pred_df"
   ]
  },
  {
   "cell_type": "code",
   "execution_count": 111,
   "metadata": {},
   "outputs": [
    {
     "name": "stdout",
     "output_type": "stream",
     "text": [
      "device: cpu\n"
     ]
    }
   ],
   "source": [
    "device = torch.device('cuda:0' if torch.cuda.is_available() else 'cpu')\n",
    "print('device: {}'.format(device.type))\n",
    "\n",
    "## Load trained model\n",
    "vocab_size = len(tokenizer.word_index)+1\n",
    "output_size = 2\n",
    "embedding_dim = 600\n",
    "hidden_dim = 128\n",
    "n_layers = 1\n",
    "model = DM_RNN(vocab_size, output_size, embedding_matrix, embedding_dim, hidden_dim, n_layers)\n",
    "\n",
    "if device.type == 'cpu':\n",
    "    state_dict = torch.load(os.path.join(base_dir, 'models_2/{}.pth'.format(prefix)), map_location='cpu')\n",
    "else:\n",
    "    state_dict = torch.load(os.path.join(base_dir,'models_2/{}.pth'.format(prefix)))\n",
    "model.load_state_dict(state_dict)\n",
    "for param in model.parameters():\n",
    "    param.requires_grad=False"
   ]
  },
  {
   "cell_type": "code",
   "execution_count": 112,
   "metadata": {},
   "outputs": [],
   "source": [
    "pred_df = DR_RNN_pred(test_loader, model, device)"
   ]
  },
  {
   "cell_type": "code",
   "execution_count": 114,
   "metadata": {},
   "outputs": [],
   "source": [
    "pred_df.index=abstract_test_df.index"
   ]
  },
  {
   "cell_type": "code",
   "execution_count": 118,
   "metadata": {},
   "outputs": [],
   "source": [
    "pred_df.rename(columns={'prediction':cancer_type},inplace=True)"
   ]
  },
  {
   "cell_type": "code",
   "execution_count": 119,
   "metadata": {},
   "outputs": [
    {
     "data": {
      "text/html": [
       "<div>\n",
       "<style scoped>\n",
       "    .dataframe tbody tr th:only-of-type {\n",
       "        vertical-align: middle;\n",
       "    }\n",
       "\n",
       "    .dataframe tbody tr th {\n",
       "        vertical-align: top;\n",
       "    }\n",
       "\n",
       "    .dataframe thead th {\n",
       "        text-align: right;\n",
       "    }\n",
       "</style>\n",
       "<table border=\"1\" class=\"dataframe\">\n",
       "  <thead>\n",
       "    <tr style=\"text-align: right;\">\n",
       "      <th></th>\n",
       "      <th>Breast Cancer</th>\n",
       "      <th>prob</th>\n",
       "      <th>class_0</th>\n",
       "      <th>class_1</th>\n",
       "    </tr>\n",
       "    <tr>\n",
       "      <th>pmid</th>\n",
       "      <th></th>\n",
       "      <th></th>\n",
       "      <th></th>\n",
       "      <th></th>\n",
       "    </tr>\n",
       "  </thead>\n",
       "  <tbody>\n",
       "    <tr>\n",
       "      <th>10037348</th>\n",
       "      <td>0</td>\n",
       "      <td>0.999388</td>\n",
       "      <td>0.999388</td>\n",
       "      <td>0.000612</td>\n",
       "    </tr>\n",
       "    <tr>\n",
       "      <th>10873802</th>\n",
       "      <td>0</td>\n",
       "      <td>0.993733</td>\n",
       "      <td>0.993733</td>\n",
       "      <td>0.006267</td>\n",
       "    </tr>\n",
       "    <tr>\n",
       "      <th>11050493</th>\n",
       "      <td>0</td>\n",
       "      <td>0.997884</td>\n",
       "      <td>0.997884</td>\n",
       "      <td>0.002116</td>\n",
       "    </tr>\n",
       "    <tr>\n",
       "      <th>11096383</th>\n",
       "      <td>0</td>\n",
       "      <td>0.997968</td>\n",
       "      <td>0.997968</td>\n",
       "      <td>0.002031</td>\n",
       "    </tr>\n",
       "    <tr>\n",
       "      <th>11734111</th>\n",
       "      <td>0</td>\n",
       "      <td>0.988677</td>\n",
       "      <td>0.988677</td>\n",
       "      <td>0.011323</td>\n",
       "    </tr>\n",
       "  </tbody>\n",
       "</table>\n",
       "</div>"
      ],
      "text/plain": [
       "          Breast Cancer      prob   class_0   class_1\n",
       "pmid                                                 \n",
       "10037348              0  0.999388  0.999388  0.000612\n",
       "10873802              0  0.993733  0.993733  0.006267\n",
       "11050493              0  0.997884  0.997884  0.002116\n",
       "11096383              0  0.997968  0.997968  0.002031\n",
       "11734111              0  0.988677  0.988677  0.011323"
      ]
     },
     "execution_count": 119,
     "metadata": {},
     "output_type": "execute_result"
    }
   ],
   "source": [
    "pred_df.head()"
   ]
  },
  {
   "cell_type": "code",
   "execution_count": 121,
   "metadata": {},
   "outputs": [],
   "source": [
    "pred_df.to_csv(os.path.join(base_dir,'models_2/{}_test_df.csv'.format(prefix)),index=True,index_label='pmid')"
   ]
  },
  {
   "cell_type": "markdown",
   "metadata": {},
   "source": [
    "### Merge prediction files"
   ]
  },
  {
   "cell_type": "code",
   "execution_count": 105,
   "metadata": {},
   "outputs": [],
   "source": [
    "abstract_test_df['pmid']=abstract_test_df.index"
   ]
  },
  {
   "cell_type": "code",
   "execution_count": 114,
   "metadata": {},
   "outputs": [
    {
     "data": {
      "text/plain": [
       "(8475, 11)"
      ]
     },
     "execution_count": 114,
     "metadata": {},
     "output_type": "execute_result"
    }
   ],
   "source": [
    "abstract_test_df.shape"
   ]
  },
  {
   "cell_type": "code",
   "execution_count": 122,
   "metadata": {},
   "outputs": [],
   "source": [
    "cancer_types= np.array(cancertype_flattened_df.cancer_type.value_counts().index)[:29]"
   ]
  },
  {
   "cell_type": "code",
   "execution_count": 123,
   "metadata": {},
   "outputs": [],
   "source": [
    "test_df_list=[abstract_test_df]\n",
    "for i in cancer_types:\n",
    "    file_name=cancer_prefix_dict[i]+'_test_df.csv'\n",
    "    file=pd.read_csv(os.path.join(base_dir+'/models_2', file_name),index_col='pmid').drop(['prob','class_0','class_1'],axis=1)   \n",
    "    test_df_list.append(file)"
   ]
  },
  {
   "cell_type": "code",
   "execution_count": 124,
   "metadata": {},
   "outputs": [
    {
     "data": {
      "text/plain": [
       "30"
      ]
     },
     "execution_count": 124,
     "metadata": {},
     "output_type": "execute_result"
    }
   ],
   "source": [
    "len(test_df_list)"
   ]
  },
  {
   "cell_type": "code",
   "execution_count": 125,
   "metadata": {},
   "outputs": [],
   "source": [
    "abstract_test_df2 = pd.concat(test_df_list,axis=1,sort=False)"
   ]
  },
  {
   "cell_type": "code",
   "execution_count": 126,
   "metadata": {},
   "outputs": [
    {
     "data": {
      "text/html": [
       "<div>\n",
       "<style scoped>\n",
       "    .dataframe tbody tr th:only-of-type {\n",
       "        vertical-align: middle;\n",
       "    }\n",
       "\n",
       "    .dataframe tbody tr th {\n",
       "        vertical-align: top;\n",
       "    }\n",
       "\n",
       "    .dataframe thead th {\n",
       "        text-align: right;\n",
       "    }\n",
       "</style>\n",
       "<table border=\"1\" class=\"dataframe\">\n",
       "  <thead>\n",
       "    <tr style=\"text-align: right;\">\n",
       "      <th></th>\n",
       "      <th>article_title</th>\n",
       "      <th>journal_title</th>\n",
       "      <th>journal_abbre</th>\n",
       "      <th>article_date</th>\n",
       "      <th>abstract</th>\n",
       "      <th>article_type</th>\n",
       "      <th>pub_days</th>\n",
       "      <th>citation</th>\n",
       "      <th>abstract_clean</th>\n",
       "      <th>text_clean_seq</th>\n",
       "      <th>...</th>\n",
       "      <th>Gastric Cancer</th>\n",
       "      <th>Gastrointestinal Tumor</th>\n",
       "      <th>Endometrial Cancer</th>\n",
       "      <th>Acute Lymphoblastic Leukemia (ALL)</th>\n",
       "      <th>Chronic Lymphocytic Leukemia (CLL)</th>\n",
       "      <th>Cardiac Tumors</th>\n",
       "      <th>Cervical Cancer</th>\n",
       "      <th>Esophageal Cancer</th>\n",
       "      <th>Thyroid Cancer</th>\n",
       "      <th>Rectal Cancer</th>\n",
       "    </tr>\n",
       "    <tr>\n",
       "      <th>pmid</th>\n",
       "      <th></th>\n",
       "      <th></th>\n",
       "      <th></th>\n",
       "      <th></th>\n",
       "      <th></th>\n",
       "      <th></th>\n",
       "      <th></th>\n",
       "      <th></th>\n",
       "      <th></th>\n",
       "      <th></th>\n",
       "      <th></th>\n",
       "      <th></th>\n",
       "      <th></th>\n",
       "      <th></th>\n",
       "      <th></th>\n",
       "      <th></th>\n",
       "      <th></th>\n",
       "      <th></th>\n",
       "      <th></th>\n",
       "      <th></th>\n",
       "      <th></th>\n",
       "    </tr>\n",
       "  </thead>\n",
       "  <tbody>\n",
       "    <tr>\n",
       "      <th>10037348</th>\n",
       "      <td>In vivo trial comparing patients' tolerance of...</td>\n",
       "      <td>Lasers in surgery and medicine</td>\n",
       "      <td>Lasers Surg Med</td>\n",
       "      <td>1999-01-01</td>\n",
       "      <td>Different types of Q-switched lasers have been...</td>\n",
       "      <td>Clinical Trial</td>\n",
       "      <td>7690.0</td>\n",
       "      <td>59.0</td>\n",
       "      <td>Different types of Q-switched lasers have been...</td>\n",
       "      <td>[338, 630, 1, 4170, 7883, 23018, 47, 85, 204, ...</td>\n",
       "      <td>...</td>\n",
       "      <td>0</td>\n",
       "      <td>0</td>\n",
       "      <td>0</td>\n",
       "      <td>0</td>\n",
       "      <td>0</td>\n",
       "      <td>0</td>\n",
       "      <td>0</td>\n",
       "      <td>0</td>\n",
       "      <td>0</td>\n",
       "      <td>0</td>\n",
       "    </tr>\n",
       "    <tr>\n",
       "      <th>10873802</th>\n",
       "      <td>A human homolog of the C. elegans polarity det...</td>\n",
       "      <td>Current biology : CB</td>\n",
       "      <td>Curr. Biol.</td>\n",
       "      <td>2000-06-01</td>\n",
       "      <td>Rac and Cdc42 are members of the Rho family of...</td>\n",
       "      <td>Journal Article</td>\n",
       "      <td>7173.0</td>\n",
       "      <td>219.0</td>\n",
       "      <td>Rac and Cdc42 are members of the Rho family of...</td>\n",
       "      <td>[11173, 2, 14297, 32, 1684, 1, 3, 5722, 607, 1...</td>\n",
       "      <td>...</td>\n",
       "      <td>0</td>\n",
       "      <td>0</td>\n",
       "      <td>0</td>\n",
       "      <td>0</td>\n",
       "      <td>0</td>\n",
       "      <td>0</td>\n",
       "      <td>0</td>\n",
       "      <td>0</td>\n",
       "      <td>0</td>\n",
       "      <td>0</td>\n",
       "    </tr>\n",
       "    <tr>\n",
       "      <th>11050493</th>\n",
       "      <td>An in vivo trial comparing the clinical effica...</td>\n",
       "      <td>Dermatologic surgery : official publication fo...</td>\n",
       "      <td>Dermatol Surg</td>\n",
       "      <td>2000-10-01</td>\n",
       "      <td>Q-switched 755 nm alexandrite (QS alex) and Q-...</td>\n",
       "      <td>Clinical Trial</td>\n",
       "      <td>7051.0</td>\n",
       "      <td>55.0</td>\n",
       "      <td>Q-switched 755 nm alexandrite QS alex and Q-sw...</td>\n",
       "      <td>[4170, 7883, 14753, 2878, 42310, 9347, 15176, ...</td>\n",
       "      <td>...</td>\n",
       "      <td>0</td>\n",
       "      <td>0</td>\n",
       "      <td>0</td>\n",
       "      <td>0</td>\n",
       "      <td>0</td>\n",
       "      <td>0</td>\n",
       "      <td>0</td>\n",
       "      <td>0</td>\n",
       "      <td>0</td>\n",
       "      <td>0</td>\n",
       "    </tr>\n",
       "    <tr>\n",
       "      <th>11096383</th>\n",
       "      <td>A retrospective analysis of complications in t...</td>\n",
       "      <td>Dermatologic surgery : official publication fo...</td>\n",
       "      <td>Dermatol Surg</td>\n",
       "      <td>2000-11-01</td>\n",
       "      <td>Studies on the use of Q-switched alexandrite (...</td>\n",
       "      <td>Comparative Study</td>\n",
       "      <td>7020.0</td>\n",
       "      <td>65.0</td>\n",
       "      <td>Studies on the use of Q-switched alexandrite Q...</td>\n",
       "      <td>[94, 23, 3, 119, 1, 4170, 7883, 42310, 9347, 1...</td>\n",
       "      <td>...</td>\n",
       "      <td>0</td>\n",
       "      <td>0</td>\n",
       "      <td>0</td>\n",
       "      <td>0</td>\n",
       "      <td>0</td>\n",
       "      <td>0</td>\n",
       "      <td>0</td>\n",
       "      <td>0</td>\n",
       "      <td>0</td>\n",
       "      <td>0</td>\n",
       "    </tr>\n",
       "    <tr>\n",
       "      <th>11734111</th>\n",
       "      <td>Evolving therapies: farnesyltransferase inhibi...</td>\n",
       "      <td>Current oncology reports</td>\n",
       "      <td>Curr Oncol Rep</td>\n",
       "      <td>2002-01-01</td>\n",
       "      <td>Farnesyltransferase inhibitors (FTIs) are comp...</td>\n",
       "      <td>Journal Article</td>\n",
       "      <td>6594.0</td>\n",
       "      <td>34.0</td>\n",
       "      <td>Farnesyltransferase inhibitors FTIs are compou...</td>\n",
       "      <td>[7480, 222, 8576, 32, 2411, 1114, 6, 6178, 5, ...</td>\n",
       "      <td>...</td>\n",
       "      <td>0</td>\n",
       "      <td>0</td>\n",
       "      <td>0</td>\n",
       "      <td>0</td>\n",
       "      <td>0</td>\n",
       "      <td>0</td>\n",
       "      <td>0</td>\n",
       "      <td>0</td>\n",
       "      <td>0</td>\n",
       "      <td>0</td>\n",
       "    </tr>\n",
       "  </tbody>\n",
       "</table>\n",
       "<p>5 rows × 40 columns</p>\n",
       "</div>"
      ],
      "text/plain": [
       "                                              article_title  \\\n",
       "pmid                                                          \n",
       "10037348  In vivo trial comparing patients' tolerance of...   \n",
       "10873802  A human homolog of the C. elegans polarity det...   \n",
       "11050493  An in vivo trial comparing the clinical effica...   \n",
       "11096383  A retrospective analysis of complications in t...   \n",
       "11734111  Evolving therapies: farnesyltransferase inhibi...   \n",
       "\n",
       "                                              journal_title    journal_abbre  \\\n",
       "pmid                                                                           \n",
       "10037348                     Lasers in surgery and medicine  Lasers Surg Med   \n",
       "10873802                               Current biology : CB      Curr. Biol.   \n",
       "11050493  Dermatologic surgery : official publication fo...    Dermatol Surg   \n",
       "11096383  Dermatologic surgery : official publication fo...    Dermatol Surg   \n",
       "11734111                           Current oncology reports   Curr Oncol Rep   \n",
       "\n",
       "         article_date                                           abstract  \\\n",
       "pmid                                                                       \n",
       "10037348   1999-01-01  Different types of Q-switched lasers have been...   \n",
       "10873802   2000-06-01  Rac and Cdc42 are members of the Rho family of...   \n",
       "11050493   2000-10-01  Q-switched 755 nm alexandrite (QS alex) and Q-...   \n",
       "11096383   2000-11-01  Studies on the use of Q-switched alexandrite (...   \n",
       "11734111   2002-01-01  Farnesyltransferase inhibitors (FTIs) are comp...   \n",
       "\n",
       "               article_type  pub_days  citation  \\\n",
       "pmid                                              \n",
       "10037348     Clinical Trial    7690.0      59.0   \n",
       "10873802    Journal Article    7173.0     219.0   \n",
       "11050493     Clinical Trial    7051.0      55.0   \n",
       "11096383  Comparative Study    7020.0      65.0   \n",
       "11734111    Journal Article    6594.0      34.0   \n",
       "\n",
       "                                             abstract_clean  \\\n",
       "pmid                                                          \n",
       "10037348  Different types of Q-switched lasers have been...   \n",
       "10873802  Rac and Cdc42 are members of the Rho family of...   \n",
       "11050493  Q-switched 755 nm alexandrite QS alex and Q-sw...   \n",
       "11096383  Studies on the use of Q-switched alexandrite Q...   \n",
       "11734111  Farnesyltransferase inhibitors FTIs are compou...   \n",
       "\n",
       "                                             text_clean_seq  ...  \\\n",
       "pmid                                                         ...   \n",
       "10037348  [338, 630, 1, 4170, 7883, 23018, 47, 85, 204, ...  ...   \n",
       "10873802  [11173, 2, 14297, 32, 1684, 1, 3, 5722, 607, 1...  ...   \n",
       "11050493  [4170, 7883, 14753, 2878, 42310, 9347, 15176, ...  ...   \n",
       "11096383  [94, 23, 3, 119, 1, 4170, 7883, 42310, 9347, 1...  ...   \n",
       "11734111  [7480, 222, 8576, 32, 2411, 1114, 6, 6178, 5, ...  ...   \n",
       "\n",
       "          Gastric Cancer  Gastrointestinal Tumor  Endometrial Cancer  \\\n",
       "pmid                                                                   \n",
       "10037348               0                       0                   0   \n",
       "10873802               0                       0                   0   \n",
       "11050493               0                       0                   0   \n",
       "11096383               0                       0                   0   \n",
       "11734111               0                       0                   0   \n",
       "\n",
       "          Acute Lymphoblastic Leukemia (ALL)  \\\n",
       "pmid                                           \n",
       "10037348                                   0   \n",
       "10873802                                   0   \n",
       "11050493                                   0   \n",
       "11096383                                   0   \n",
       "11734111                                   0   \n",
       "\n",
       "          Chronic Lymphocytic Leukemia (CLL)  Cardiac Tumors  Cervical Cancer  \\\n",
       "pmid                                                                            \n",
       "10037348                                   0               0                0   \n",
       "10873802                                   0               0                0   \n",
       "11050493                                   0               0                0   \n",
       "11096383                                   0               0                0   \n",
       "11734111                                   0               0                0   \n",
       "\n",
       "          Esophageal Cancer  Thyroid Cancer  Rectal Cancer  \n",
       "pmid                                                        \n",
       "10037348                  0               0              0  \n",
       "10873802                  0               0              0  \n",
       "11050493                  0               0              0  \n",
       "11096383                  0               0              0  \n",
       "11734111                  0               0              0  \n",
       "\n",
       "[5 rows x 40 columns]"
      ]
     },
     "execution_count": 126,
     "metadata": {},
     "output_type": "execute_result"
    }
   ],
   "source": [
    "abstract_test_df2.head()"
   ]
  },
  {
   "cell_type": "code",
   "execution_count": 127,
   "metadata": {},
   "outputs": [
    {
     "data": {
      "text/plain": [
       "(8475, 40)"
      ]
     },
     "execution_count": 127,
     "metadata": {},
     "output_type": "execute_result"
    }
   ],
   "source": [
    "abstract_test_df2.shape"
   ]
  },
  {
   "cell_type": "code",
   "execution_count": 128,
   "metadata": {},
   "outputs": [],
   "source": [
    "abstract_df2_annot=pd.concat([abstract_train_df, abstract_test_df2],sort=False)"
   ]
  },
  {
   "cell_type": "code",
   "execution_count": 129,
   "metadata": {},
   "outputs": [
    {
     "data": {
      "text/plain": [
       "(50930, 41)"
      ]
     },
     "execution_count": 129,
     "metadata": {},
     "output_type": "execute_result"
    }
   ],
   "source": [
    "abstract_df2_annot.shape"
   ]
  },
  {
   "cell_type": "code",
   "execution_count": 131,
   "metadata": {},
   "outputs": [],
   "source": [
    "pickle.dump(abstract_df2_annot, open(os.path.join(base_dir, \"data/abstract_citation_annot_df_50930.pkl\"), \"wb\"))"
   ]
  },
  {
   "cell_type": "code",
   "execution_count": 132,
   "metadata": {},
   "outputs": [],
   "source": [
    "abstract_df2_annot.to_csv(os.path.join(base_dir, \"data/abstract_citation_annot_df_50930.csv\"),index=False)"
   ]
  },
  {
   "cell_type": "code",
   "execution_count": 223,
   "metadata": {},
   "outputs": [],
   "source": [
    "abstract_df=pd.read_csv(os.path.join(base_dir, \"data/abstract_citation_annot_df_50930.csv\"),index_col='pmid')"
   ]
  },
  {
   "cell_type": "code",
   "execution_count": 224,
   "metadata": {},
   "outputs": [
    {
     "data": {
      "text/plain": [
       "(50930, 40)"
      ]
     },
     "execution_count": 224,
     "metadata": {},
     "output_type": "execute_result"
    }
   ],
   "source": [
    "abstract_df.shape"
   ]
  },
  {
   "cell_type": "code",
   "execution_count": 135,
   "metadata": {},
   "outputs": [
    {
     "data": {
      "text/plain": [
       "Index(['article_title', 'journal_title', 'journal_abbre', 'article_date',\n",
       "       'abstract', 'article_type', 'pub_days', 'citation', 'abstract_clean',\n",
       "       'Breast Cancer', 'Lung Cancer', 'Leukemia', 'Prostate Cancer',\n",
       "       'Colorectal Cancer', 'Lymphoma', 'Bone Cancer', 'Melanoma',\n",
       "       'Liver Cancer', 'Kidney Cancer', 'Ovarian Cancer', 'Pancreatic Cancer',\n",
       "       'Brain Tumor', 'Head and Neck Cancer', 'Acute Myeloid Leukemia (AML)',\n",
       "       'Multiple Myeloma', 'Sarcoma', 'Bladder Cancer', 'Skin Cancer',\n",
       "       'Gastric Cancer', 'Gastrointestinal Tumor', 'Endometrial Cancer',\n",
       "       'Acute Lymphoblastic Leukemia (ALL)',\n",
       "       'Chronic Lymphocytic Leukemia (CLL)', 'Cardiac Tumors',\n",
       "       'Cervical Cancer', 'Esophageal Cancer', 'Thyroid Cancer',\n",
       "       'Rectal Cancer', 'text_clean_seq', 'text_length'],\n",
       "      dtype='object')"
      ]
     },
     "execution_count": 135,
     "metadata": {},
     "output_type": "execute_result"
    }
   ],
   "source": [
    "abstrat_df.columns"
   ]
  },
  {
   "cell_type": "code",
   "execution_count": 136,
   "metadata": {},
   "outputs": [],
   "source": [
    "abstract_catalog=pd.read_csv(os.path.join(base_dir,'data/abstract_citation_annot_df_50930.csv'),index_col='pmid')"
   ]
  },
  {
   "cell_type": "code",
   "execution_count": 137,
   "metadata": {},
   "outputs": [
    {
     "data": {
      "text/plain": [
       "(50930, 40)"
      ]
     },
     "execution_count": 137,
     "metadata": {},
     "output_type": "execute_result"
    }
   ],
   "source": [
    "abstract_catalog.shape"
   ]
  },
  {
   "cell_type": "code",
   "execution_count": 161,
   "metadata": {},
   "outputs": [],
   "source": [
    "cancer_types= np.array(cancertype_flattened_df.cancer_type.value_counts().index)[:29]"
   ]
  },
  {
   "cell_type": "code",
   "execution_count": 162,
   "metadata": {},
   "outputs": [],
   "source": [
    "cancer_counts={}\n",
    "for cancer_type in cancer_types:\n",
    "    cancer_counts[cancer_type]=(abstract_catalog[cancer_type]==1).sum()"
   ]
  },
  {
   "cell_type": "code",
   "execution_count": 163,
   "metadata": {},
   "outputs": [
    {
     "data": {
      "text/html": [
       "<div>\n",
       "<style scoped>\n",
       "    .dataframe tbody tr th:only-of-type {\n",
       "        vertical-align: middle;\n",
       "    }\n",
       "\n",
       "    .dataframe tbody tr th {\n",
       "        vertical-align: top;\n",
       "    }\n",
       "\n",
       "    .dataframe thead th {\n",
       "        text-align: right;\n",
       "    }\n",
       "</style>\n",
       "<table border=\"1\" class=\"dataframe\">\n",
       "  <thead>\n",
       "    <tr style=\"text-align: right;\">\n",
       "      <th></th>\n",
       "      <th>counts1</th>\n",
       "    </tr>\n",
       "    <tr>\n",
       "      <th>cancer_type</th>\n",
       "      <th></th>\n",
       "    </tr>\n",
       "  </thead>\n",
       "  <tbody>\n",
       "    <tr>\n",
       "      <th>Breast Cancer</th>\n",
       "      <td>7757</td>\n",
       "    </tr>\n",
       "    <tr>\n",
       "      <th>Lung Cancer</th>\n",
       "      <td>5201</td>\n",
       "    </tr>\n",
       "    <tr>\n",
       "      <th>Leukemia</th>\n",
       "      <td>4755</td>\n",
       "    </tr>\n",
       "    <tr>\n",
       "      <th>Prostate Cancer</th>\n",
       "      <td>3878</td>\n",
       "    </tr>\n",
       "    <tr>\n",
       "      <th>Colorectal Cancer</th>\n",
       "      <td>3412</td>\n",
       "    </tr>\n",
       "  </tbody>\n",
       "</table>\n",
       "</div>"
      ],
      "text/plain": [
       "                   counts1\n",
       "cancer_type               \n",
       "Breast Cancer         7757\n",
       "Lung Cancer           5201\n",
       "Leukemia              4755\n",
       "Prostate Cancer       3878\n",
       "Colorectal Cancer     3412"
      ]
     },
     "execution_count": 163,
     "metadata": {},
     "output_type": "execute_result"
    }
   ],
   "source": [
    "cancer_counts55_df=cancertype_flattened_df.cancer_type.value_counts().to_frame().rename(columns={'cancer_type':'counts1'})\n",
    "cancer_counts55_df.index.name='cancer_type'\n",
    "cancer_counts55_df.head()"
   ]
  },
  {
   "cell_type": "code",
   "execution_count": 165,
   "metadata": {},
   "outputs": [],
   "source": [
    "cancer_counts55_df.to_csv(os.path.join(base_dir,'data/abstract_cancer_counts55_df.csv'),index=True)"
   ]
  },
  {
   "cell_type": "code",
   "execution_count": 166,
   "metadata": {},
   "outputs": [],
   "source": [
    "cancer_counts55_df=pd.read_csv(os.path.join(base_dir,'data/abstract_cancer_counts55_df.csv'),index_col='cancer_type')"
   ]
  },
  {
   "cell_type": "code",
   "execution_count": 167,
   "metadata": {},
   "outputs": [
    {
     "data": {
      "text/plain": [
       "(55, 1)"
      ]
     },
     "execution_count": 167,
     "metadata": {},
     "output_type": "execute_result"
    }
   ],
   "source": [
    "cancer_counts55_df.shape"
   ]
  },
  {
   "cell_type": "code",
   "execution_count": 168,
   "metadata": {},
   "outputs": [],
   "source": [
    "cancer_counts29_df=cancer_counts55_df[:29]"
   ]
  },
  {
   "cell_type": "code",
   "execution_count": 169,
   "metadata": {},
   "outputs": [
    {
     "data": {
      "text/html": [
       "<div>\n",
       "<style scoped>\n",
       "    .dataframe tbody tr th:only-of-type {\n",
       "        vertical-align: middle;\n",
       "    }\n",
       "\n",
       "    .dataframe tbody tr th {\n",
       "        vertical-align: top;\n",
       "    }\n",
       "\n",
       "    .dataframe thead th {\n",
       "        text-align: right;\n",
       "    }\n",
       "</style>\n",
       "<table border=\"1\" class=\"dataframe\">\n",
       "  <thead>\n",
       "    <tr style=\"text-align: right;\">\n",
       "      <th></th>\n",
       "      <th>counts2</th>\n",
       "    </tr>\n",
       "    <tr>\n",
       "      <th>cancer_type</th>\n",
       "      <th></th>\n",
       "    </tr>\n",
       "  </thead>\n",
       "  <tbody>\n",
       "    <tr>\n",
       "      <th>Breast Cancer</th>\n",
       "      <td>8563</td>\n",
       "    </tr>\n",
       "    <tr>\n",
       "      <th>Lung Cancer</th>\n",
       "      <td>5518</td>\n",
       "    </tr>\n",
       "    <tr>\n",
       "      <th>Leukemia</th>\n",
       "      <td>4962</td>\n",
       "    </tr>\n",
       "    <tr>\n",
       "      <th>Prostate Cancer</th>\n",
       "      <td>4018</td>\n",
       "    </tr>\n",
       "    <tr>\n",
       "      <th>Colorectal Cancer</th>\n",
       "      <td>3611</td>\n",
       "    </tr>\n",
       "  </tbody>\n",
       "</table>\n",
       "</div>"
      ],
      "text/plain": [
       "                   counts2\n",
       "cancer_type               \n",
       "Breast Cancer         8563\n",
       "Lung Cancer           5518\n",
       "Leukemia              4962\n",
       "Prostate Cancer       4018\n",
       "Colorectal Cancer     3611"
      ]
     },
     "execution_count": 169,
     "metadata": {},
     "output_type": "execute_result"
    }
   ],
   "source": [
    "cancer_counts_df2=pd.DataFrame.from_dict(cancer_counts,orient='index').rename(columns={0:'counts2'})\n",
    "cancer_counts_df2.index.name='cancer_type'\n",
    "cancer_counts_df2.head()"
   ]
  },
  {
   "cell_type": "code",
   "execution_count": 170,
   "metadata": {},
   "outputs": [
    {
     "name": "stdout",
     "output_type": "stream",
     "text": [
      "(29, 2)\n"
     ]
    },
    {
     "data": {
      "text/html": [
       "<div>\n",
       "<style scoped>\n",
       "    .dataframe tbody tr th:only-of-type {\n",
       "        vertical-align: middle;\n",
       "    }\n",
       "\n",
       "    .dataframe tbody tr th {\n",
       "        vertical-align: top;\n",
       "    }\n",
       "\n",
       "    .dataframe thead th {\n",
       "        text-align: right;\n",
       "    }\n",
       "</style>\n",
       "<table border=\"1\" class=\"dataframe\">\n",
       "  <thead>\n",
       "    <tr style=\"text-align: right;\">\n",
       "      <th></th>\n",
       "      <th>counts1</th>\n",
       "      <th>counts2</th>\n",
       "    </tr>\n",
       "    <tr>\n",
       "      <th>cancer_type</th>\n",
       "      <th></th>\n",
       "      <th></th>\n",
       "    </tr>\n",
       "  </thead>\n",
       "  <tbody>\n",
       "    <tr>\n",
       "      <th>Breast Cancer</th>\n",
       "      <td>7757</td>\n",
       "      <td>8563</td>\n",
       "    </tr>\n",
       "    <tr>\n",
       "      <th>Lung Cancer</th>\n",
       "      <td>5201</td>\n",
       "      <td>5518</td>\n",
       "    </tr>\n",
       "    <tr>\n",
       "      <th>Leukemia</th>\n",
       "      <td>4755</td>\n",
       "      <td>4962</td>\n",
       "    </tr>\n",
       "    <tr>\n",
       "      <th>Prostate Cancer</th>\n",
       "      <td>3878</td>\n",
       "      <td>4018</td>\n",
       "    </tr>\n",
       "    <tr>\n",
       "      <th>Colorectal Cancer</th>\n",
       "      <td>3412</td>\n",
       "      <td>3611</td>\n",
       "    </tr>\n",
       "  </tbody>\n",
       "</table>\n",
       "</div>"
      ],
      "text/plain": [
       "                   counts1  counts2\n",
       "cancer_type                        \n",
       "Breast Cancer         7757     8563\n",
       "Lung Cancer           5201     5518\n",
       "Leukemia              4755     4962\n",
       "Prostate Cancer       3878     4018\n",
       "Colorectal Cancer     3412     3611"
      ]
     },
     "execution_count": 170,
     "metadata": {},
     "output_type": "execute_result"
    }
   ],
   "source": [
    "cancer_counts29_df2=pd.merge(cancer_counts29_df,cancer_counts_df2,left_index=True,right_index=True)\n",
    "print(cancer_counts29_df2.shape)\n",
    "cancer_counts29_df2.head()"
   ]
  },
  {
   "cell_type": "code",
   "execution_count": 171,
   "metadata": {},
   "outputs": [],
   "source": [
    "cancer_counts29_df2.to_csv(os.path.join(base_dir, 'data/abstract_cancer_counts29_df.csv'),index=True)"
   ]
  },
  {
   "cell_type": "code",
   "execution_count": 172,
   "metadata": {},
   "outputs": [],
   "source": [
    "cancer_counts29_df2=pd.read_csv(os.path.join(base_dir, 'data/abstract_cancer_counts29_df.csv'),index_col='cancer_type')"
   ]
  },
  {
   "cell_type": "code",
   "execution_count": 173,
   "metadata": {},
   "outputs": [
    {
     "data": {
      "text/plain": [
       "(29, 2)"
      ]
     },
     "execution_count": 173,
     "metadata": {},
     "output_type": "execute_result"
    }
   ],
   "source": [
    "cancer_counts29_df2.shape"
   ]
  },
  {
   "cell_type": "markdown",
   "metadata": {},
   "source": [
    "### Validation statistics"
   ]
  },
  {
   "cell_type": "code",
   "execution_count": 176,
   "metadata": {},
   "outputs": [],
   "source": [
    "cancer_type='Breast Cancer'\n",
    "prefix=cancer_prefix_dict[cancer_type]\n",
    "summary_df = pd.read_csv(os.path.join(base_dir,'models_2/{}_summary_df.csv'.format(prefix)))\n",
    "pred_df = pd.read_csv(os.path.join(base_dir,'models_2/{}_pred_df.csv'.format(prefix)))"
   ]
  },
  {
   "cell_type": "code",
   "execution_count": 177,
   "metadata": {},
   "outputs": [
    {
     "data": {
      "text/html": [
       "<div>\n",
       "<style scoped>\n",
       "    .dataframe tbody tr th:only-of-type {\n",
       "        vertical-align: middle;\n",
       "    }\n",
       "\n",
       "    .dataframe tbody tr th {\n",
       "        vertical-align: top;\n",
       "    }\n",
       "\n",
       "    .dataframe thead th {\n",
       "        text-align: right;\n",
       "    }\n",
       "</style>\n",
       "<table border=\"1\" class=\"dataframe\">\n",
       "  <thead>\n",
       "    <tr style=\"text-align: right;\">\n",
       "      <th></th>\n",
       "      <th>category</th>\n",
       "      <th>correct</th>\n",
       "      <th>total</th>\n",
       "    </tr>\n",
       "  </thead>\n",
       "  <tbody>\n",
       "    <tr>\n",
       "      <th>0</th>\n",
       "      <td>Class_0</td>\n",
       "      <td>6732.0</td>\n",
       "      <td>6940.0</td>\n",
       "    </tr>\n",
       "    <tr>\n",
       "      <th>1</th>\n",
       "      <td>Class_1</td>\n",
       "      <td>1326.0</td>\n",
       "      <td>1551.0</td>\n",
       "    </tr>\n",
       "  </tbody>\n",
       "</table>\n",
       "</div>"
      ],
      "text/plain": [
       "  category  correct   total\n",
       "0  Class_0   6732.0  6940.0\n",
       "1  Class_1   1326.0  1551.0"
      ]
     },
     "execution_count": 177,
     "metadata": {},
     "output_type": "execute_result"
    }
   ],
   "source": [
    "summary_df"
   ]
  },
  {
   "cell_type": "code",
   "execution_count": 178,
   "metadata": {},
   "outputs": [
    {
     "data": {
      "text/html": [
       "<div>\n",
       "<style scoped>\n",
       "    .dataframe tbody tr th:only-of-type {\n",
       "        vertical-align: middle;\n",
       "    }\n",
       "\n",
       "    .dataframe tbody tr th {\n",
       "        vertical-align: top;\n",
       "    }\n",
       "\n",
       "    .dataframe thead th {\n",
       "        text-align: right;\n",
       "    }\n",
       "</style>\n",
       "<table border=\"1\" class=\"dataframe\">\n",
       "  <thead>\n",
       "    <tr style=\"text-align: right;\">\n",
       "      <th></th>\n",
       "      <th>true_label</th>\n",
       "      <th>prediction</th>\n",
       "      <th>prob</th>\n",
       "      <th>class_0</th>\n",
       "      <th>class_1</th>\n",
       "    </tr>\n",
       "  </thead>\n",
       "  <tbody>\n",
       "    <tr>\n",
       "      <th>0</th>\n",
       "      <td>0</td>\n",
       "      <td>0</td>\n",
       "      <td>0.999485</td>\n",
       "      <td>0.999485</td>\n",
       "      <td>0.000515</td>\n",
       "    </tr>\n",
       "    <tr>\n",
       "      <th>1</th>\n",
       "      <td>0</td>\n",
       "      <td>0</td>\n",
       "      <td>0.999820</td>\n",
       "      <td>0.999820</td>\n",
       "      <td>0.000180</td>\n",
       "    </tr>\n",
       "    <tr>\n",
       "      <th>2</th>\n",
       "      <td>0</td>\n",
       "      <td>0</td>\n",
       "      <td>0.993727</td>\n",
       "      <td>0.993727</td>\n",
       "      <td>0.006273</td>\n",
       "    </tr>\n",
       "    <tr>\n",
       "      <th>3</th>\n",
       "      <td>0</td>\n",
       "      <td>0</td>\n",
       "      <td>0.999568</td>\n",
       "      <td>0.999568</td>\n",
       "      <td>0.000432</td>\n",
       "    </tr>\n",
       "    <tr>\n",
       "      <th>4</th>\n",
       "      <td>0</td>\n",
       "      <td>0</td>\n",
       "      <td>0.999996</td>\n",
       "      <td>0.999996</td>\n",
       "      <td>0.000004</td>\n",
       "    </tr>\n",
       "  </tbody>\n",
       "</table>\n",
       "</div>"
      ],
      "text/plain": [
       "   true_label  prediction      prob   class_0   class_1\n",
       "0           0           0  0.999485  0.999485  0.000515\n",
       "1           0           0  0.999820  0.999820  0.000180\n",
       "2           0           0  0.993727  0.993727  0.006273\n",
       "3           0           0  0.999568  0.999568  0.000432\n",
       "4           0           0  0.999996  0.999996  0.000004"
      ]
     },
     "execution_count": 178,
     "metadata": {},
     "output_type": "execute_result"
    }
   ],
   "source": [
    "pred_df.head()"
   ]
  },
  {
   "cell_type": "code",
   "execution_count": 182,
   "metadata": {},
   "outputs": [],
   "source": [
    "class0_acc = summary_df.correct[0]/summary_df.total[0]\n",
    "class1_acc = summary_df.correct[1]/summary_df.total[1]\n",
    "recall = recall_score(pred_df.true_label, pred_df.prediction)\n",
    "precision = precision_score(pred_df.true_label, pred_df.prediction)\n",
    "f1 = f1_score(pred_df.true_label, pred_df.prediction)\n",
    "auc_score = roc_auc_score(pred_df.true_label, pred_df.class_1)"
   ]
  },
  {
   "cell_type": "code",
   "execution_count": 188,
   "metadata": {},
   "outputs": [
    {
     "data": {
      "text/plain": [
       "0.8549323017408124"
      ]
     },
     "execution_count": 188,
     "metadata": {},
     "output_type": "execute_result"
    }
   ],
   "source": [
    "class1_acc"
   ]
  },
  {
   "cell_type": "code",
   "execution_count": 84,
   "metadata": {},
   "outputs": [],
   "source": [
    "class0_acc_dict = {}\n",
    "class1_acc_dict = {}\n",
    "recall_dict = {}\n",
    "precision_dict = {}\n",
    "f1_dict = {}\n",
    "auc_score_dict = {}"
   ]
  },
  {
   "cell_type": "code",
   "execution_count": 85,
   "metadata": {},
   "outputs": [],
   "source": [
    "def RNN_val_performance(cancer_type):\n",
    "    prefix=cancer_prefix_dict[cancer_type]\n",
    "    summary_df = pd.read_csv(os.path.join(base_dir,'models_2/{}_summary_df.csv'.format(prefix)))\n",
    "    pred_df = pd.read_csv(os.path.join(base_dir,'models_2/{}_pred_df.csv'.format(prefix)))\n",
    "    class0_acc_dict[cancer_type] = summary_df.correct[0]/summary_df.total[0]\n",
    "    class1_acc_dict[cancer_type] = summary_df.correct[1]/summary_df.total[1]\n",
    "    recall_dict[cancer_type] = recall_score(pred_df.true_label, pred_df.prediction)\n",
    "    precision_dict[cancer_type] = precision_score(pred_df.true_label, pred_df.prediction)\n",
    "    f1_dict[cancer_type] = f1_score(pred_df.true_label, pred_df.prediction)\n",
    "    auc_score_dict[cancer_type] = roc_auc_score(pred_df.true_label, pred_df.class_1)"
   ]
  },
  {
   "cell_type": "code",
   "execution_count": 86,
   "metadata": {},
   "outputs": [],
   "source": [
    "for cancer_type in np.array(cancertype_flattened_df.cancer_type.value_counts().index)[:29]:\n",
    "    RNN_val_performance(cancer_type)"
   ]
  },
  {
   "cell_type": "code",
   "execution_count": 87,
   "metadata": {},
   "outputs": [],
   "source": [
    "df1 = pd.DataFrame.from_dict(class0_acc_dict, orient='index', columns=['class0_acc'])\n",
    "df2 = pd.DataFrame.from_dict(class1_acc_dict, orient='index', columns=['class1_acc'])\n",
    "df3 = pd.DataFrame.from_dict(recall_dict, orient='index', columns=['recall_score'])\n",
    "df4 = pd.DataFrame.from_dict(precision_dict, orient='index', columns=['precision_score'])\n",
    "df5 = pd.DataFrame.from_dict(f1_dict, orient='index', columns=['f1_score'])\n",
    "df6 = pd.DataFrame.from_dict(auc_score_dict, orient='index', columns=['auc_score'])"
   ]
  },
  {
   "cell_type": "code",
   "execution_count": 88,
   "metadata": {},
   "outputs": [],
   "source": [
    "dl_summary_df=pd.concat([df1,df2,df3,df4,df5,df6],axis=1,sort=False)"
   ]
  },
  {
   "cell_type": "code",
   "execution_count": 89,
   "metadata": {},
   "outputs": [
    {
     "data": {
      "text/html": [
       "<div>\n",
       "<style scoped>\n",
       "    .dataframe tbody tr th:only-of-type {\n",
       "        vertical-align: middle;\n",
       "    }\n",
       "\n",
       "    .dataframe tbody tr th {\n",
       "        vertical-align: top;\n",
       "    }\n",
       "\n",
       "    .dataframe thead th {\n",
       "        text-align: right;\n",
       "    }\n",
       "</style>\n",
       "<table border=\"1\" class=\"dataframe\">\n",
       "  <thead>\n",
       "    <tr style=\"text-align: right;\">\n",
       "      <th></th>\n",
       "      <th>class0_acc</th>\n",
       "      <th>class1_acc</th>\n",
       "      <th>recall_score</th>\n",
       "      <th>precision_score</th>\n",
       "      <th>f1_score</th>\n",
       "      <th>auc_score</th>\n",
       "    </tr>\n",
       "  </thead>\n",
       "  <tbody>\n",
       "    <tr>\n",
       "      <th>Breast Cancer</th>\n",
       "      <td>0.968300</td>\n",
       "      <td>0.856959</td>\n",
       "      <td>0.856959</td>\n",
       "      <td>0.858065</td>\n",
       "      <td>0.857511</td>\n",
       "      <td>0.978546</td>\n",
       "    </tr>\n",
       "    <tr>\n",
       "      <th>Lung Cancer</th>\n",
       "      <td>0.984432</td>\n",
       "      <td>0.744231</td>\n",
       "      <td>0.744231</td>\n",
       "      <td>0.869663</td>\n",
       "      <td>0.802073</td>\n",
       "      <td>0.956631</td>\n",
       "    </tr>\n",
       "    <tr>\n",
       "      <th>Leukemia</th>\n",
       "      <td>0.997613</td>\n",
       "      <td>0.937960</td>\n",
       "      <td>0.937960</td>\n",
       "      <td>0.980220</td>\n",
       "      <td>0.958624</td>\n",
       "      <td>0.995662</td>\n",
       "    </tr>\n",
       "    <tr>\n",
       "      <th>Prostate Cancer</th>\n",
       "      <td>0.993260</td>\n",
       "      <td>0.793814</td>\n",
       "      <td>0.793814</td>\n",
       "      <td>0.922156</td>\n",
       "      <td>0.853186</td>\n",
       "      <td>0.977347</td>\n",
       "    </tr>\n",
       "    <tr>\n",
       "      <th>Colorectal Cancer</th>\n",
       "      <td>0.983993</td>\n",
       "      <td>0.683284</td>\n",
       "      <td>0.683284</td>\n",
       "      <td>0.788494</td>\n",
       "      <td>0.732129</td>\n",
       "      <td>0.960221</td>\n",
       "    </tr>\n",
       "  </tbody>\n",
       "</table>\n",
       "</div>"
      ],
      "text/plain": [
       "                   class0_acc  class1_acc  recall_score  precision_score  \\\n",
       "Breast Cancer        0.968300    0.856959      0.856959         0.858065   \n",
       "Lung Cancer          0.984432    0.744231      0.744231         0.869663   \n",
       "Leukemia             0.997613    0.937960      0.937960         0.980220   \n",
       "Prostate Cancer      0.993260    0.793814      0.793814         0.922156   \n",
       "Colorectal Cancer    0.983993    0.683284      0.683284         0.788494   \n",
       "\n",
       "                   f1_score  auc_score  \n",
       "Breast Cancer      0.857511   0.978546  \n",
       "Lung Cancer        0.802073   0.956631  \n",
       "Leukemia           0.958624   0.995662  \n",
       "Prostate Cancer    0.853186   0.977347  \n",
       "Colorectal Cancer  0.732129   0.960221  "
      ]
     },
     "execution_count": 89,
     "metadata": {},
     "output_type": "execute_result"
    }
   ],
   "source": [
    "dl_summary_df.head()"
   ]
  },
  {
   "cell_type": "code",
   "execution_count": 90,
   "metadata": {},
   "outputs": [],
   "source": [
    "dl_summary_df.to_csv(os.path.join(base_dir, 'models/dl_dummary_df.csv'),index=True,index_label='cancer_type')"
   ]
  },
  {
   "cell_type": "code",
   "execution_count": 91,
   "metadata": {},
   "outputs": [],
   "source": [
    "dl_summary_df=pd.read_csv(os.path.join(base_dir, 'models/dl_dummary_df.csv'),index_col='cancer_type')"
   ]
  },
  {
   "cell_type": "code",
   "execution_count": 92,
   "metadata": {},
   "outputs": [
    {
     "data": {
      "text/plain": [
       "<matplotlib.legend.Legend at 0x1426a3908>"
      ]
     },
     "execution_count": 92,
     "metadata": {},
     "output_type": "execute_result"
    },
    {
     "data": {
      "image/png": "[encoded data removed]",
      "text/plain": [
       "<Figure size 864x864 with 1 Axes>"
      ]
     },
     "metadata": {
      "needs_background": "light"
     },
     "output_type": "display_data"
    }
   ],
   "source": [
    "fig = plt.figure(figsize = (12,12))\n",
    "ax = fig.add_subplot(1,1,1)\n",
    "width = 0.75 # the width of the bars \n",
    "ind = np.arange(len(dl_summary_df))  # the x locations for the groups\n",
    "ax.barh(ind, dl_summary_df.f1_score, width, edgecolor='black',color='steelblue',label='f1_score')\n",
    "ax.invert_yaxis()\n",
    "plt.yticks(ind, labels = dl_summary_df.index, fontsize=12)\n",
    "plt.yticks(fontsize=14)\n",
    "#plt.ylim(0,110)\n",
    "plt.ylabel('Cancer type', fontsize=16)\n",
    "plt.xlabel('validation score', fontsize=16)\n",
    "plt.title('RNN validation f1 score for each cancer type', fontsize=20)\n",
    "plt.legend(fontsize=12,bbox_to_anchor=(1.01, 1), loc=2, borderaxespad=0.)"
   ]
  },
  {
   "cell_type": "code",
   "execution_count": null,
   "metadata": {},
   "outputs": [],
   "source": []
  },
  {
   "cell_type": "code",
   "execution_count": null,
   "metadata": {},
   "outputs": [],
   "source": []
  }
 ],
 "metadata": {
  "kernelspec": {
   "display_name": "Python 3",
   "language": "python",
   "name": "python3"
  },
  "language_info": {
   "codemirror_mode": {
    "name": "ipython",
    "version": 3
   },
   "file_extension": ".py",
   "mimetype": "text/x-python",
   "name": "python",
   "nbconvert_exporter": "python",
   "pygments_lexer": "ipython3",
   "version": "3.6.2"
  }
 },
 "nbformat": 4,
 "nbformat_minor": 2
}
