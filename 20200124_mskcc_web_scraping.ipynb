{
 "cells": [
  {
   "cell_type": "code",
   "execution_count": 19,
   "metadata": {},
   "outputs": [],
   "source": [
    "import pandas as pd\n",
    "import numpy as np\n",
    "import os\n",
    "import matplotlib.pyplot as plt\n",
    "%matplotlib inline\n",
    "import seaborn as sns\n",
    "\n",
    "import pickle\n",
    "from Bio import Entrez\n",
    "import requests\n",
    "import json\n",
    "from pandas.io.json import json_normalize\n",
    "from bs4 import BeautifulSoup\n",
    "from collections import defaultdict\n",
    "import shutil\n",
    "from urllib.parse import urlparse\n",
    "\n",
    "import gensim\n",
    "import nltk\n",
    "from nltk.stem import WordNetLemmatizer\n",
    "np.random.seed(2018)\n",
    "from nltk.stem.porter import PorterStemmer\n",
    "from string import punctuation"
   ]
  },
  {
   "cell_type": "code",
   "execution_count": 2,
   "metadata": {},
   "outputs": [],
   "source": [
    "base_dir='/Volumes/Yuchen_Drive/Insight/OncoMatch'\n",
    "onco_df=pickle.load(open(os.path.join(base_dir, \"data/Oncologist_info_1470.pkl\"),\"rb\"))"
   ]
  },
  {
   "cell_type": "code",
   "execution_count": 3,
   "metadata": {},
   "outputs": [],
   "source": [
    "center_df=pd.read_csv(os.path.join(base_dir, 'data/nci_center.csv'))"
   ]
  },
  {
   "cell_type": "code",
   "execution_count": 4,
   "metadata": {},
   "outputs": [],
   "source": [
    "center_name=\"Memorial Sloan-Kettering Cancer Center\"\n",
    "onco_mskcc = onco_df.query('center_name==\"{}\"'.format(center_name))\n",
    "onco_mskcc_list = onco_mskcc.name.values"
   ]
  },
  {
   "cell_type": "code",
   "execution_count": 5,
   "metadata": {},
   "outputs": [],
   "source": [
    "center_name=\"Memorial Sloan-Kettering Cancer Center\""
   ]
  },
  {
   "cell_type": "code",
   "execution_count": 6,
   "metadata": {},
   "outputs": [],
   "source": [
    "onco_center=center_name"
   ]
  },
  {
   "cell_type": "code",
   "execution_count": 7,
   "metadata": {},
   "outputs": [
    {
     "data": {
      "text/plain": [
       "'memorial_sloan-kettering_cancer_center'"
      ]
     },
     "execution_count": 7,
     "metadata": {},
     "output_type": "execute_result"
    }
   ],
   "source": [
    "\"_\".join([i.lower() for i in center_name.split()])"
   ]
  },
  {
   "cell_type": "code",
   "execution_count": 8,
   "metadata": {},
   "outputs": [
    {
     "data": {
      "text/plain": [
       "'../static/images/memorial_sloan-kettering_cancer_center.png'"
      ]
     },
     "execution_count": 8,
     "metadata": {},
     "output_type": "execute_result"
    }
   ],
   "source": [
    "'../static/images/'+\"_\".join([i.lower() for i in onco_center.split()])+\".png\""
   ]
  },
  {
   "cell_type": "code",
   "execution_count": 9,
   "metadata": {},
   "outputs": [
    {
     "data": {
      "text/plain": [
       "array(['Mortimer J. Lacher', 'Kenneth H. Yu', 'Robert Sidlow',\n",
       "       'Lisa Marie Ruppert', 'Carl Ola Landgren', 'Yukio Sonoda',\n",
       "       'Marsha Reyngold', 'Andrea Veronica Barrio', 'Seth M. Cohen',\n",
       "       'Sam S. Yoon', 'Atif J. Khan', 'Alexandra S. Heerdt',\n",
       "       'William P. Tew', 'Tiffany A. Traina', 'Arlyn J. Apollo',\n",
       "       'Bianca Santomasso', 'Maria Lia Palomba', 'Mark M. Souweidane',\n",
       "       'Sarat Chandarlapaty', 'Zoe Goldberg', 'Sean Matthew McBride',\n",
       "       'Jonathan E. Rosenberg', 'Heather Jolie Landau', 'Louise Ligresti',\n",
       "       'Loren S. Michel', 'Renier J. Brentjens', 'Chau T. Dang',\n",
       "       'Marcel R. M. Van Den Brink', 'Samuel Singer', 'S. Machele Donat',\n",
       "       'Mahmoud El-Tamer', 'William R. Jarnagin', 'Michael P. La Quaglia',\n",
       "       'Richard J. Wong', 'Paul Russo', 'Martin R. Weiser',\n",
       "       'Steven Martin', 'Mario M. Leitao', 'Paul A. Hamlin',\n",
       "       'Charles L. Sawyers', 'Luc Morris', 'Gregory Raskin',\n",
       "       'Gregory J. Riely', 'David J. Chung', 'David B. Solit',\n",
       "       'Paul K. Paik', 'Guenther Koehne', 'Alexander M. Lesokhin',\n",
       "       'Richard Tuli', 'Prasad S. Adusumilli', 'Charlotte Eielson Ariyan',\n",
       "       'Julia Lynne Glade Bender', 'James Huang', 'Alice Zervoudakis',\n",
       "       \"Sandra P. D'Angelo\", 'Diane Lauren Reidy', 'Elizabeth Anne Comen',\n",
       "       'T. Peter Kingham', 'Aimee Marie Crago', 'Marina Shcherba',\n",
       "       'Jae Hong Park', 'Jesse Joshua Smith', 'Jamie E. Chaft',\n",
       "       'Marjorie Glass Zauderer', 'John Paul Diaz',\n",
       "       'Serena Tsan-Lai Wong', 'Darren R. Feldman',\n",
       "       'Victoria Susana Blinder', 'Geoffrey Yuyat Ku',\n",
       "       'Matthew J. Matasar', 'Zsofia Kinga Stadler', 'Karim A. Touijer',\n",
       "       'Yu Chen', 'Mila Gorsky', 'Daniel Costin Danila',\n",
       "       'Sree Bhavani Chalasani', 'Alan Loh Ho', 'Ting Bao',\n",
       "       'Alison J. Moskowitz', 'Vicky Makker', 'Mario E. Lacouture',\n",
       "       \"Roisin Eilish O'Cearbhaill\", 'Oliver Zivanovic',\n",
       "       'David Randolph Jones', 'Ping Chi', \"Michael Ian D'Angelica\",\n",
       "       'Ingo K. Mellinghoff', 'Carol L. Brown', 'Harry W. Herr',\n",
       "       'Nai-Kong V. Cheung', 'Nancy T. Sklarin', 'Ellin Berman',\n",
       "       'Brian H. Kushner', 'Peter T. Scardino', 'David A. Scheinberg',\n",
       "       'Kenneth Offit', 'Leonard B. Saltz', 'Isidore Tepler',\n",
       "       'George Plitas', 'Monica Morrow', 'Avni Mukund Desai',\n",
       "       'Eytan Stein', 'Esperanza Bouza Papadopoulos', 'David G. Pfister',\n",
       "       'Valerie W. Rusch', 'Neal Rosen', 'Andrew David Zelenetz',\n",
       "       'David H. Ilson', 'Marc Jeffrey Gollub', 'Steven M. Larson',\n",
       "       'Anas Younes', 'Paul A. Meyers', 'Rachel N. Grisham',\n",
       "       'David Paul Kelsen', 'David J. Straus', 'Elena Pentsova',\n",
       "       'Larry Norton', 'Mark G. Kris', 'Neil M. Iyengar',\n",
       "       'Howard I. Scher', 'Nadeem Riaz', 'William Breitbart',\n",
       "       'Dean F. Bajorin', 'Beatriz Korc-Grodzicki', 'Marc Ladanyi',\n",
       "       'Stuart M. Lichtman', 'Paul B. Chapman', 'Lisa Marie DeAngelis',\n",
       "       'Martin S. Tallman', 'Robert J. Motzer', 'James Vincent Fetten',\n",
       "       'Kara C. Long-Roche', 'Daphna Y. Gelblum', 'Jose G. Guillem',\n",
       "       'Bob T. Li', 'Kimberly J. Van Zee', 'Juliana Eng',\n",
       "       'Jacob Lowell Glass', 'Parisa Momtaz', 'Alexander Noor Shoushtari',\n",
       "       'Lisa Diamond', 'Eli L. Diamond', 'Mark Bilsky',\n",
       "       'Leonard H. Wexler', 'Dennis Chi', 'Ghassan K. Abou-Alfa',\n",
       "       'Eric Jeffrey Sherman', 'Michael J. Morris', 'Philip Paty',\n",
       "       'Peter Bach', 'Jedd D. Wolchok', 'Miguel-Angel Perales',\n",
       "       'Steven Sugarman', 'Han Xiao', 'Peter George Maslak',\n",
       "       'Susan F. Slovin', 'Mark E. Robson', 'Philip Caron',\n",
       "       'Linda T. Vahda', 'Elizabeth Lin Jewell', 'Martee Leigh Hensley',\n",
       "       'Mary Susan Brady', 'Carol Aghajanian', 'Ira J. Dunkel',\n",
       "       'Sergio Giralt', 'Paul Sabbatini', 'Ariela Noy',\n",
       "       'Andrew Michael Intlekofer', 'Matthew David Hellmann',\n",
       "       'Charles M. Rudin', 'Wanqing Iris Zhi', 'Kenneth K. Ng',\n",
       "       \"Eileen Mary O'Reilly\", \"Gabriella D'Andrea\", 'Pamela Drullinsky',\n",
       "       'Komal L. Jhaveri'], dtype=object)"
      ]
     },
     "execution_count": 9,
     "metadata": {},
     "output_type": "execute_result"
    }
   ],
   "source": [
    "onco_mskcc_list"
   ]
  },
  {
   "cell_type": "code",
   "execution_count": 10,
   "metadata": {},
   "outputs": [
    {
     "name": "stdout",
     "output_type": "stream",
     "text": [
      "176\n"
     ]
    }
   ],
   "source": [
    "print(len(onco_mskcc_list))"
   ]
  },
  {
   "cell_type": "code",
   "execution_count": 283,
   "metadata": {},
   "outputs": [],
   "source": [
    "def mskcc_name_preprocess(name):\n",
    "    result = []\n",
    "    temp = name.split()\n",
    "    if len(temp)==3:\n",
    "        if (len(temp[0])==2 and temp[0][1]==\".\"):\n",
    "            result.append(temp[0][0].lower())\n",
    "            result.append(temp[1].replace(\"'\", \"-\").lower()) if \"'\" in temp[1] else result.append(temp[1].lower())\n",
    "            result.append(temp[2].replace(\"'\", \"-\").lower()) if \"'\" in temp[2] else result.append(temp[2].lower())\n",
    "        else:\n",
    "            result.append(temp[0].lower())\n",
    "            result.append(temp[2].replace(\"'\", \"-\").lower()) if \"'\" in temp[2] else result.append(temp[2].lower())\n",
    "    \n",
    "    else:\n",
    "        for i,v in enumerate(temp):\n",
    "            if len(v)==2 and v[1]=='.' and i!=0:\n",
    "                continue\n",
    "            elif len(v)==2 and v[1]=='.' and i==0:\n",
    "                result.append(v[0].lower())\n",
    "            elif \"'\" in v:\n",
    "                result.append(v.replace(\"'\", \"-\").lower())\n",
    "            else:\n",
    "                result.append(v.lower())\n",
    "    return \"-\".join(result)"
   ]
  },
  {
   "cell_type": "code",
   "execution_count": null,
   "metadata": {},
   "outputs": [],
   "source": [
    "def mskcc_name_preprocess2(name):\n",
    "    result = []\n",
    "    temp = name.split()\n",
    "    for i in temp:\n",
    "        if len(i)==2 and i[1]=='.':\n",
    "            continue\n",
    "        elif \"'\" in i:\n",
    "            result.append(i.replace(\"'\", \"-\").lower())\n",
    "        else:\n",
    "            result.append(i.lower())\n",
    "    return \"-\".join(result)"
   ]
  },
  {
   "cell_type": "code",
   "execution_count": 178,
   "metadata": {},
   "outputs": [
    {
     "data": {
      "text/plain": [
       "'carl-ola-landgren'"
      ]
     },
     "execution_count": 178,
     "metadata": {},
     "output_type": "execute_result"
    }
   ],
   "source": [
    "a = \"Carl Ola Landgren\"\n",
    "mskcc_name_preprocess(a)"
   ]
  },
  {
   "cell_type": "code",
   "execution_count": 138,
   "metadata": {},
   "outputs": [],
   "source": [
    "onco_name1 = \"Marcel R. M. Van Den Brink\"\n",
    "onco_name2 = \"Andrea V. Barrio\"\n",
    "onco_name3 = \"Mark E. Robson\"\n",
    "temp1 = mskcc_name_preprocess(onco_name1)\n",
    "temp2 = mskcc_name_preprocess(onco_name2)\n",
    "temp3 = mskcc_name_preprocess(onco_name3)"
   ]
  },
  {
   "cell_type": "code",
   "execution_count": 182,
   "metadata": {},
   "outputs": [],
   "source": [
    "onco_name = \"Mortimer J. Lacher\"\n",
    "temp = mskcc_name_preprocess(onco_name)\n",
    "search_url=base_url.format(temp)\n",
    "html = requests.get(search_url).content\n",
    "soup = BeautifulSoup(html,'html.parser')"
   ]
  },
  {
   "cell_type": "code",
   "execution_count": 185,
   "metadata": {},
   "outputs": [
    {
     "data": {
      "text/plain": [
       "[]"
      ]
     },
     "execution_count": 185,
     "metadata": {},
     "output_type": "execute_result"
    }
   ],
   "source": [
    "soup.find_all('div',{'class':'msk-left-rail-hero__hero-item--content msk-left-rail-hero__hero-item'})"
   ]
  },
  {
   "cell_type": "code",
   "execution_count": 121,
   "metadata": {},
   "outputs": [],
   "source": [
    "base_url='https://www.mskcc.org/cancer-care/doctors/{}'\n",
    "search_url=base_url.format(temp)"
   ]
  },
  {
   "cell_type": "code",
   "execution_count": 155,
   "metadata": {},
   "outputs": [],
   "source": [
    "search_url1=base_url.format(temp1)\n",
    "search_url2=base_url.format(temp2)\n",
    "search_url3=base_url.format(temp3)"
   ]
  },
  {
   "cell_type": "code",
   "execution_count": 122,
   "metadata": {},
   "outputs": [],
   "source": [
    "html = requests.get(search_url).content\n",
    "soup = BeautifulSoup(html,'html.parser')"
   ]
  },
  {
   "cell_type": "code",
   "execution_count": 156,
   "metadata": {},
   "outputs": [],
   "source": [
    "html1 = requests.get(search_url1).content\n",
    "soup1 = BeautifulSoup(html1,'html.parser')"
   ]
  },
  {
   "cell_type": "code",
   "execution_count": 157,
   "metadata": {},
   "outputs": [],
   "source": [
    "html2 = requests.get(search_url2).content\n",
    "soup2 = BeautifulSoup(html2,'html.parser')"
   ]
  },
  {
   "cell_type": "code",
   "execution_count": 158,
   "metadata": {},
   "outputs": [],
   "source": [
    "html3 = requests.get(search_url3).content\n",
    "soup3 = BeautifulSoup(html3,'html.parser')"
   ]
  },
  {
   "cell_type": "code",
   "execution_count": 70,
   "metadata": {},
   "outputs": [
    {
     "data": {
      "text/plain": [
       "[<h2 class=\"msk-left-rail-hero__hero-heading\">Titles</h2>,\n",
       " <h2 class=\"msk-left-rail-hero__hero-heading\">Clinical Expertise</h2>]"
      ]
     },
     "execution_count": 70,
     "metadata": {},
     "output_type": "execute_result"
    }
   ],
   "source": [
    "#soup.find_all('h2',{'class':'msk-left-rail-hero__hero-heading'})"
   ]
  },
  {
   "cell_type": "code",
   "execution_count": 103,
   "metadata": {},
   "outputs": [],
   "source": [
    "#\"\".join(soup.find_all('div',{'class':'msk-markup'})[0].get_text().replace(\"\\xa0\\n\\n\\n\\nRead more\\n\\n\\n\\n\\n\", \"\").split(\"\\n\"))"
   ]
  },
  {
   "cell_type": "markdown",
   "metadata": {},
   "source": [
    "### Get text description of oncologists"
   ]
  },
  {
   "cell_type": "code",
   "execution_count": 123,
   "metadata": {},
   "outputs": [
    {
     "data": {
      "text/plain": [
       "'I am a breast surgical oncologist who specializes exclusively in the treatment of breast diseases. I perform all aspects of breast cancer surgery. I also have extensive experience in caring for people with benign disease. I see patients at Memorial Sloan Kettering’s Evelyn H. Lauder Breast Center in New York City and at MSK Westchester. At both locations, I work closely with my colleagues in radiology, pathology, plastic surgery, medical oncology, and radiation oncology to deliver the highest quality care to our patients.Read moreDuring the past several years, my research has focused on understanding the causes of lymphedema. Lymphedema is a chronic arm swelling that may occur if all of the underarm lymph nodes have been removed. I have also studied ways to find signs of lymphedema early on in women with early-stage and advanced breast cancer. Recently, my research has been focused on reducing how often lymphedema occurs by finding ways of removing fewer underarm lymph nodes, particularly for women who have chemotherapy before surgery. By improving our understanding of the side effects of breast cancer treatment, we can work to enhance the quality of life for everyone we care for.When I meet with my patients, I always want them to walk away from the appointment with a clear understanding of their diagnosis and our treatment recommendations. To do this, we spend time discussing all aspects of their care plan. Each plan is tailored to the individual person and circumstances. When concerns come up, like recurrence of cancer or lymphedema, I talk through each treatment option. I explain how treatments can be used to avoid complications as much as possible. I aim to instill each of my patients with a sense of confidence that they will receive excellent care, and that I am here to help every step of the way.'"
      ]
     },
     "execution_count": 123,
     "metadata": {},
     "output_type": "execute_result"
    }
   ],
   "source": [
    "text = \"\".join(soup.find_all('div',{'class':'msk-markup'})[0].get_text().replace(\"\\xa0\\n\\n\\n\\nRead more\\n\\n\\n\\n\\n\", \"\").replace(\"\\xa0\", \"\").split(\"\\n\"))\n",
    "text"
   ]
  },
  {
   "cell_type": "code",
   "execution_count": 159,
   "metadata": {},
   "outputs": [
    {
     "data": {
      "text/plain": [
       "'I am a medical oncologist and physician-scientist who specializes in bone marrow transplants as a therapy for blood cancers such as leukemia. With this treatment, also called a hematopoietic stem cell transplant, chemotherapy and radiation are used to kill the cancer in the patient’s blood and bone marrow. Then new marrow or blood stem cells are given to help healthy blood cells grow back. In the clinic, I take care of patients undergoing these transplants. In the laboratory, I study questions related to this treatment approach and to immunotherapy for cancer in general.My research is currently focused on two areas. I’m studying the role that microorganisms living in the intestine (called the microbiota) play in patients undergoing bone marrow transplants or those receiving cancer immunotherapy. I’m also developing strategies to help the body rebuild the immune system after bone marrow transplantation. The particular focus of this work is in enhancing the activity of the thymus, a small organ in the chest that makes certain types of immune cells.My research in both of these areas is being translated into clinical trials that are currently ongoing at MSK.From 2004 to 2008, I served as Chief Attending of the Adult Bone Marrow Transplant Service. I have been Head of the Division of Hematologic Oncology at MSK since 2008. I’m also a professor of Medicine and Immunology at Weill Cornell Medical College.In 2010, I started the Susan and Peter Solomon Divisional Genomics Program, which focuses on targeted therapy approaches for patients with blood cancers such as leukemia. This program was instrumental in the development of the first genomic profiling test for hematological malignancies called FoundationOne™ Heme.'"
      ]
     },
     "execution_count": 159,
     "metadata": {},
     "output_type": "execute_result"
    }
   ],
   "source": [
    "text = \"\".join(soup1.find_all('div',{'class':'msk-markup'})[0].get_text().replace(\"\\xa0\\n\\n\\n\\nRead more\\n\\n\\n\\n\\n\", \"\").replace(\"\\xa0\", \"\").split(\"\\n\"))\n",
    "text"
   ]
  },
  {
   "cell_type": "code",
   "execution_count": 160,
   "metadata": {},
   "outputs": [
    {
     "data": {
      "text/plain": [
       "'I am a breast surgical oncologist who specializes exclusively in the treatment of breast diseases. I perform all aspects of breast cancer surgery. I also have extensive experience in caring for people with benign disease. I see patients at Memorial Sloan Kettering’s Evelyn H. Lauder Breast Center in New York City and at MSK Westchester. At both locations, I work closely with my colleagues in radiology, pathology, plastic surgery, medical oncology, and radiation oncology to deliver the highest quality care to our patients.Read moreDuring the past several years, my research has focused on understanding the causes of lymphedema. Lymphedema is a chronic arm swelling that may occur if all of the underarm lymph nodes have been removed. I have also studied ways to find signs of lymphedema early on in women with early-stage and advanced breast cancer. Recently, my research has been focused on reducing how often lymphedema occurs by finding ways of removing fewer underarm lymph nodes, particularly for women who have chemotherapy before surgery. By improving our understanding of the side effects of breast cancer treatment, we can work to enhance the quality of life for everyone we care for.When I meet with my patients, I always want them to walk away from the appointment with a clear understanding of their diagnosis and our treatment recommendations. To do this, we spend time discussing all aspects of their care plan. Each plan is tailored to the individual person and circumstances. When concerns come up, like recurrence of cancer or lymphedema, I talk through each treatment option. I explain how treatments can be used to avoid complications as much as possible. I aim to instill each of my patients with a sense of confidence that they will receive excellent care, and that I am here to help every step of the way.'"
      ]
     },
     "execution_count": 160,
     "metadata": {},
     "output_type": "execute_result"
    }
   ],
   "source": [
    "text = \"\".join(soup2.find_all('div',{'class':'msk-markup'})[0].get_text().replace(\"\\xa0\\n\\n\\n\\nRead more\\n\\n\\n\\n\\n\", \"\").replace(\"\\xa0\", \"\").split(\"\\n\"))\n",
    "text"
   ]
  },
  {
   "cell_type": "code",
   "execution_count": 141,
   "metadata": {},
   "outputs": [
    {
     "data": {
      "text/plain": [
       "'I am a board-certified medical oncologist who specializes in the identification and management of individuals who have inherited an increased risk for cancer. I concentrate on helping men and women with cancer incorporate genetic information into their treatment plan. For those who are at increased risk, but have not been diagnosed, I work to develop a plan that will help them either prevent the development of cancer, or limit its impact if it occurs. Along the same lines, my research focus has studied the best ways to use genetic information to improve the outcomes of those with or at risk for hereditary cancers of all types.Read moreConsistent with the goals I pursue in my clinical genetics work, my oncology practice is weighted toward the management of young women with breast cancer, especially hereditary breast cancer. As part of that practice, I participate in the development of new treatments, such as PARP inhibitors, which may be particularly useful for this group of women. Finally, I also maintain a separate practice where I coordinate screening for women with mutations in BRCA1 or BRCA2.'"
      ]
     },
     "execution_count": 141,
     "metadata": {},
     "output_type": "execute_result"
    }
   ],
   "source": [
    "text = \"\".join(soup3.find_all('div',{'class':'msk-markup'})[0].get_text().replace(\"\\xa0\\n\\n\\n\\nRead more\\n\\n\\n\\n\\n\", \"\").replace(\"\\xa0\", \"\").split(\"\\n\"))\n",
    "text"
   ]
  },
  {
   "cell_type": "markdown",
   "metadata": {},
   "source": [
    "### Get clinical trials of oncologists"
   ]
  },
  {
   "cell_type": "code",
   "execution_count": 177,
   "metadata": {},
   "outputs": [
    {
     "data": {
      "text/plain": [
       "[]"
      ]
     },
     "execution_count": 177,
     "metadata": {},
     "output_type": "execute_result"
    }
   ],
   "source": [
    "result = []\n",
    "for i in soup1.find_all('span',{'class':'msk-list__content'}):\n",
    "    temp = i.find_all('a')\n",
    "    if len(temp)>0:\n",
    "        for temp2 in temp:\n",
    "            result.append(temp2.get_text())\n",
    "result"
   ]
  },
  {
   "cell_type": "code",
   "execution_count": 175,
   "metadata": {},
   "outputs": [
    {
     "data": {
      "text/plain": [
       "['A Phase III Study of Atezolizumab Immunotherapy or Placebo plus Chemotherapy, Followed by Paclitaxel/Trastuzumab/Pertuzumab in Patients with Stage III HER2-Positive Breast Cancer that Spread to the Lymph Nodes']"
      ]
     },
     "execution_count": 175,
     "metadata": {},
     "output_type": "execute_result"
    }
   ],
   "source": [
    "result = []\n",
    "for i in soup2.find_all('span',{'class':'msk-list__content'}):\n",
    "    temp = i.find_all('a')\n",
    "    if len(temp)>0:\n",
    "        for temp2 in temp:\n",
    "            result.append(temp2.get_text())\n",
    "result"
   ]
  },
  {
   "cell_type": "code",
   "execution_count": 176,
   "metadata": {},
   "outputs": [
    {
     "data": {
      "text/plain": [
       "['A Phase II Study of Olaparib in Patients with Metastatic Breast Cancer with Certain Genetic Mutations',\n",
       " 'A Phase I Study of Rucaparib plus Radiation Therapy in Women with Triple-Negative Breast Cancer Who Did Not Respond Completely to Presurgical Chemotherapy',\n",
       " 'A Phase II Study of Avelumab Immunotherapy and Talazoparib for Patients with Advanced Cancers that Have BRCA or ATM Mutations',\n",
       " 'A Phase II Study of Durvalumab and Olaparib in Patients with Triple-Negative Breast Cancer',\n",
       " 'Clinical Significance of Germline BRCA Mutations',\n",
       " 'Evaluating the Causes of Cancer in Young Patients']"
      ]
     },
     "execution_count": 176,
     "metadata": {},
     "output_type": "execute_result"
    }
   ],
   "source": [
    "result = []\n",
    "for i in soup3.find_all('span',{'class':'msk-list__content'}):\n",
    "    temp = i.find_all('a')\n",
    "    if len(temp)>0:\n",
    "        for temp2 in temp:\n",
    "            result.append(temp2.get_text())\n",
    "result"
   ]
  },
  {
   "cell_type": "markdown",
   "metadata": {},
   "source": [
    "### Get Clinical Expertise of oncologists"
   ]
  },
  {
   "cell_type": "code",
   "execution_count": 161,
   "metadata": {},
   "outputs": [
    {
     "data": {
      "text/plain": [
       "'Blood & Marrow Stem Cell Transplantation'"
      ]
     },
     "execution_count": 161,
     "metadata": {},
     "output_type": "execute_result"
    }
   ],
   "source": [
    "soup1.find_all('div',{'class':'msk-left-rail-hero__hero-item--content msk-left-rail-hero__hero-item'})[0].find_all('p')[-1].get_text()"
   ]
  },
  {
   "cell_type": "code",
   "execution_count": 162,
   "metadata": {},
   "outputs": [
    {
     "data": {
      "text/plain": [
       "'Breast Disease'"
      ]
     },
     "execution_count": 162,
     "metadata": {},
     "output_type": "execute_result"
    }
   ],
   "source": [
    "soup2.find_all('div',{'class':'msk-left-rail-hero__hero-item--content msk-left-rail-hero__hero-item'})[0].find_all('p')[-1].get_text()"
   ]
  },
  {
   "cell_type": "code",
   "execution_count": 163,
   "metadata": {},
   "outputs": [
    {
     "data": {
      "text/plain": [
       "'Breast Cancer; General Hematology/Oncology; Genetic Predisposition to Cancer; Cancer Risk Counseling'"
      ]
     },
     "execution_count": 163,
     "metadata": {},
     "output_type": "execute_result"
    }
   ],
   "source": [
    "soup3.find_all('div',{'class':'msk-left-rail-hero__hero-item--content msk-left-rail-hero__hero-item'})[0].find_all('p')[-1].get_text()"
   ]
  },
  {
   "cell_type": "markdown",
   "metadata": {},
   "source": [
    "### Get image of oncologists"
   ]
  },
  {
   "cell_type": "code",
   "execution_count": 240,
   "metadata": {},
   "outputs": [],
   "source": [
    "onco_name=\"William R. Jarnagin\"\n",
    "temp_name = mskcc_name_preprocess(onco_name)\n",
    "base_url='https://www.mskcc.org/cancer-care/doctors/{}'\n",
    "search_url=base_url.format(temp_name)\n",
    "html = requests.get(search_url).content\n",
    "soup = BeautifulSoup(html,'html.parser')"
   ]
  },
  {
   "cell_type": "code",
   "execution_count": 248,
   "metadata": {},
   "outputs": [],
   "source": [
    "image_url=soup.find_all('img',{'class':'msk-image-responsive__img'})[0].get(\"src\")"
   ]
  },
  {
   "cell_type": "code",
   "execution_count": 251,
   "metadata": {},
   "outputs": [],
   "source": [
    "from urllib.parse import urlparse"
   ]
  },
  {
   "cell_type": "code",
   "execution_count": 252,
   "metadata": {},
   "outputs": [],
   "source": [
    "def is_url(url):\n",
    "    try:\n",
    "        result = urlparse(url)\n",
    "        return all([result.scheme, result.netloc])\n",
    "    except ValueError:\n",
    "        return False"
   ]
  },
  {
   "cell_type": "code",
   "execution_count": 255,
   "metadata": {},
   "outputs": [
    {
     "data": {
      "text/plain": [
       "False"
      ]
     },
     "execution_count": 255,
     "metadata": {},
     "output_type": "execute_result"
    }
   ],
   "source": [
    "is_url(image_url)"
   ]
  },
  {
   "cell_type": "code",
   "execution_count": 244,
   "metadata": {},
   "outputs": [],
   "source": [
    "local_file = open(os.path.join(base_dir, 'onco_image/image1.jpg'), 'wb')"
   ]
  },
  {
   "cell_type": "code",
   "execution_count": 245,
   "metadata": {},
   "outputs": [],
   "source": [
    "resp.raw.decode_content = True"
   ]
  },
  {
   "cell_type": "code",
   "execution_count": 246,
   "metadata": {},
   "outputs": [],
   "source": [
    "shutil.copyfileobj(resp.raw, local_file)"
   ]
  },
  {
   "cell_type": "code",
   "execution_count": 247,
   "metadata": {},
   "outputs": [],
   "source": [
    "del resp"
   ]
  },
  {
   "cell_type": "code",
   "execution_count": null,
   "metadata": {},
   "outputs": [],
   "source": []
  },
  {
   "cell_type": "markdown",
   "metadata": {},
   "source": [
    "### Combined function"
   ]
  },
  {
   "cell_type": "code",
   "execution_count": 329,
   "metadata": {},
   "outputs": [
    {
     "data": {
      "text/plain": [
       "176"
      ]
     },
     "execution_count": 329,
     "metadata": {},
     "output_type": "execute_result"
    }
   ],
   "source": [
    "len(onco_mskcc_list)"
   ]
  },
  {
   "cell_type": "code",
   "execution_count": 330,
   "metadata": {},
   "outputs": [],
   "source": [
    "expertise_dict={}\n",
    "text_dict={}\n",
    "clinical_trial_dict={}\n",
    "empty_list=[]\n",
    "no_img_list=[]\n",
    "img_dict={}"
   ]
  },
  {
   "cell_type": "code",
   "execution_count": 331,
   "metadata": {},
   "outputs": [],
   "source": [
    "def extract_onco_mskcc(onco_name):\n",
    "    temp_name = mskcc_name_preprocess(onco_name)\n",
    "    base_url='https://www.mskcc.org/cancer-care/doctors/{}'\n",
    "    search_url=base_url.format(temp_name)\n",
    "    html = requests.get(search_url).content\n",
    "    soup = BeautifulSoup(html,'html.parser')\n",
    "    if len(soup.find_all('div',{'class':'msk-left-rail-hero__hero-item--content msk-left-rail-hero__hero-item'})) > 0:\n",
    "        \n",
    "        ## Get Clinical Expertise of oncologists\n",
    "        expertise = soup.find_all('div',{'class':'msk-left-rail-hero__hero-item--content msk-left-rail-hero__hero-item'})[0].find_all('p')[-1].get_text()\n",
    "        expertise_dict[onco_name] = expertise\n",
    "        \n",
    "        ## Get text description of oncologists\n",
    "        text = \"\".join(soup.find_all('div',{'class':'msk-markup'})[0].get_text().replace(\"\\xa0\\n\\n\\n\\nRead more\\n\\n\\n\\n\\n\", \"\").replace(\"\\xa0\", \"\").split(\"\\n\"))\n",
    "        text_dict[onco_name] = text\n",
    "        \n",
    "        ## Get clinical trials of oncologists\n",
    "        clinical_trials = []\n",
    "        for i in soup.find_all('span',{'class':'msk-list__content'}):\n",
    "            temp = i.find_all('a')\n",
    "            if len(temp)>0:\n",
    "                for temp2 in temp:\n",
    "                    clinical_trials.append(temp2.get_text())\n",
    "        clinical_trial_dict[onco_name] = clinical_trials\n",
    "        \n",
    "        ## Get image of oncologists\n",
    "        img_url=soup.find_all('img',{'class':'msk-image-responsive__img'})[0].get(\"src\")\n",
    "        if is_url(img_url):\n",
    "            resp = requests.get(img_url, stream=True)\n",
    "            local_file = open(os.path.join(base_dir, 'onco_image/{}_img.jpg'.format(temp_name)), 'wb')\n",
    "            img_dict[onco_name]='{}_img.jpg'.format(temp_name)\n",
    "            resp.raw.decode_content = True\n",
    "            shutil.copyfileobj(resp.raw, local_file)\n",
    "            del resp\n",
    "        else:\n",
    "            no_img_list.append(onco_name)\n",
    "    \n",
    "    else:\n",
    "        empty_list.append(onco_name)"
   ]
  },
  {
   "cell_type": "code",
   "execution_count": 332,
   "metadata": {},
   "outputs": [
    {
     "name": "stdout",
     "output_type": "stream",
     "text": [
      "159\n"
     ]
    }
   ],
   "source": [
    "for onco_name in onco_mskcc_list:\n",
    "    extract_onco_mskcc(onco_name)\n",
    "print(len(expertise_dict))"
   ]
  },
  {
   "cell_type": "code",
   "execution_count": 333,
   "metadata": {},
   "outputs": [
    {
     "name": "stdout",
     "output_type": "stream",
     "text": [
      "['Mortimer J. Lacher', 'Carl Ola Landgren', 'Maria Lia Palomba', 'Mario M. Leitao', 'Gregory Raskin', 'Guenther Koehne', 'Julia Lynne Glade Bender', 'Diane Lauren Reidy', 'Jesse Joshua Smith', 'John Paul Diaz', 'Sree Bhavani Chalasani', 'Isidore Tepler', 'David Paul Kelsen', 'Peter Bach', 'Linda T. Vahda', 'Mary Susan Brady', 'Wanqing Iris Zhi']\n",
      "['William R. Jarnagin']\n"
     ]
    }
   ],
   "source": [
    "print(empty_list)\n",
    "print(no_img_list)"
   ]
  },
  {
   "cell_type": "code",
   "execution_count": 334,
   "metadata": {},
   "outputs": [],
   "source": [
    "onco_mskcc_dict = {\"Carl Ola Landgren\":\"c-landgren\", \"Maria Lia Palomba\":\"m-lia-palomba\", \"Mario M. Leitao\":\"mario-leitao-jr\",\n",
    "                \"Julia Lynne Glade Bender\":\"julia-glade-bender\", \"Diane Lauren Reidy\":\"diane-reidy-lagunes\", \"Jesse Joshua Smith\":\"j-smith\", \n",
    "                \"Sree Bhavani Chalasani\":\"sre-bhavani-chalasani\", \"David Paul Kelsen\":\"david-paul-kelsen\", \"Linda T. Vahda\":\"linda-vahdat\", \n",
    "                \"Mary Susan Brady\":\"mary-sue-brady\", \"Wanqing Iris Zhi\":\"iris-zhi\"}"
   ]
  },
  {
   "cell_type": "code",
   "execution_count": 335,
   "metadata": {},
   "outputs": [
    {
     "name": "stdout",
     "output_type": "stream",
     "text": [
      "170\n"
     ]
    }
   ],
   "source": [
    "for onco_name in onco_mskcc_dict:\n",
    "    extract_onco_mskcc(onco_mskcc_dict[onco_name])\n",
    "print(len(expertise_dict))"
   ]
  },
  {
   "cell_type": "code",
   "execution_count": 336,
   "metadata": {},
   "outputs": [
    {
     "data": {
      "text/plain": [
       "169"
      ]
     },
     "execution_count": 336,
     "metadata": {},
     "output_type": "execute_result"
    }
   ],
   "source": [
    "len(img_dict)"
   ]
  },
  {
   "cell_type": "code",
   "execution_count": 346,
   "metadata": {},
   "outputs": [],
   "source": [
    "img_dict_df=pd.DataFrame.from_dict(img_dict,orient='index').rename(columns={0:'img_name'})\n",
    "img_dict_df.to_csv(os.path.join(base_dir, \"data/mskcc_img_dict_df.csv\"),index=True,index_label='name')"
   ]
  },
  {
   "cell_type": "code",
   "execution_count": 11,
   "metadata": {},
   "outputs": [
    {
     "data": {
      "text/html": [
       "<div>\n",
       "<style scoped>\n",
       "    .dataframe tbody tr th:only-of-type {\n",
       "        vertical-align: middle;\n",
       "    }\n",
       "\n",
       "    .dataframe tbody tr th {\n",
       "        vertical-align: top;\n",
       "    }\n",
       "\n",
       "    .dataframe thead th {\n",
       "        text-align: right;\n",
       "    }\n",
       "</style>\n",
       "<table border=\"1\" class=\"dataframe\">\n",
       "  <thead>\n",
       "    <tr style=\"text-align: right;\">\n",
       "      <th></th>\n",
       "      <th>img_name</th>\n",
       "    </tr>\n",
       "    <tr>\n",
       "      <th>name</th>\n",
       "      <th></th>\n",
       "    </tr>\n",
       "  </thead>\n",
       "  <tbody>\n",
       "    <tr>\n",
       "      <th>Kenneth H. Yu</th>\n",
       "      <td>kenneth-yu_img.jpg</td>\n",
       "    </tr>\n",
       "    <tr>\n",
       "      <th>Robert Sidlow</th>\n",
       "      <td>robert-sidlow_img.jpg</td>\n",
       "    </tr>\n",
       "    <tr>\n",
       "      <th>Lisa Marie Ruppert</th>\n",
       "      <td>lisa-ruppert_img.jpg</td>\n",
       "    </tr>\n",
       "    <tr>\n",
       "      <th>Yukio Sonoda</th>\n",
       "      <td>yukio-sonoda_img.jpg</td>\n",
       "    </tr>\n",
       "    <tr>\n",
       "      <th>Marsha Reyngold</th>\n",
       "      <td>marsha-reyngold_img.jpg</td>\n",
       "    </tr>\n",
       "  </tbody>\n",
       "</table>\n",
       "</div>"
      ],
      "text/plain": [
       "                                   img_name\n",
       "name                                       \n",
       "Kenneth H. Yu            kenneth-yu_img.jpg\n",
       "Robert Sidlow         robert-sidlow_img.jpg\n",
       "Lisa Marie Ruppert     lisa-ruppert_img.jpg\n",
       "Yukio Sonoda           yukio-sonoda_img.jpg\n",
       "Marsha Reyngold     marsha-reyngold_img.jpg"
      ]
     },
     "execution_count": 11,
     "metadata": {},
     "output_type": "execute_result"
    }
   ],
   "source": [
    "img_df=pd.read_csv(os.path.join(base_dir, \"data/mskcc_img_dict_df.csv\"),index_col='name')\n",
    "img_df.head()"
   ]
  },
  {
   "cell_type": "code",
   "execution_count": 12,
   "metadata": {},
   "outputs": [
    {
     "data": {
      "text/plain": [
       "(176, 1)"
      ]
     },
     "execution_count": 12,
     "metadata": {},
     "output_type": "execute_result"
    }
   ],
   "source": [
    "img_df.shape"
   ]
  },
  {
   "cell_type": "code",
   "execution_count": 14,
   "metadata": {},
   "outputs": [],
   "source": [
    "img_df_1=pd.read_csv(os.path.join(base_dir, \"data/mskcc_img_dict_df.csv\"),index_col='name')\n",
    "img_df_2=pd.read_csv(os.path.join(base_dir, \"data/md_img_dict_df.csv\"),index_col='name')\n",
    "img_df=pd.concat([img_df_1,img_df_2])"
   ]
  },
  {
   "cell_type": "code",
   "execution_count": 15,
   "metadata": {},
   "outputs": [
    {
     "data": {
      "text/plain": [
       "(382, 1)"
      ]
     },
     "execution_count": 15,
     "metadata": {},
     "output_type": "execute_result"
    }
   ],
   "source": [
    "img_df.shape"
   ]
  },
  {
   "cell_type": "code",
   "execution_count": 16,
   "metadata": {},
   "outputs": [],
   "source": [
    "img_df.to_csv(os.path.join(base_dir, \"data/img_dict_df.csv\"),index=True,index_label='name')"
   ]
  },
  {
   "cell_type": "code",
   "execution_count": 380,
   "metadata": {},
   "outputs": [],
   "source": [
    "onco_name='Kenneth Offit'\n",
    "img_path = os.path.join(base_dir, 'onco_image/'+img_df.loc[onco_name].img_name)"
   ]
  },
  {
   "cell_type": "code",
   "execution_count": 382,
   "metadata": {},
   "outputs": [
    {
     "data": {
      "text/plain": [
       "'/Volumes/Yuchen_Drive/Insight/OncoMatch/onco_image/kenneth-offit_img.jpg'"
      ]
     },
     "execution_count": 382,
     "metadata": {},
     "output_type": "execute_result"
    }
   ],
   "source": [
    "img_path"
   ]
  },
  {
   "cell_type": "code",
   "execution_count": 385,
   "metadata": {},
   "outputs": [
    {
     "data": {
      "text/plain": [
       "<matplotlib.image.AxesImage at 0x11d7e00f0>"
      ]
     },
     "execution_count": 385,
     "metadata": {},
     "output_type": "execute_result"
    },
    {
     "data": {
      "image/png": "[encoded data removed]",
      "text/plain": [
       "<Figure size 432x288 with 1 Axes>"
      ]
     },
     "metadata": {
      "needs_background": "light"
     },
     "output_type": "display_data"
    }
   ],
   "source": [
    "import matplotlib.image as mpimg\n",
    "plt.imshow(mpimg.imread(img_path))"
   ]
  },
  {
   "cell_type": "code",
   "execution_count": 387,
   "metadata": {},
   "outputs": [
    {
     "data": {
      "text/plain": [
       "'static/images/kenneth-offit_img.jpg'"
      ]
     },
     "execution_count": 387,
     "metadata": {},
     "output_type": "execute_result"
    }
   ],
   "source": [
    "img_path = 'static/images/'+img_df.loc[onco_name].img_name\n",
    "img_path"
   ]
  },
  {
   "cell_type": "code",
   "execution_count": null,
   "metadata": {},
   "outputs": [],
   "source": []
  },
  {
   "cell_type": "code",
   "execution_count": null,
   "metadata": {},
   "outputs": [],
   "source": []
  },
  {
   "cell_type": "code",
   "execution_count": null,
   "metadata": {},
   "outputs": [],
   "source": []
  },
  {
   "cell_type": "code",
   "execution_count": null,
   "metadata": {},
   "outputs": [],
   "source": []
  },
  {
   "cell_type": "code",
   "execution_count": null,
   "metadata": {},
   "outputs": [],
   "source": []
  },
  {
   "cell_type": "code",
   "execution_count": 315,
   "metadata": {},
   "outputs": [],
   "source": [
    "pickle.dump(expertise_dict, open(os.path.join(base_dir, \"data/mskcc_expertise_dict.pkl\"), \"wb\"))\n",
    "pickle.dump(text_dict, open(os.path.join(base_dir, \"data/mskcc_text_dict.pkl\"), \"wb\"))\n",
    "pickle.dump(clinical_trial_dict, open(os.path.join(base_dir, \"data/mskcc_clinical_trial_dict.pkl\"), \"wb\"))"
   ]
  },
  {
   "cell_type": "code",
   "execution_count": 317,
   "metadata": {},
   "outputs": [],
   "source": [
    "expertise_dict=pickle.load(open(os.path.join(base_dir, \"data/mskcc_expertise_dict.pkl\"),\"rb\"))\n",
    "text_dict=pickle.load(open(os.path.join(base_dir, \"data/mskcc_text_dict.pkl\"),\"rb\"))\n",
    "clinical_trial_dict=pickle.load(open(os.path.join(base_dir, \"data/mskcc_clinical_trial_dict.pkl\"),\"rb\"))"
   ]
  },
  {
   "cell_type": "code",
   "execution_count": 342,
   "metadata": {},
   "outputs": [
    {
     "data": {
      "text/plain": [
       "170"
      ]
     },
     "execution_count": 342,
     "metadata": {},
     "output_type": "execute_result"
    }
   ],
   "source": [
    "len(expertise_dict)"
   ]
  },
  {
   "cell_type": "code",
   "execution_count": 354,
   "metadata": {},
   "outputs": [],
   "source": [
    "expertise_dict_df=pd.DataFrame.from_dict(expertise_dict, orient='index').rename(columns={0:'expertise'})\n",
    "expertise_dict_df.to_csv(os.path.join(base_dir, 'data/mskcc_expertise_dict_df.csv'),index=True,index_label='name')\n",
    "\n",
    "text_dict_df=pd.DataFrame.from_dict(text_dict, orient='index').rename(columns={0:'text'})\n",
    "text_dict_df.to_csv(os.path.join(base_dir, 'data/mskcc_text_dict_df.csv'),index=True,index_label='name')\n",
    "\n",
    "clinical_trial_dict_df=pd.DataFrame.from_dict(clinical_trial_dict, orient='index')\n",
    "clinical_trial_dict_df['clinical_trial'] = clinical_trial_dict_df.apply(lambda x:[i for i in x if i is not None],axis=1)\n",
    "clinical_trial_dict_df = clinical_trial_dict_df.loc[:,'clinical_trial'].to_frame()\n",
    "clinical_trial_dict_df.to_csv(os.path.join(base_dir, 'data/mskcc_clinical_trial_dict_df.csv'),index=True,index_label='name')"
   ]
  },
  {
   "cell_type": "code",
   "execution_count": 20,
   "metadata": {},
   "outputs": [],
   "source": [
    "stop_word1 = gensim.parsing.preprocessing.STOPWORDS   ## 337\n",
    "stop_word2 = nltk.corpus.stopwords.words('english')   ## 179\n",
    "punct = \"/-'?!.,#$%\\'()*+-/:;<=>@[\\\\]^_`{|}~`\" + '\"\"“”’' + '∞θ÷α•à−β∅³π‘₹´°£€\\×™√²—–&'\n",
    "custom_words = [\"fig\", \"figure\", \"et\", \"al\", \"al.\", \"also\",\n",
    "                \"data\", \"analyze\", \"study\", \"table\", \"using\",\n",
    "                \"method\", \"result\", \"conclusion\", \"author\", \n",
    "                \"find\", \"found\", \"show\", '\"', \"’\", \"“\", \"”\", 'analysis','analyses','analyzed','results','figures'\n",
    "                \"assayed\", \"assay\", \"assays\",\"figures\", \"figure\",\"data\", \"sample\",\"samples\",\"table\",\"tables\",\n",
    "                'proteins','protein','cells','cell','genes','gene',\n",
    "                'mutated','mutation','mutational','mutations','mutate','mutant','mutants',\n",
    "                'cancer','cancers','tumor','tumors','variant','variants','biology','biological']\n",
    "stop_words = set(list(stop_word1)+stop_word2+list(punct)+custom_words)   ## 493"
   ]
  },
  {
   "cell_type": "code",
   "execution_count": 22,
   "metadata": {},
   "outputs": [],
   "source": [
    "def preprocess(text):\n",
    "    result = []\n",
    "    for token in gensim.utils.simple_preprocess(text):\n",
    "        temp=WordNetLemmatizer().lemmatize(token).lower()\n",
    "        if len(temp)>1 and temp not in stop_words:\n",
    "            result.append(temp)\n",
    "    return list(set(result))"
   ]
  },
  {
   "cell_type": "code",
   "execution_count": 21,
   "metadata": {},
   "outputs": [],
   "source": [
    "def annotate_abstract(text):\n",
    "    cancer_type=[]\n",
    "    cancer_list1=['adrenocortical', 'anal', 'appendix', 'bladder', 'bone', 'breast', 'cervical', 'gallbladder', 'ovarian', 'penile', 'prostate', 'rectal', 'skin', 'thyroid', 'vaginal', 'vulvar', 'urethral', 'parathyroid',]\n",
    "    cancer_list2=['carcinoid', 'pituitary', 'wilms', 'rhabdoid', 'brain']\n",
    "    cancer_list3=['melanoma', 'mesothelioma', 'neuroblastoma', 'osteosarcoma', 'pheochromocytoma', 'retinoblastoma', 'rhabdomyosarcoma', 'sarcoma']\n",
    "    for token in text:\n",
    "        if token in cancer_list1:\n",
    "            cancer_type.append(token.capitalize()+ ' Cancer')\n",
    "        if token in cancer_list2:\n",
    "            cancer_type.append(token.capitalize()+ ' Tumor')\n",
    "        if token in cancer_list3:\n",
    "            cancer_type.append(token.capitalize())\n",
    "    if len(set(text).intersection(set(['bile','duct'])))==2:\n",
    "        cancer_type.append('Bile Duct Cancer')\n",
    "    if len(set(text).intersection(set(['colorectal', 'colon'])))>0:\n",
    "        cancer_type.append('Colorectal Cancer')\n",
    "    if len(set(text).intersection(set(['cardiac', 'heart'])))>0:\n",
    "        cancer_type.append('Cardiac Tumors')\n",
    "    if len(set(text).intersection(set(['endometrial', 'uterine', 'endometrium', 'uterus'])))>0:\n",
    "        cancer_type.append('Endometrial Cancer')\n",
    "    if len(set(text).intersection(set(['esophageal', 'esophagus'])))>0:\n",
    "        cancer_type.append('Esophageal Cancer')\n",
    "    if len(set(text).intersection(set(['ewing', 'sarcoma'])))==2:\n",
    "        cancer_type.append('Ewing Sarcoma')\n",
    "    if len(set(text).intersection(set(['fallopian', 'tube'])))==2:\n",
    "        cancer_type.append('Fallopian Tube Cancer')\n",
    "    if len(set(text).intersection(set(['gastric', 'stomach'])))>0:\n",
    "        cancer_type.append('Gastric Cancer')\n",
    "    if len(set(text).intersection(set(['gastrointestinal', 'stromal'])))>0:\n",
    "        if len(set(text).intersection(set(['gastrointestinal', 'stromal'])))==2:\n",
    "            cancer_type.append('Gastrointestinal Stromal Tumor (GIST)')\n",
    "        else:\n",
    "            cancer_type.append('Gastrointestinal Tumor')\n",
    "    if len(set(text).intersection(set(['esthesioneuroblastoma', 'hypopharyngeal', 'laryngeal', 'nasopharyngeal', 'pharyngeal', 'salivary', 'oropharyngeal', 'neck'])))>0:\n",
    "        cancer_type.append('Head and Neck Cancer')\n",
    "    if len(set(text).intersection(set(['kidney', 'renal'])))>0:\n",
    "        cancer_type.append('Kidney Cancer')\n",
    "    if 'leukemia' in text:\n",
    "        cancer_type.append('Leukemia')\n",
    "        if 'acute' in text:\n",
    "            if 'lymphoblastic' in text:\n",
    "                cancer_type.append('Acute Lymphoblastic Leukemia (ALL)')\n",
    "            if 'myeloid' in text:\n",
    "                cancer_type.append('Acute Myeloid Leukemia (AML)')\n",
    "        if 'chronic' in text:\n",
    "            if 'lymphocytic' in text:\n",
    "                cancer_type.append('Chronic Lymphocytic Leukemia (CLL)')\n",
    "            if 'myelogenous' in text:\n",
    "                cancer_type.append('Chronic Myelogenous Leukemia (CML)')\n",
    "        if 'hairy' in text:\n",
    "            cancer_type.append('Hairy Cell Leukemia')\n",
    "    if len(set(text).intersection(set(['liver', 'hepatocellular', 'hepatocyte', 'hepatoblastoma'])))>0:\n",
    "        cancer_type.append('Liver Cancer')\n",
    "    if len(set(text).intersection(set(['lung', 'bronchial', 'pleuropulmonar', 'tracheobronchial'])))>0:\n",
    "        cancer_type.append('Lung Cancer')\n",
    "    if 'lymphoma' in text:\n",
    "        cancer_type.append('Lymphoma')\n",
    "        if 'burkitt' in text:\n",
    "            cancer_type.append('Burkitt Lymphoma')\n",
    "        if len(set(text).intersection(set(['mycosis', 'fungoides'])))==2:\n",
    "            cancer_type.append('Mycosis Fungoides')\n",
    "    if len(set(text).intersection(set(['multiple', 'myeloma'])))==2:\n",
    "        cancer_type.append('Multiple Myeloma')\n",
    "    if len(set(text).intersection(set(['myeloproliferative', 'myelodysplastic'])))>0:\n",
    "        cancer_type.append('Myeloproliferative Neoplasms')\n",
    "    if len(set(text).intersection(set(['pancreatic', 'pancreas'])))>0:\n",
    "        cancer_type.append('Pancreatic Cancer')\n",
    "    if len(set(text).intersection(set(['testicular', 'testicle', 'testicles', 'testis'])))>0:\n",
    "        cancer_type.append('Testicular Cancer')\n",
    "    return cancer_type"
   ]
  },
  {
   "cell_type": "code",
   "execution_count": 27,
   "metadata": {},
   "outputs": [
    {
     "data": {
      "text/html": [
       "<div>\n",
       "<style scoped>\n",
       "    .dataframe tbody tr th:only-of-type {\n",
       "        vertical-align: middle;\n",
       "    }\n",
       "\n",
       "    .dataframe tbody tr th {\n",
       "        vertical-align: top;\n",
       "    }\n",
       "\n",
       "    .dataframe thead th {\n",
       "        text-align: right;\n",
       "    }\n",
       "</style>\n",
       "<table border=\"1\" class=\"dataframe\">\n",
       "  <thead>\n",
       "    <tr style=\"text-align: right;\">\n",
       "      <th></th>\n",
       "      <th>expertise</th>\n",
       "    </tr>\n",
       "    <tr>\n",
       "      <th>name</th>\n",
       "      <th></th>\n",
       "    </tr>\n",
       "  </thead>\n",
       "  <tbody>\n",
       "    <tr>\n",
       "      <th>Kenneth H. Yu</th>\n",
       "      <td>Pancreatic, Hepatobiliary, and Other Gastroint...</td>\n",
       "    </tr>\n",
       "    <tr>\n",
       "      <th>Robert Sidlow</th>\n",
       "      <td>Head, Division of Survivorship and Supportive ...</td>\n",
       "    </tr>\n",
       "    <tr>\n",
       "      <th>Lisa Marie Ruppert</th>\n",
       "      <td>Cancer Rehabilitation; Spinal Cord Injury Medi...</td>\n",
       "    </tr>\n",
       "    <tr>\n",
       "      <th>Yukio Sonoda</th>\n",
       "      <td>Ovarian Cancer; Uterine Cancer; Cervical Cance...</td>\n",
       "    </tr>\n",
       "    <tr>\n",
       "      <th>Marsha Reyngold</th>\n",
       "      <td>Breast Cancer; Gastrointestinal Cancer; Intens...</td>\n",
       "    </tr>\n",
       "  </tbody>\n",
       "</table>\n",
       "</div>"
      ],
      "text/plain": [
       "                                                            expertise\n",
       "name                                                                 \n",
       "Kenneth H. Yu       Pancreatic, Hepatobiliary, and Other Gastroint...\n",
       "Robert Sidlow       Head, Division of Survivorship and Supportive ...\n",
       "Lisa Marie Ruppert  Cancer Rehabilitation; Spinal Cord Injury Medi...\n",
       "Yukio Sonoda        Ovarian Cancer; Uterine Cancer; Cervical Cance...\n",
       "Marsha Reyngold     Breast Cancer; Gastrointestinal Cancer; Intens..."
      ]
     },
     "execution_count": 27,
     "metadata": {},
     "output_type": "execute_result"
    }
   ],
   "source": [
    "expertise_dict_df=pd.read_csv(os.path.join(base_dir, 'data/mskcc_expertise_dict_df.csv'),index_col='name')\n",
    "expertise_dict_df.head()"
   ]
  },
  {
   "cell_type": "code",
   "execution_count": 34,
   "metadata": {},
   "outputs": [],
   "source": [
    "expertise_dict_df['expertisen_processed']=expertise_dict_df.expertise.apply(lambda x:preprocess(x))\n",
    "expertise_dict_df['cancer_type2']=expertise_dict_df.expertisen_processed.apply(lambda x:annotate_abstract(x))     "
   ]
  },
  {
   "cell_type": "code",
   "execution_count": 35,
   "metadata": {},
   "outputs": [
    {
     "data": {
      "text/html": [
       "<div>\n",
       "<style scoped>\n",
       "    .dataframe tbody tr th:only-of-type {\n",
       "        vertical-align: middle;\n",
       "    }\n",
       "\n",
       "    .dataframe tbody tr th {\n",
       "        vertical-align: top;\n",
       "    }\n",
       "\n",
       "    .dataframe thead th {\n",
       "        text-align: right;\n",
       "    }\n",
       "</style>\n",
       "<table border=\"1\" class=\"dataframe\">\n",
       "  <thead>\n",
       "    <tr style=\"text-align: right;\">\n",
       "      <th></th>\n",
       "      <th>expertise</th>\n",
       "      <th>expertisen_processed</th>\n",
       "      <th>cancer_type2</th>\n",
       "    </tr>\n",
       "    <tr>\n",
       "      <th>name</th>\n",
       "      <th></th>\n",
       "      <th></th>\n",
       "      <th></th>\n",
       "    </tr>\n",
       "  </thead>\n",
       "  <tbody>\n",
       "    <tr>\n",
       "      <th>Kenneth H. Yu</th>\n",
       "      <td>Pancreatic, Hepatobiliary, and Other Gastroint...</td>\n",
       "      <td>[pancreatic, malignancy, hepatobiliary]</td>\n",
       "      <td>[Pancreatic Cancer]</td>\n",
       "    </tr>\n",
       "    <tr>\n",
       "      <th>Robert Sidlow</th>\n",
       "      <td>Head, Division of Survivorship and Supportive ...</td>\n",
       "      <td>[operation, chair, care, head, associate, surv...</td>\n",
       "      <td>[]</td>\n",
       "    </tr>\n",
       "    <tr>\n",
       "      <th>Lisa Marie Ruppert</th>\n",
       "      <td>Cancer Rehabilitation; Spinal Cord Injury Medi...</td>\n",
       "      <td>[injury, rehabilitation, medicine, cord, spinal]</td>\n",
       "      <td>[]</td>\n",
       "    </tr>\n",
       "    <tr>\n",
       "      <th>Yukio Sonoda</th>\n",
       "      <td>Ovarian Cancer; Uterine Cancer; Cervical Cance...</td>\n",
       "      <td>[surgery, invasive, ovarian, radical, uterine,...</td>\n",
       "      <td>[Ovarian Cancer, Vulvar Cancer, Vaginal Cancer...</td>\n",
       "    </tr>\n",
       "    <tr>\n",
       "      <th>Marsha Reyngold</th>\n",
       "      <td>Breast Cancer; Gastrointestinal Cancer; Intens...</td>\n",
       "      <td>[therapy, radiation, radiosurgery, intensity, ...</td>\n",
       "      <td>[Breast Cancer]</td>\n",
       "    </tr>\n",
       "  </tbody>\n",
       "</table>\n",
       "</div>"
      ],
      "text/plain": [
       "                                                            expertise  \\\n",
       "name                                                                    \n",
       "Kenneth H. Yu       Pancreatic, Hepatobiliary, and Other Gastroint...   \n",
       "Robert Sidlow       Head, Division of Survivorship and Supportive ...   \n",
       "Lisa Marie Ruppert  Cancer Rehabilitation; Spinal Cord Injury Medi...   \n",
       "Yukio Sonoda        Ovarian Cancer; Uterine Cancer; Cervical Cance...   \n",
       "Marsha Reyngold     Breast Cancer; Gastrointestinal Cancer; Intens...   \n",
       "\n",
       "                                                 expertisen_processed  \\\n",
       "name                                                                    \n",
       "Kenneth H. Yu                 [pancreatic, malignancy, hepatobiliary]   \n",
       "Robert Sidlow       [operation, chair, care, head, associate, surv...   \n",
       "Lisa Marie Ruppert   [injury, rehabilitation, medicine, cord, spinal]   \n",
       "Yukio Sonoda        [surgery, invasive, ovarian, radical, uterine,...   \n",
       "Marsha Reyngold     [therapy, radiation, radiosurgery, intensity, ...   \n",
       "\n",
       "                                                         cancer_type2  \n",
       "name                                                                   \n",
       "Kenneth H. Yu                                     [Pancreatic Cancer]  \n",
       "Robert Sidlow                                                      []  \n",
       "Lisa Marie Ruppert                                                 []  \n",
       "Yukio Sonoda        [Ovarian Cancer, Vulvar Cancer, Vaginal Cancer...  \n",
       "Marsha Reyngold                                       [Breast Cancer]  "
      ]
     },
     "execution_count": 35,
     "metadata": {},
     "output_type": "execute_result"
    }
   ],
   "source": [
    "expertise_dict_df.head()"
   ]
  },
  {
   "cell_type": "code",
   "execution_count": null,
   "metadata": {},
   "outputs": [],
   "source": []
  },
  {
   "cell_type": "code",
   "execution_count": 358,
   "metadata": {},
   "outputs": [
    {
     "data": {
      "text/html": [
       "<div>\n",
       "<style scoped>\n",
       "    .dataframe tbody tr th:only-of-type {\n",
       "        vertical-align: middle;\n",
       "    }\n",
       "\n",
       "    .dataframe tbody tr th {\n",
       "        vertical-align: top;\n",
       "    }\n",
       "\n",
       "    .dataframe thead th {\n",
       "        text-align: right;\n",
       "    }\n",
       "</style>\n",
       "<table border=\"1\" class=\"dataframe\">\n",
       "  <thead>\n",
       "    <tr style=\"text-align: right;\">\n",
       "      <th></th>\n",
       "      <th>text</th>\n",
       "    </tr>\n",
       "    <tr>\n",
       "      <th>name</th>\n",
       "      <th></th>\n",
       "    </tr>\n",
       "  </thead>\n",
       "  <tbody>\n",
       "    <tr>\n",
       "      <th>Kenneth H. Yu</th>\n",
       "      <td>I am a medical oncologist with expertise in th...</td>\n",
       "    </tr>\n",
       "    <tr>\n",
       "      <th>Robert Sidlow</th>\n",
       "      <td>I am a board-certified general internist and p...</td>\n",
       "    </tr>\n",
       "    <tr>\n",
       "      <th>Lisa Marie Ruppert</th>\n",
       "      <td>I am a physician of Physical Medicine and Reha...</td>\n",
       "    </tr>\n",
       "    <tr>\n",
       "      <th>Yukio Sonoda</th>\n",
       "      <td>I am a gynecologic oncologist who performs abo...</td>\n",
       "    </tr>\n",
       "    <tr>\n",
       "      <th>Marsha Reyngold</th>\n",
       "      <td>I am a board-certified radiation oncologist wh...</td>\n",
       "    </tr>\n",
       "  </tbody>\n",
       "</table>\n",
       "</div>"
      ],
      "text/plain": [
       "                                                                 text\n",
       "name                                                                 \n",
       "Kenneth H. Yu       I am a medical oncologist with expertise in th...\n",
       "Robert Sidlow       I am a board-certified general internist and p...\n",
       "Lisa Marie Ruppert  I am a physician of Physical Medicine and Reha...\n",
       "Yukio Sonoda        I am a gynecologic oncologist who performs abo...\n",
       "Marsha Reyngold     I am a board-certified radiation oncologist wh..."
      ]
     },
     "execution_count": 358,
     "metadata": {},
     "output_type": "execute_result"
    }
   ],
   "source": [
    "text_dict_df=pd.read_csv(os.path.join(base_dir, 'data/mskcc_text_dict_df.csv'),index_col='name')\n",
    "text_dict_df.head()"
   ]
  },
  {
   "cell_type": "code",
   "execution_count": 370,
   "metadata": {},
   "outputs": [
    {
     "data": {
      "text/html": [
       "<div>\n",
       "<style scoped>\n",
       "    .dataframe tbody tr th:only-of-type {\n",
       "        vertical-align: middle;\n",
       "    }\n",
       "\n",
       "    .dataframe tbody tr th {\n",
       "        vertical-align: top;\n",
       "    }\n",
       "\n",
       "    .dataframe thead th {\n",
       "        text-align: right;\n",
       "    }\n",
       "</style>\n",
       "<table border=\"1\" class=\"dataframe\">\n",
       "  <thead>\n",
       "    <tr style=\"text-align: right;\">\n",
       "      <th></th>\n",
       "      <th>clinical_trial</th>\n",
       "    </tr>\n",
       "    <tr>\n",
       "      <th>name</th>\n",
       "      <th></th>\n",
       "    </tr>\n",
       "  </thead>\n",
       "  <tbody>\n",
       "    <tr>\n",
       "      <th>Kenneth H. Yu</th>\n",
       "      <td>['A Phase IB Study of Armed, Activated T Cells...</td>\n",
       "    </tr>\n",
       "    <tr>\n",
       "      <th>Robert Sidlow</th>\n",
       "      <td>[]</td>\n",
       "    </tr>\n",
       "    <tr>\n",
       "      <th>Lisa Marie Ruppert</th>\n",
       "      <td>[]</td>\n",
       "    </tr>\n",
       "    <tr>\n",
       "      <th>Yukio Sonoda</th>\n",
       "      <td>[]</td>\n",
       "    </tr>\n",
       "    <tr>\n",
       "      <th>Marsha Reyngold</th>\n",
       "      <td>['A Phase II Study Assessing High-Dose Radiati...</td>\n",
       "    </tr>\n",
       "  </tbody>\n",
       "</table>\n",
       "</div>"
      ],
      "text/plain": [
       "                                                       clinical_trial\n",
       "name                                                                 \n",
       "Kenneth H. Yu       ['A Phase IB Study of Armed, Activated T Cells...\n",
       "Robert Sidlow                                                      []\n",
       "Lisa Marie Ruppert                                                 []\n",
       "Yukio Sonoda                                                       []\n",
       "Marsha Reyngold     ['A Phase II Study Assessing High-Dose Radiati..."
      ]
     },
     "execution_count": 370,
     "metadata": {},
     "output_type": "execute_result"
    }
   ],
   "source": [
    "clinical_trial_dict_df=pd.read_csv(os.path.join(base_dir, 'data/mskcc_clinical_trial_dict_df.csv'),index_col='name')\n",
    "clinical_trial_dict_df.head()"
   ]
  },
  {
   "cell_type": "code",
   "execution_count": null,
   "metadata": {},
   "outputs": [],
   "source": []
  },
  {
   "cell_type": "code",
   "execution_count": 318,
   "metadata": {},
   "outputs": [],
   "source": [
    "#df1 = pd.DataFrame.from_dict(expertise_dict, orient='index', columns=['Clinical Expertise'])\n",
    "#df2 = pd.DataFrame.from_dict(text_dict, orient='index', columns=['About Me'])\n",
    "#df3 = pd.DataFrame.from_dict(clinical_trial_dict, orient='index', columns=['Clinical Trials'])"
   ]
  },
  {
   "cell_type": "code",
   "execution_count": 314,
   "metadata": {},
   "outputs": [
    {
     "data": {
      "text/plain": [
       "170"
      ]
     },
     "execution_count": 314,
     "metadata": {},
     "output_type": "execute_result"
    }
   ],
   "source": [
    "len(clinical_trial_dict)"
   ]
  },
  {
   "cell_type": "code",
   "execution_count": null,
   "metadata": {},
   "outputs": [],
   "source": [
    "lda_summary_df=pd.concat([df1,df2,df3,df4,df5,df6,df7],axis=1,sort=False)"
   ]
  },
  {
   "cell_type": "code",
   "execution_count": 321,
   "metadata": {},
   "outputs": [
    {
     "data": {
      "text/plain": [
       "['A Phase IB Study of Armed, Activated T Cells in Patients with Advanced Pancreatic Cancer',\n",
       " 'A Phase II Study of Cabiralizumab plus Nivolumab Immunotherapy with or without Chemotherapy in Patients with Advanced Pancreatic Cancer',\n",
       " 'A Pilot Study of Gemcitabine, Nab-Paclitaxel, PEGPH20, and Rivaroxaban for Advanced Pancreatic Cancer',\n",
       " 'A Phase IB/II Study Assessing Multiple Immunotherapy Treatments in Patients with Metastatic Pancreatic Cancer',\n",
       " 'A Phase IB/II Study of APX005M Immunotherapy plus Gemcitabine and nab-Paclitaxel, with or without Nivolumab, in Patients with Previously Untreated Metastatic Pancreatic Cancer']"
      ]
     },
     "execution_count": 321,
     "metadata": {},
     "output_type": "execute_result"
    }
   ],
   "source": [
    "clinical_trial_dict['Kenneth H. Yu']"
   ]
  },
  {
   "cell_type": "code",
   "execution_count": 324,
   "metadata": {},
   "outputs": [],
   "source": [
    "onco_name = \"Kenneth H. Yu\""
   ]
  },
  {
   "cell_type": "code",
   "execution_count": 325,
   "metadata": {},
   "outputs": [],
   "source": [
    "#base_url='https://clinicaltrials.gov/ct2/results?term=Kenneth+H.+Yu&cond=Cancer&cntry=US&Search=Apply&recrs=b&recrs=a&recrs=f&recrs=d&recrs=e&age_v=&gndr=&type=&rslt='\n",
    "base_url='https://clinicaltrials.gov/ct2/results?term={}&cond=Cancer&cntry=US&Search=Apply&recrs=b&recrs=a&recrs=f&recrs=d&recrs=e&age_v=&gndr=&type=&rslt='\n",
    "search_url=base_url.format(\"+\".join(onco_name.split()))"
   ]
  },
  {
   "cell_type": "code",
   "execution_count": 326,
   "metadata": {},
   "outputs": [],
   "source": [
    "html = requests.get(search_url).content\n",
    "soup = BeautifulSoup(html,'html.parser')"
   ]
  },
  {
   "cell_type": "code",
   "execution_count": null,
   "metadata": {},
   "outputs": [],
   "source": []
  }
 ],
 "metadata": {
  "kernelspec": {
   "display_name": "Python 3",
   "language": "python",
   "name": "python3"
  },
  "language_info": {
   "codemirror_mode": {
    "name": "ipython",
    "version": 3
   },
   "file_extension": ".py",
   "mimetype": "text/x-python",
   "name": "python",
   "nbconvert_exporter": "python",
   "pygments_lexer": "ipython3",
   "version": "3.6.2"
  }
 },
 "nbformat": 4,
 "nbformat_minor": 2
}
