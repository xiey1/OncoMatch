{
 "cells": [
  {
   "cell_type": "code",
   "execution_count": 256,
   "metadata": {},
   "outputs": [],
   "source": [
    "import pandas as pd\n",
    "import numpy as np\n",
    "import time\n",
    "import datetime\n",
    "import os\n",
    "import pickle\n",
    "from Bio import Entrez\n",
    "import requests\n",
    "import json\n",
    "from pandas.io.json import json_normalize\n",
    "from bs4 import BeautifulSoup\n",
    "from collections import defaultdict\n",
    "from ast import literal_eval\n",
    "\n",
    "def warn(*args, **kwargs):\n",
    "    pass\n",
    "import warnings\n",
    "warnings.warn = warn"
   ]
  },
  {
   "cell_type": "markdown",
   "metadata": {},
   "source": [
    "### Extract pubmed ID"
   ]
  },
  {
   "cell_type": "code",
   "execution_count": 2,
   "metadata": {},
   "outputs": [],
   "source": [
    "Entrez.email='xieyc10@gmail.com'"
   ]
  },
  {
   "cell_type": "code",
   "execution_count": 230,
   "metadata": {},
   "outputs": [],
   "source": [
    "base_dir='/Volumes/Yuchen_Drive/Insight/OncoMatch'\n",
    "data_df=pickle.load(open(os.path.join(base_dir, \"data/Oncologist_info_1470.pkl\"),\"rb\"))"
   ]
  },
  {
   "cell_type": "code",
   "execution_count": 4,
   "metadata": {},
   "outputs": [
    {
     "data": {
      "text/plain": [
       "(1470, 9)"
      ]
     },
     "execution_count": 4,
     "metadata": {},
     "output_type": "execute_result"
    }
   ],
   "source": [
    "data_df.shape"
   ]
  },
  {
   "cell_type": "code",
   "execution_count": 236,
   "metadata": {},
   "outputs": [],
   "source": [
    "num_list=[]\n",
    "pub_dict=defaultdict(list)"
   ]
  },
  {
   "cell_type": "code",
   "execution_count": 237,
   "metadata": {},
   "outputs": [],
   "source": [
    "for name in data_df.name:\n",
    "    if name not in pub_dict:\n",
    "        search_term='cancer[MESH] AND {}[AUTH]'.format(name)\n",
    "        search_handle=Entrez.esearch(db='Pubmed',term=search_term,retmax=1000,idtype=\"acc\")\n",
    "        search_results = Entrez.read(search_handle)\n",
    "        search_handle.close()\n",
    "        num_list.append(int(search_results['Count']))\n",
    "        pub_dict[name]=search_results['IdList']\n",
    "        time.sleep(0.5)"
   ]
  },
  {
   "cell_type": "code",
   "execution_count": 238,
   "metadata": {},
   "outputs": [
    {
     "data": {
      "text/plain": [
       "1470"
      ]
     },
     "execution_count": 238,
     "metadata": {},
     "output_type": "execute_result"
    }
   ],
   "source": [
    "len(num_list)"
   ]
  },
  {
   "cell_type": "code",
   "execution_count": 39,
   "metadata": {},
   "outputs": [],
   "source": [
    "data_df['article_num']=num_list"
   ]
  },
  {
   "cell_type": "code",
   "execution_count": 45,
   "metadata": {},
   "outputs": [
    {
     "data": {
      "text/html": [
       "<div>\n",
       "<style scoped>\n",
       "    .dataframe tbody tr th:only-of-type {\n",
       "        vertical-align: middle;\n",
       "    }\n",
       "\n",
       "    .dataframe tbody tr th {\n",
       "        vertical-align: top;\n",
       "    }\n",
       "\n",
       "    .dataframe thead th {\n",
       "        text-align: right;\n",
       "    }\n",
       "</style>\n",
       "<table border=\"1\" class=\"dataframe\">\n",
       "  <thead>\n",
       "    <tr style=\"text-align: right;\">\n",
       "      <th></th>\n",
       "      <th>name</th>\n",
       "      <th>degree</th>\n",
       "      <th>phone</th>\n",
       "      <th>center_name2</th>\n",
       "      <th>address</th>\n",
       "      <th>city_state</th>\n",
       "      <th>speciality</th>\n",
       "      <th>certificate</th>\n",
       "      <th>center_name</th>\n",
       "      <th>article_num</th>\n",
       "    </tr>\n",
       "  </thead>\n",
       "  <tbody>\n",
       "    <tr>\n",
       "      <th>0</th>\n",
       "      <td>John H. Glick</td>\n",
       "      <td>MD, FASCO</td>\n",
       "      <td>(215) 662-6334</td>\n",
       "      <td>University of Pennsylvania-Abramson Cancer Center</td>\n",
       "      <td>3400 Civic Center Blvd3rd Fl, Ste 3-300S</td>\n",
       "      <td>Philadelphia, PA 19104-5127, US</td>\n",
       "      <td>[Breast Cancer, Cancer Prevention]</td>\n",
       "      <td>[Internal Medicine, Medical Oncology]</td>\n",
       "      <td>Abramson Cancer Center</td>\n",
       "      <td>7</td>\n",
       "    </tr>\n",
       "    <tr>\n",
       "      <th>1</th>\n",
       "      <td>Arthur M. Feldman</td>\n",
       "      <td>MD</td>\n",
       "      <td>(215) 662-9801</td>\n",
       "      <td>University of Pennsylvania-Abramson Cancer Center</td>\n",
       "      <td>Penn Presbyterian Medcl Ctr51 N 39th St MAB St...</td>\n",
       "      <td>Philadelphia, PA 19104, US</td>\n",
       "      <td>[Breast Cancer, Geriatrics Oncology]</td>\n",
       "      <td>[Internal Medicine, Medical Oncology]</td>\n",
       "      <td>Abramson Cancer Center</td>\n",
       "      <td>0</td>\n",
       "    </tr>\n",
       "    <tr>\n",
       "      <th>2</th>\n",
       "      <td>David M. Mintzer</td>\n",
       "      <td>MD</td>\n",
       "      <td>Search for Phone Number</td>\n",
       "      <td>Abramson Cancer Center at Pennsylvania Hospital</td>\n",
       "      <td>230 W Washington Sq Fl 2</td>\n",
       "      <td>Philadelphia, PA 19106-3500, US</td>\n",
       "      <td>[Breast Cancer, Lung Cancer, Palliative Care/E...</td>\n",
       "      <td>[Hematology, Hospice and Palliative Medicine, ...</td>\n",
       "      <td>Abramson Cancer Center</td>\n",
       "      <td>13</td>\n",
       "    </tr>\n",
       "    <tr>\n",
       "      <th>3</th>\n",
       "      <td>David J. Vaughn</td>\n",
       "      <td>MD</td>\n",
       "      <td>(215) 349-8140</td>\n",
       "      <td>University of Pennsylvania-Abramson Cancer Center</td>\n",
       "      <td>PCAM South 10-1143400 Civic Center Blvd</td>\n",
       "      <td>Philadelphia, PA 19104, US</td>\n",
       "      <td>[Bladder Cancer, Prostate Cancer, Testicular C...</td>\n",
       "      <td>[Medical Oncology]</td>\n",
       "      <td>Abramson Cancer Center</td>\n",
       "      <td>86</td>\n",
       "    </tr>\n",
       "    <tr>\n",
       "      <th>4</th>\n",
       "      <td>Charles John Schneider</td>\n",
       "      <td>MD, FACP</td>\n",
       "      <td>Search for Phone Number</td>\n",
       "      <td>Hospital of the University of Pennsylvania, Ab...</td>\n",
       "      <td>Pereleman Center for Advanced Medicine3400 Civ...</td>\n",
       "      <td>Philadelphia, PA 19104, US</td>\n",
       "      <td>[Clinical Research, Developmental Therapeutics...</td>\n",
       "      <td>[Medical Oncology]</td>\n",
       "      <td>Abramson Cancer Center</td>\n",
       "      <td>0</td>\n",
       "    </tr>\n",
       "    <tr>\n",
       "      <th>5</th>\n",
       "      <td>Marcia S. Brose</td>\n",
       "      <td>MD, PhD, FASCO</td>\n",
       "      <td>(215) 615-0741</td>\n",
       "      <td>University of Pennsylvania-Abramson Cancer Center</td>\n",
       "      <td>5 Silverstein3400 Spruce St</td>\n",
       "      <td>Philadelphia, PA 19104, US</td>\n",
       "      <td>[Head and Neck Cancer, Clinical Research, Clin...</td>\n",
       "      <td>[Internal Medicine, Medical Oncology]</td>\n",
       "      <td>Abramson Cancer Center</td>\n",
       "      <td>50</td>\n",
       "    </tr>\n",
       "    <tr>\n",
       "      <th>6</th>\n",
       "      <td>Robert G. Maki</td>\n",
       "      <td>MD, PhD, FACP, FASCO</td>\n",
       "      <td>800-789-7366</td>\n",
       "      <td>Abramson Cancer Center</td>\n",
       "      <td>Perelman Center for Advanced Medicine3400 Civi...</td>\n",
       "      <td>Philadelphia, Pennsylvania 19104</td>\n",
       "      <td>[Bone Cancer, Sarcoma, Clinical Trials/Biostat...</td>\n",
       "      <td>[Internal Medicine, Medical Oncology]</td>\n",
       "      <td>Abramson Cancer Center</td>\n",
       "      <td>162</td>\n",
       "    </tr>\n",
       "    <tr>\n",
       "      <th>7</th>\n",
       "      <td>Cheryl A. Johnson</td>\n",
       "      <td>MD</td>\n",
       "      <td>(610) 738-2500</td>\n",
       "      <td>Abramson Cancer Center at Chester County</td>\n",
       "      <td>440 E Marshall St Ste 201</td>\n",
       "      <td>West Chester, Pennsylvania 19380-5414, US</td>\n",
       "      <td>[Breast Cancer, Lung Cancer]</td>\n",
       "      <td>[Hematology, Medical Oncology]</td>\n",
       "      <td>Abramson Cancer Center</td>\n",
       "      <td>0</td>\n",
       "    </tr>\n",
       "    <tr>\n",
       "      <th>8</th>\n",
       "      <td>Jonathan D. Abramson</td>\n",
       "      <td>MD</td>\n",
       "      <td>Search for Phone Number</td>\n",
       "      <td>Jonathan D. Abramson, MD</td>\n",
       "      <td>3140 W Campus Dr</td>\n",
       "      <td>Bay City, MI 48706-2776, US</td>\n",
       "      <td>[]</td>\n",
       "      <td>[Hematology]</td>\n",
       "      <td>Abramson Cancer Center</td>\n",
       "      <td>0</td>\n",
       "    </tr>\n",
       "    <tr>\n",
       "      <th>9</th>\n",
       "      <td>Lee P. Hartner</td>\n",
       "      <td>MD</td>\n",
       "      <td>(215) 829-6088</td>\n",
       "      <td>University of Pennsylvania-Abramson Cancer Center</td>\n",
       "      <td>230 W Washington Sq Fl 2U of Penn Abramson Can...</td>\n",
       "      <td>Philadelphia, PA 19106-3500, US</td>\n",
       "      <td>[Head and Neck Cancer, Sarcoma, Palliative Car...</td>\n",
       "      <td>[Hematology, Hospice and Palliative Medicine, ...</td>\n",
       "      <td>Abramson Cancer Center</td>\n",
       "      <td>1</td>\n",
       "    </tr>\n",
       "  </tbody>\n",
       "</table>\n",
       "</div>"
      ],
      "text/plain": [
       "                     name                 degree                    phone  \\\n",
       "0           John H. Glick              MD, FASCO           (215) 662-6334   \n",
       "1       Arthur M. Feldman                     MD           (215) 662-9801   \n",
       "2        David M. Mintzer                     MD  Search for Phone Number   \n",
       "3         David J. Vaughn                     MD           (215) 349-8140   \n",
       "4  Charles John Schneider               MD, FACP  Search for Phone Number   \n",
       "5         Marcia S. Brose         MD, PhD, FASCO           (215) 615-0741   \n",
       "6          Robert G. Maki   MD, PhD, FACP, FASCO             800-789-7366   \n",
       "7       Cheryl A. Johnson                     MD           (610) 738-2500   \n",
       "8    Jonathan D. Abramson                     MD  Search for Phone Number   \n",
       "9          Lee P. Hartner                     MD           (215) 829-6088   \n",
       "\n",
       "                                        center_name2  \\\n",
       "0  University of Pennsylvania-Abramson Cancer Center   \n",
       "1  University of Pennsylvania-Abramson Cancer Center   \n",
       "2    Abramson Cancer Center at Pennsylvania Hospital   \n",
       "3  University of Pennsylvania-Abramson Cancer Center   \n",
       "4  Hospital of the University of Pennsylvania, Ab...   \n",
       "5  University of Pennsylvania-Abramson Cancer Center   \n",
       "6                             Abramson Cancer Center   \n",
       "7           Abramson Cancer Center at Chester County   \n",
       "8                           Jonathan D. Abramson, MD   \n",
       "9  University of Pennsylvania-Abramson Cancer Center   \n",
       "\n",
       "                                             address  \\\n",
       "0           3400 Civic Center Blvd3rd Fl, Ste 3-300S   \n",
       "1  Penn Presbyterian Medcl Ctr51 N 39th St MAB St...   \n",
       "2                           230 W Washington Sq Fl 2   \n",
       "3            PCAM South 10-1143400 Civic Center Blvd   \n",
       "4  Pereleman Center for Advanced Medicine3400 Civ...   \n",
       "5                        5 Silverstein3400 Spruce St   \n",
       "6  Perelman Center for Advanced Medicine3400 Civi...   \n",
       "7                          440 E Marshall St Ste 201   \n",
       "8                                   3140 W Campus Dr   \n",
       "9  230 W Washington Sq Fl 2U of Penn Abramson Can...   \n",
       "\n",
       "                                  city_state  \\\n",
       "0            Philadelphia, PA 19104-5127, US   \n",
       "1                 Philadelphia, PA 19104, US   \n",
       "2            Philadelphia, PA 19106-3500, US   \n",
       "3                 Philadelphia, PA 19104, US   \n",
       "4                 Philadelphia, PA 19104, US   \n",
       "5                 Philadelphia, PA 19104, US   \n",
       "6           Philadelphia, Pennsylvania 19104   \n",
       "7  West Chester, Pennsylvania 19380-5414, US   \n",
       "8                Bay City, MI 48706-2776, US   \n",
       "9            Philadelphia, PA 19106-3500, US   \n",
       "\n",
       "                                          speciality  \\\n",
       "0                 [Breast Cancer, Cancer Prevention]   \n",
       "1               [Breast Cancer, Geriatrics Oncology]   \n",
       "2  [Breast Cancer, Lung Cancer, Palliative Care/E...   \n",
       "3  [Bladder Cancer, Prostate Cancer, Testicular C...   \n",
       "4  [Clinical Research, Developmental Therapeutics...   \n",
       "5  [Head and Neck Cancer, Clinical Research, Clin...   \n",
       "6  [Bone Cancer, Sarcoma, Clinical Trials/Biostat...   \n",
       "7                       [Breast Cancer, Lung Cancer]   \n",
       "8                                                 []   \n",
       "9  [Head and Neck Cancer, Sarcoma, Palliative Car...   \n",
       "\n",
       "                                         certificate              center_name  \\\n",
       "0              [Internal Medicine, Medical Oncology]  Abramson Cancer Center    \n",
       "1              [Internal Medicine, Medical Oncology]  Abramson Cancer Center    \n",
       "2  [Hematology, Hospice and Palliative Medicine, ...  Abramson Cancer Center    \n",
       "3                                 [Medical Oncology]  Abramson Cancer Center    \n",
       "4                                 [Medical Oncology]  Abramson Cancer Center    \n",
       "5              [Internal Medicine, Medical Oncology]  Abramson Cancer Center    \n",
       "6              [Internal Medicine, Medical Oncology]  Abramson Cancer Center    \n",
       "7                     [Hematology, Medical Oncology]  Abramson Cancer Center    \n",
       "8                                       [Hematology]  Abramson Cancer Center    \n",
       "9  [Hematology, Hospice and Palliative Medicine, ...  Abramson Cancer Center    \n",
       "\n",
       "   article_num  \n",
       "0            7  \n",
       "1            0  \n",
       "2           13  \n",
       "3           86  \n",
       "4            0  \n",
       "5           50  \n",
       "6          162  \n",
       "7            0  \n",
       "8            0  \n",
       "9            1  "
      ]
     },
     "execution_count": 45,
     "metadata": {},
     "output_type": "execute_result"
    }
   ],
   "source": [
    "data_df.head(10)"
   ]
  },
  {
   "cell_type": "code",
   "execution_count": 47,
   "metadata": {},
   "outputs": [],
   "source": [
    "pickle.dump(data_df, open(os.path.join(base_dir, \"data/Oncologist_info_1470.pkl\"), \"wb\"))\n",
    "data_df.to_csv(os.path.join(base_dir, \"data/Oncologist_info_1470.csv\"), index=False)\n",
    "pickle.dump(pub_dict, open(os.path.join(base_dir, \"data/Oncologist_info_1470_pub_dict.pkl\"), \"wb\"))"
   ]
  },
  {
   "cell_type": "code",
   "execution_count": 245,
   "metadata": {},
   "outputs": [],
   "source": [
    "pickle.dump(pub_dict, open(os.path.join(base_dir, \"data/Oncologist_info_1470_pub_dict.pkl\"), \"wb\"))"
   ]
  },
  {
   "cell_type": "code",
   "execution_count": 246,
   "metadata": {},
   "outputs": [],
   "source": [
    "pub_dict=dict(pub_dict)"
   ]
  },
  {
   "cell_type": "code",
   "execution_count": 247,
   "metadata": {},
   "outputs": [
    {
     "data": {
      "text/plain": [
       "dict"
      ]
     },
     "execution_count": 247,
     "metadata": {},
     "output_type": "execute_result"
    }
   ],
   "source": [
    "type(pub_dict)"
   ]
  },
  {
   "cell_type": "code",
   "execution_count": 222,
   "metadata": {},
   "outputs": [],
   "source": [
    "to_del=[]\n",
    "for i in pub_dict:\n",
    "    if len(pub_dict[i])==0:\n",
    "        to_del.append(i)"
   ]
  },
  {
   "cell_type": "code",
   "execution_count": 224,
   "metadata": {},
   "outputs": [],
   "source": [
    "for i in to_del:\n",
    "    del pub_dict[i]"
   ]
  },
  {
   "cell_type": "code",
   "execution_count": 226,
   "metadata": {},
   "outputs": [
    {
     "name": "stdout",
     "output_type": "stream",
     "text": [
      "Number of doctors with publications: 1153\n"
     ]
    }
   ],
   "source": [
    "print('Number of doctors with publications: {}'.format(len(pub_dict)))"
   ]
  },
  {
   "cell_type": "code",
   "execution_count": 233,
   "metadata": {},
   "outputs": [],
   "source": [
    "pickle.dump(pub_dict, open(os.path.join(base_dir, \"data/doctor2pmid_1153_dict.pkl\"), \"wb\"))"
   ]
  },
  {
   "cell_type": "code",
   "execution_count": 234,
   "metadata": {},
   "outputs": [],
   "source": [
    "doctor2pmid_dict=pickle.load(open(os.path.join(base_dir, \"data/doctor2pmid_1153_dict.pkl\"),\"rb\"))"
   ]
  },
  {
   "cell_type": "code",
   "execution_count": 259,
   "metadata": {},
   "outputs": [
    {
     "data": {
      "text/html": [
       "<div>\n",
       "<style scoped>\n",
       "    .dataframe tbody tr th:only-of-type {\n",
       "        vertical-align: middle;\n",
       "    }\n",
       "\n",
       "    .dataframe tbody tr th {\n",
       "        vertical-align: top;\n",
       "    }\n",
       "\n",
       "    .dataframe thead th {\n",
       "        text-align: right;\n",
       "    }\n",
       "</style>\n",
       "<table border=\"1\" class=\"dataframe\">\n",
       "  <thead>\n",
       "    <tr style=\"text-align: right;\">\n",
       "      <th></th>\n",
       "      <th>pmid</th>\n",
       "    </tr>\n",
       "  </thead>\n",
       "  <tbody>\n",
       "    <tr>\n",
       "      <th>John H. Glick</th>\n",
       "      <td>[19863338, 18621616, 18591552, 15210738, 12712...</td>\n",
       "    </tr>\n",
       "    <tr>\n",
       "      <th>David M. Mintzer</th>\n",
       "      <td>[23233720, 22154117, 20053760, 18758307, 17573...</td>\n",
       "    </tr>\n",
       "    <tr>\n",
       "      <th>David J. Vaughn</th>\n",
       "      <td>[29848605, 29617189, 29590008, 29534941, 29523...</td>\n",
       "    </tr>\n",
       "    <tr>\n",
       "      <th>Marcia S. Brose</th>\n",
       "      <td>[30832606, 29704768, 29657135, 29656442, 29466...</td>\n",
       "    </tr>\n",
       "    <tr>\n",
       "      <th>Robert G. Maki</th>\n",
       "      <td>[31208434, 31142482, 30664786, 30575484, 30383...</td>\n",
       "    </tr>\n",
       "  </tbody>\n",
       "</table>\n",
       "</div>"
      ],
      "text/plain": [
       "                                                               pmid\n",
       "John H. Glick     [19863338, 18621616, 18591552, 15210738, 12712...\n",
       "David M. Mintzer  [23233720, 22154117, 20053760, 18758307, 17573...\n",
       "David J. Vaughn   [29848605, 29617189, 29590008, 29534941, 29523...\n",
       "Marcia S. Brose   [30832606, 29704768, 29657135, 29656442, 29466...\n",
       "Robert G. Maki    [31208434, 31142482, 30664786, 30575484, 30383..."
      ]
     },
     "execution_count": 259,
     "metadata": {},
     "output_type": "execute_result"
    }
   ],
   "source": [
    "doctor2pmid_1153_dict_df = pd.DataFrame.from_dict(doctor2pmid_dict, orient='index')\n",
    "doctor2pmid_1153_dict_df['pmid'] = doctor2pmid_1153_dict_df.apply(lambda x:[int(i) for i in x if i is not None],axis=1)\n",
    "doctor2pmid_1153_dict_df = doctor2pmid_1153_dict_df.loc[:,'pmid'].to_frame()\n",
    "doctor2pmid_1153_dict_df.head()"
   ]
  },
  {
   "cell_type": "code",
   "execution_count": 260,
   "metadata": {},
   "outputs": [],
   "source": [
    "doctor2pmid_1153_dict_df.to_csv(os.path.join(base_dir, 'data/doctor2pmid_1153_dict_df.csv'),index=True,index_label='name')"
   ]
  },
  {
   "cell_type": "code",
   "execution_count": 265,
   "metadata": {},
   "outputs": [],
   "source": [
    "doctor2pmid_1153_dict_df=pd.read_csv(os.path.join(base_dir, 'data/doctor2pmid_1153_dict_df.csv'),converters={\"pmid\":literal_eval})"
   ]
  },
  {
   "cell_type": "code",
   "execution_count": 266,
   "metadata": {},
   "outputs": [
    {
     "data": {
      "text/html": [
       "<div>\n",
       "<style scoped>\n",
       "    .dataframe tbody tr th:only-of-type {\n",
       "        vertical-align: middle;\n",
       "    }\n",
       "\n",
       "    .dataframe tbody tr th {\n",
       "        vertical-align: top;\n",
       "    }\n",
       "\n",
       "    .dataframe thead th {\n",
       "        text-align: right;\n",
       "    }\n",
       "</style>\n",
       "<table border=\"1\" class=\"dataframe\">\n",
       "  <thead>\n",
       "    <tr style=\"text-align: right;\">\n",
       "      <th></th>\n",
       "      <th>name</th>\n",
       "      <th>pmid</th>\n",
       "    </tr>\n",
       "  </thead>\n",
       "  <tbody>\n",
       "    <tr>\n",
       "      <th>0</th>\n",
       "      <td>John H. Glick</td>\n",
       "      <td>[19863338, 18621616, 18591552, 15210738, 12712...</td>\n",
       "    </tr>\n",
       "    <tr>\n",
       "      <th>1</th>\n",
       "      <td>David M. Mintzer</td>\n",
       "      <td>[23233720, 22154117, 20053760, 18758307, 17573...</td>\n",
       "    </tr>\n",
       "    <tr>\n",
       "      <th>2</th>\n",
       "      <td>David J. Vaughn</td>\n",
       "      <td>[29848605, 29617189, 29590008, 29534941, 29523...</td>\n",
       "    </tr>\n",
       "    <tr>\n",
       "      <th>3</th>\n",
       "      <td>Marcia S. Brose</td>\n",
       "      <td>[30832606, 29704768, 29657135, 29656442, 29466...</td>\n",
       "    </tr>\n",
       "    <tr>\n",
       "      <th>4</th>\n",
       "      <td>Robert G. Maki</td>\n",
       "      <td>[31208434, 31142482, 30664786, 30575484, 30383...</td>\n",
       "    </tr>\n",
       "  </tbody>\n",
       "</table>\n",
       "</div>"
      ],
      "text/plain": [
       "               name                                               pmid\n",
       "0     John H. Glick  [19863338, 18621616, 18591552, 15210738, 12712...\n",
       "1  David M. Mintzer  [23233720, 22154117, 20053760, 18758307, 17573...\n",
       "2   David J. Vaughn  [29848605, 29617189, 29590008, 29534941, 29523...\n",
       "3   Marcia S. Brose  [30832606, 29704768, 29657135, 29656442, 29466...\n",
       "4    Robert G. Maki  [31208434, 31142482, 30664786, 30575484, 30383..."
      ]
     },
     "execution_count": 266,
     "metadata": {},
     "output_type": "execute_result"
    }
   ],
   "source": [
    "doctor2pmid_1153_dict_df.head()"
   ]
  },
  {
   "cell_type": "code",
   "execution_count": 248,
   "metadata": {},
   "outputs": [
    {
     "data": {
      "text/plain": [
       "1153"
      ]
     },
     "execution_count": 248,
     "metadata": {},
     "output_type": "execute_result"
    }
   ],
   "source": [
    "len(doctor2pmid_dict)"
   ]
  },
  {
   "cell_type": "code",
   "execution_count": 170,
   "metadata": {},
   "outputs": [],
   "source": [
    "data_df=pickle.load(open(os.path.join(base_dir, \"data/Oncologist_info_1470.pkl\"),\"rb\"))"
   ]
  },
  {
   "cell_type": "code",
   "execution_count": 49,
   "metadata": {},
   "outputs": [
    {
     "name": "stdout",
     "output_type": "stream",
     "text": [
      "Total number of articles: 91145\n"
     ]
    }
   ],
   "source": [
    "print('Total number of articles: {}'.format(data_df.article_num.sum()))"
   ]
  },
  {
   "cell_type": "markdown",
   "metadata": {},
   "source": [
    "### Extract pubmed Abstract"
   ]
  },
  {
   "cell_type": "code",
   "execution_count": 51,
   "metadata": {},
   "outputs": [],
   "source": [
    "pub_dict=pickle.load(open(os.path.join(base_dir, \"data/Oncologist_info_1470_pub_dict.pkl\"), \"rb\"))"
   ]
  },
  {
   "cell_type": "code",
   "execution_count": 52,
   "metadata": {},
   "outputs": [],
   "source": [
    "pub_list=[]\n",
    "for i in pub_dict.values():\n",
    "    pub_list+=i"
   ]
  },
  {
   "cell_type": "code",
   "execution_count": 53,
   "metadata": {},
   "outputs": [],
   "source": [
    "pub_array = np.unique(np.array(pub_list))"
   ]
  },
  {
   "cell_type": "code",
   "execution_count": 54,
   "metadata": {},
   "outputs": [
    {
     "name": "stdout",
     "output_type": "stream",
     "text": [
      "Total number of unique articles: 57605\n"
     ]
    }
   ],
   "source": [
    "print('Total number of unique articles: {}'.format(len(pub_array)))"
   ]
  },
  {
   "cell_type": "markdown",
   "metadata": {},
   "source": [
    "### Extract pubmed Abstract_combined dataframe"
   ]
  },
  {
   "cell_type": "code",
   "execution_count": 55,
   "metadata": {},
   "outputs": [],
   "source": [
    "articletitle_dict = {}\n",
    "journaltitle_dict = {}\n",
    "journalabbre_dict = {}\n",
    "articledate_dict = {}\n",
    "abstract_dict = {}\n",
    "articletype_dict = {}"
   ]
  },
  {
   "cell_type": "code",
   "execution_count": 56,
   "metadata": {},
   "outputs": [
    {
     "data": {
      "text/plain": [
       "57605"
      ]
     },
     "execution_count": 56,
     "metadata": {},
     "output_type": "execute_result"
    }
   ],
   "source": [
    "len(np.unique(np.array(pub_list)))"
   ]
  },
  {
   "cell_type": "code",
   "execution_count": 57,
   "metadata": {},
   "outputs": [],
   "source": [
    "pub_array = np.unique(np.array(pub_list))"
   ]
  },
  {
   "cell_type": "code",
   "execution_count": 58,
   "metadata": {},
   "outputs": [
    {
     "name": "stdout",
     "output_type": "stream",
     "text": [
      "57605\n"
     ]
    }
   ],
   "source": [
    "pub_list=list(pub_array)\n",
    "print(len(pub_list))"
   ]
  },
  {
   "cell_type": "code",
   "execution_count": 59,
   "metadata": {},
   "outputs": [],
   "source": [
    "for i in range(6):\n",
    "    fetch_handle=Entrez.efetch(db='Pubmed',id=pub_list[i*10000:(i+1)*10000],retmode='xml',rettype='medline')\n",
    "    fetch_results = Entrez.read(fetch_handle)\n",
    "    fetch_handle.close()\n",
    "    for item in fetch_results['PubmedArticle']:\n",
    "        pmid = item['MedlineCitation']['PMID']\n",
    "        article = item['MedlineCitation']['Article']\n",
    "        articletitle_dict[pmid]=article['ArticleTitle']\n",
    "        journaltitle_dict[pmid]=article['Journal']['Title']\n",
    "        if 'ISOAbbreviation' in article['Journal']:\n",
    "            journalabbre_dict[pmid]=article['Journal']['ISOAbbreviation']\n",
    "    \n",
    "        if len(article['ArticleDate']) > 0:\n",
    "            article_date=article['ArticleDate'][0]\n",
    "            articledate_dict[pmid] = datetime.date(int(article_date['Year']),int(article_date['Month']),int(article_date['Day']))\n",
    "        elif 'Year' in article['Journal']['JournalIssue']['PubDate']:\n",
    "            pubdate=article['Journal']['JournalIssue']['PubDate']\n",
    "            if 'Month' in pubdate:\n",
    "                if pubdate['Month'].isdigit():\n",
    "                    date_str=pubdate['Year']+\", \"+pubdate['Month']\n",
    "                    articledate_dict[pmid] = datetime.datetime.strptime(date_str, \"%Y, %m\").date()\n",
    "                else:\n",
    "                    date_str=pubdate['Year']+\", \"+pubdate['Month']\n",
    "                    articledate_dict[pmid] = datetime.datetime.strptime(date_str, \"%Y, %b\").date()\n",
    "            else:\n",
    "                date_str=pubdate['Year']+\", \"+'Jan'\n",
    "                articledate_dict[pmid] = datetime.datetime.strptime(date_str, \"%Y, %b\").date()\n",
    "    \n",
    "        if 'Abstract' in article:\n",
    "            abstract_dict[pmid]=\" \".join(article['Abstract']['AbstractText'])  \n",
    "        articletype_dict[pmid]=str(article['PublicationTypeList'][0])"
   ]
  },
  {
   "cell_type": "code",
   "execution_count": 60,
   "metadata": {},
   "outputs": [],
   "source": [
    "df1 = pd.DataFrame.from_dict(articletitle_dict, orient='index', columns=['article_title'])\n",
    "df2 = pd.DataFrame.from_dict(journaltitle_dict, orient='index', columns=['journal_title'])\n",
    "df3 = pd.DataFrame.from_dict(journalabbre_dict, orient='index', columns=['journal_abbre'])\n",
    "df4 = pd.DataFrame.from_dict(articledate_dict, orient='index', columns=['article_date'])\n",
    "df5 = pd.DataFrame.from_dict(abstract_dict, orient='index', columns=['abstract'])\n",
    "df6 = pd.DataFrame.from_dict(articletype_dict, orient='index', columns=['article_type'])"
   ]
  },
  {
   "cell_type": "code",
   "execution_count": 61,
   "metadata": {},
   "outputs": [],
   "source": [
    "abstract_df=pd.concat([df1,df2,df3,df4,df5,df6],axis=1,sort=False)"
   ]
  },
  {
   "cell_type": "code",
   "execution_count": 63,
   "metadata": {},
   "outputs": [
    {
     "name": "stdout",
     "output_type": "stream",
     "text": [
      "(57605, 6)\n"
     ]
    }
   ],
   "source": [
    "print(abstract_df.shape)"
   ]
  },
  {
   "cell_type": "code",
   "execution_count": 64,
   "metadata": {},
   "outputs": [
    {
     "data": {
      "text/plain": [
       "57605"
      ]
     },
     "execution_count": 64,
     "metadata": {},
     "output_type": "execute_result"
    }
   ],
   "source": [
    "abstract_df.index.nunique()"
   ]
  },
  {
   "cell_type": "code",
   "execution_count": 65,
   "metadata": {},
   "outputs": [],
   "source": [
    "today = datetime.date.today()"
   ]
  },
  {
   "cell_type": "code",
   "execution_count": 66,
   "metadata": {},
   "outputs": [],
   "source": [
    "abstract_df['pub_days']=abstract_df['article_date'].apply(lambda x:(today-x).days if type(x)==datetime.date else np.nan)"
   ]
  },
  {
   "cell_type": "code",
   "execution_count": 67,
   "metadata": {},
   "outputs": [
    {
     "data": {
      "text/html": [
       "<div>\n",
       "<style scoped>\n",
       "    .dataframe tbody tr th:only-of-type {\n",
       "        vertical-align: middle;\n",
       "    }\n",
       "\n",
       "    .dataframe tbody tr th {\n",
       "        vertical-align: top;\n",
       "    }\n",
       "\n",
       "    .dataframe thead th {\n",
       "        text-align: right;\n",
       "    }\n",
       "</style>\n",
       "<table border=\"1\" class=\"dataframe\">\n",
       "  <thead>\n",
       "    <tr style=\"text-align: right;\">\n",
       "      <th></th>\n",
       "      <th>article_title</th>\n",
       "      <th>journal_title</th>\n",
       "      <th>journal_abbre</th>\n",
       "      <th>article_date</th>\n",
       "      <th>abstract</th>\n",
       "      <th>article_type</th>\n",
       "      <th>pub_days</th>\n",
       "    </tr>\n",
       "  </thead>\n",
       "  <tbody>\n",
       "    <tr>\n",
       "      <th>10037348</th>\n",
       "      <td>In vivo trial comparing patients' tolerance of...</td>\n",
       "      <td>Lasers in surgery and medicine</td>\n",
       "      <td>Lasers Surg Med</td>\n",
       "      <td>1999-01-01</td>\n",
       "      <td>Different types of Q-switched lasers have been...</td>\n",
       "      <td>Clinical Trial</td>\n",
       "      <td>7690.0</td>\n",
       "    </tr>\n",
       "    <tr>\n",
       "      <th>10079468</th>\n",
       "      <td>Chronic myelogenous leukemia: update on biolog...</td>\n",
       "      <td>Oncology (Williston Park, N.Y.)</td>\n",
       "      <td>Oncology (Williston Park, N.Y.)</td>\n",
       "      <td>1999-02-01</td>\n",
       "      <td>Chronic myelogenous leukemia (CML) is a myelop...</td>\n",
       "      <td>Comparative Study</td>\n",
       "      <td>7659.0</td>\n",
       "    </tr>\n",
       "    <tr>\n",
       "      <th>10581602</th>\n",
       "      <td>Pain management in patients with advanced pros...</td>\n",
       "      <td>Oncology (Williston Park, N.Y.)</td>\n",
       "      <td>Oncology (Williston Park, N.Y.)</td>\n",
       "      <td>1999-11-01</td>\n",
       "      <td>Prostate cancer is the most commonly diagnosed...</td>\n",
       "      <td>Journal Article</td>\n",
       "      <td>7386.0</td>\n",
       "    </tr>\n",
       "    <tr>\n",
       "      <th>10873802</th>\n",
       "      <td>A human homolog of the C. elegans polarity det...</td>\n",
       "      <td>Current biology : CB</td>\n",
       "      <td>Curr. Biol.</td>\n",
       "      <td>2000-06-01</td>\n",
       "      <td>Rac and Cdc42 are members of the Rho family of...</td>\n",
       "      <td>Journal Article</td>\n",
       "      <td>7173.0</td>\n",
       "    </tr>\n",
       "    <tr>\n",
       "      <th>11050493</th>\n",
       "      <td>An in vivo trial comparing the clinical effica...</td>\n",
       "      <td>Dermatologic surgery : official publication fo...</td>\n",
       "      <td>Dermatol Surg</td>\n",
       "      <td>2000-10-01</td>\n",
       "      <td>Q-switched 755 nm alexandrite (QS alex) and Q-...</td>\n",
       "      <td>Clinical Trial</td>\n",
       "      <td>7051.0</td>\n",
       "    </tr>\n",
       "  </tbody>\n",
       "</table>\n",
       "</div>"
      ],
      "text/plain": [
       "                                              article_title  \\\n",
       "10037348  In vivo trial comparing patients' tolerance of...   \n",
       "10079468  Chronic myelogenous leukemia: update on biolog...   \n",
       "10581602  Pain management in patients with advanced pros...   \n",
       "10873802  A human homolog of the C. elegans polarity det...   \n",
       "11050493  An in vivo trial comparing the clinical effica...   \n",
       "\n",
       "                                              journal_title  \\\n",
       "10037348                     Lasers in surgery and medicine   \n",
       "10079468                    Oncology (Williston Park, N.Y.)   \n",
       "10581602                    Oncology (Williston Park, N.Y.)   \n",
       "10873802                               Current biology : CB   \n",
       "11050493  Dermatologic surgery : official publication fo...   \n",
       "\n",
       "                            journal_abbre article_date  \\\n",
       "10037348                  Lasers Surg Med   1999-01-01   \n",
       "10079468  Oncology (Williston Park, N.Y.)   1999-02-01   \n",
       "10581602  Oncology (Williston Park, N.Y.)   1999-11-01   \n",
       "10873802                      Curr. Biol.   2000-06-01   \n",
       "11050493                    Dermatol Surg   2000-10-01   \n",
       "\n",
       "                                                   abstract  \\\n",
       "10037348  Different types of Q-switched lasers have been...   \n",
       "10079468  Chronic myelogenous leukemia (CML) is a myelop...   \n",
       "10581602  Prostate cancer is the most commonly diagnosed...   \n",
       "10873802  Rac and Cdc42 are members of the Rho family of...   \n",
       "11050493  Q-switched 755 nm alexandrite (QS alex) and Q-...   \n",
       "\n",
       "               article_type  pub_days  \n",
       "10037348     Clinical Trial    7690.0  \n",
       "10079468  Comparative Study    7659.0  \n",
       "10581602    Journal Article    7386.0  \n",
       "10873802    Journal Article    7173.0  \n",
       "11050493     Clinical Trial    7051.0  "
      ]
     },
     "execution_count": 67,
     "metadata": {},
     "output_type": "execute_result"
    }
   ],
   "source": [
    "abstract_df.head()"
   ]
  },
  {
   "cell_type": "code",
   "execution_count": 68,
   "metadata": {},
   "outputs": [
    {
     "data": {
      "text/plain": [
       "article_title       0\n",
       "journal_title       0\n",
       "journal_abbre       4\n",
       "article_date     1090\n",
       "abstract         6622\n",
       "article_type        0\n",
       "pub_days         1090\n",
       "dtype: int64"
      ]
     },
     "execution_count": 68,
     "metadata": {},
     "output_type": "execute_result"
    }
   ],
   "source": [
    "abstract_df.isnull().sum()"
   ]
  },
  {
   "cell_type": "code",
   "execution_count": 96,
   "metadata": {},
   "outputs": [
    {
     "data": {
      "text/plain": [
       "article_title    57605\n",
       "journal_title    57605\n",
       "journal_abbre    57601\n",
       "article_date     56515\n",
       "abstract         50983\n",
       "article_type     57605\n",
       "pub_days         56515\n",
       "dtype: int64"
      ]
     },
     "execution_count": 96,
     "metadata": {},
     "output_type": "execute_result"
    }
   ],
   "source": [
    "abstract_df.notnull().sum()"
   ]
  },
  {
   "cell_type": "code",
   "execution_count": 70,
   "metadata": {},
   "outputs": [
    {
     "data": {
      "text/html": [
       "<div>\n",
       "<style scoped>\n",
       "    .dataframe tbody tr th:only-of-type {\n",
       "        vertical-align: middle;\n",
       "    }\n",
       "\n",
       "    .dataframe tbody tr th {\n",
       "        vertical-align: top;\n",
       "    }\n",
       "\n",
       "    .dataframe thead th {\n",
       "        text-align: right;\n",
       "    }\n",
       "</style>\n",
       "<table border=\"1\" class=\"dataframe\">\n",
       "  <thead>\n",
       "    <tr style=\"text-align: right;\">\n",
       "      <th></th>\n",
       "      <th>article_title</th>\n",
       "      <th>journal_title</th>\n",
       "      <th>journal_abbre</th>\n",
       "      <th>article_date</th>\n",
       "      <th>abstract</th>\n",
       "      <th>article_type</th>\n",
       "      <th>pub_days</th>\n",
       "    </tr>\n",
       "  </thead>\n",
       "  <tbody>\n",
       "    <tr>\n",
       "      <th>count</th>\n",
       "      <td>57605</td>\n",
       "      <td>57605</td>\n",
       "      <td>57601</td>\n",
       "      <td>56515</td>\n",
       "      <td>50983</td>\n",
       "      <td>57605</td>\n",
       "      <td>56515.000000</td>\n",
       "    </tr>\n",
       "    <tr>\n",
       "      <th>unique</th>\n",
       "      <td>57304</td>\n",
       "      <td>2011</td>\n",
       "      <td>2009</td>\n",
       "      <td>5108</td>\n",
       "      <td>50911</td>\n",
       "      <td>41</td>\n",
       "      <td>NaN</td>\n",
       "    </tr>\n",
       "    <tr>\n",
       "      <th>top</th>\n",
       "      <td>Editorial comment.</td>\n",
       "      <td>Journal of clinical oncology : official journa...</td>\n",
       "      <td>J. Clin. Oncol.</td>\n",
       "      <td>2005-01-01</td>\n",
       "      <td></td>\n",
       "      <td>Journal Article</td>\n",
       "      <td>NaN</td>\n",
       "    </tr>\n",
       "    <tr>\n",
       "      <th>freq</th>\n",
       "      <td>30</td>\n",
       "      <td>3748</td>\n",
       "      <td>3748</td>\n",
       "      <td>226</td>\n",
       "      <td>53</td>\n",
       "      <td>39401</td>\n",
       "      <td>NaN</td>\n",
       "    </tr>\n",
       "    <tr>\n",
       "      <th>mean</th>\n",
       "      <td>NaN</td>\n",
       "      <td>NaN</td>\n",
       "      <td>NaN</td>\n",
       "      <td>NaN</td>\n",
       "      <td>NaN</td>\n",
       "      <td>NaN</td>\n",
       "      <td>2886.088472</td>\n",
       "    </tr>\n",
       "    <tr>\n",
       "      <th>std</th>\n",
       "      <td>NaN</td>\n",
       "      <td>NaN</td>\n",
       "      <td>NaN</td>\n",
       "      <td>NaN</td>\n",
       "      <td>NaN</td>\n",
       "      <td>NaN</td>\n",
       "      <td>1727.427447</td>\n",
       "    </tr>\n",
       "    <tr>\n",
       "      <th>min</th>\n",
       "      <td>NaN</td>\n",
       "      <td>NaN</td>\n",
       "      <td>NaN</td>\n",
       "      <td>NaN</td>\n",
       "      <td>NaN</td>\n",
       "      <td>NaN</td>\n",
       "      <td>-11.000000</td>\n",
       "    </tr>\n",
       "    <tr>\n",
       "      <th>25%</th>\n",
       "      <td>NaN</td>\n",
       "      <td>NaN</td>\n",
       "      <td>NaN</td>\n",
       "      <td>NaN</td>\n",
       "      <td>NaN</td>\n",
       "      <td>NaN</td>\n",
       "      <td>1421.000000</td>\n",
       "    </tr>\n",
       "    <tr>\n",
       "      <th>50%</th>\n",
       "      <td>NaN</td>\n",
       "      <td>NaN</td>\n",
       "      <td>NaN</td>\n",
       "      <td>NaN</td>\n",
       "      <td>NaN</td>\n",
       "      <td>NaN</td>\n",
       "      <td>2646.000000</td>\n",
       "    </tr>\n",
       "    <tr>\n",
       "      <th>75%</th>\n",
       "      <td>NaN</td>\n",
       "      <td>NaN</td>\n",
       "      <td>NaN</td>\n",
       "      <td>NaN</td>\n",
       "      <td>NaN</td>\n",
       "      <td>NaN</td>\n",
       "      <td>4221.000000</td>\n",
       "    </tr>\n",
       "    <tr>\n",
       "      <th>max</th>\n",
       "      <td>NaN</td>\n",
       "      <td>NaN</td>\n",
       "      <td>NaN</td>\n",
       "      <td>NaN</td>\n",
       "      <td>NaN</td>\n",
       "      <td>NaN</td>\n",
       "      <td>13991.000000</td>\n",
       "    </tr>\n",
       "  </tbody>\n",
       "</table>\n",
       "</div>"
      ],
      "text/plain": [
       "             article_title                                      journal_title  \\\n",
       "count                57605                                              57605   \n",
       "unique               57304                                               2011   \n",
       "top     Editorial comment.  Journal of clinical oncology : official journa...   \n",
       "freq                    30                                               3748   \n",
       "mean                   NaN                                                NaN   \n",
       "std                    NaN                                                NaN   \n",
       "min                    NaN                                                NaN   \n",
       "25%                    NaN                                                NaN   \n",
       "50%                    NaN                                                NaN   \n",
       "75%                    NaN                                                NaN   \n",
       "max                    NaN                                                NaN   \n",
       "\n",
       "          journal_abbre article_date abstract     article_type      pub_days  \n",
       "count             57601        56515    50983            57605  56515.000000  \n",
       "unique             2009         5108    50911               41           NaN  \n",
       "top     J. Clin. Oncol.   2005-01-01           Journal Article           NaN  \n",
       "freq               3748          226       53            39401           NaN  \n",
       "mean                NaN          NaN      NaN              NaN   2886.088472  \n",
       "std                 NaN          NaN      NaN              NaN   1727.427447  \n",
       "min                 NaN          NaN      NaN              NaN    -11.000000  \n",
       "25%                 NaN          NaN      NaN              NaN   1421.000000  \n",
       "50%                 NaN          NaN      NaN              NaN   2646.000000  \n",
       "75%                 NaN          NaN      NaN              NaN   4221.000000  \n",
       "max                 NaN          NaN      NaN              NaN  13991.000000  "
      ]
     },
     "execution_count": 70,
     "metadata": {},
     "output_type": "execute_result"
    }
   ],
   "source": [
    "abstract_df.describe(include='all')"
   ]
  },
  {
   "cell_type": "code",
   "execution_count": 71,
   "metadata": {},
   "outputs": [],
   "source": [
    "pickle.dump(abstract_df, open(os.path.join(base_dir, \"data/abstract_df_57605.pkl\"), \"wb\"))"
   ]
  },
  {
   "cell_type": "code",
   "execution_count": 133,
   "metadata": {},
   "outputs": [],
   "source": [
    "abstract_df=pickle.load(open(os.path.join(base_dir, \"data/abstract_df_57605.pkl\"),\"rb\"))"
   ]
  },
  {
   "cell_type": "code",
   "execution_count": 134,
   "metadata": {},
   "outputs": [
    {
     "data": {
      "text/plain": [
       "(57605, 7)"
      ]
     },
     "execution_count": 134,
     "metadata": {},
     "output_type": "execute_result"
    }
   ],
   "source": [
    "abstract_df.shape"
   ]
  },
  {
   "cell_type": "code",
   "execution_count": 76,
   "metadata": {},
   "outputs": [],
   "source": [
    "abstract_df.to_csv(os.path.join(base_dir, 'data/abstract_df_57605.csv'),index_label='pmid')"
   ]
  },
  {
   "cell_type": "code",
   "execution_count": 77,
   "metadata": {},
   "outputs": [],
   "source": [
    "abstract_df=pd.read_csv(os.path.join(base_dir, 'data/abstract_df_57605.csv'),index_col='pmid')"
   ]
  },
  {
   "cell_type": "code",
   "execution_count": 79,
   "metadata": {},
   "outputs": [
    {
     "data": {
      "text/html": [
       "<div>\n",
       "<style scoped>\n",
       "    .dataframe tbody tr th:only-of-type {\n",
       "        vertical-align: middle;\n",
       "    }\n",
       "\n",
       "    .dataframe tbody tr th {\n",
       "        vertical-align: top;\n",
       "    }\n",
       "\n",
       "    .dataframe thead th {\n",
       "        text-align: right;\n",
       "    }\n",
       "</style>\n",
       "<table border=\"1\" class=\"dataframe\">\n",
       "  <thead>\n",
       "    <tr style=\"text-align: right;\">\n",
       "      <th></th>\n",
       "      <th>article_title</th>\n",
       "      <th>journal_title</th>\n",
       "      <th>journal_abbre</th>\n",
       "      <th>article_date</th>\n",
       "      <th>abstract</th>\n",
       "      <th>article_type</th>\n",
       "      <th>pub_days</th>\n",
       "    </tr>\n",
       "  </thead>\n",
       "  <tbody>\n",
       "    <tr>\n",
       "      <th>count</th>\n",
       "      <td>57605</td>\n",
       "      <td>57605</td>\n",
       "      <td>57601</td>\n",
       "      <td>56515</td>\n",
       "      <td>50930</td>\n",
       "      <td>57605</td>\n",
       "      <td>56515.000000</td>\n",
       "    </tr>\n",
       "    <tr>\n",
       "      <th>unique</th>\n",
       "      <td>57304</td>\n",
       "      <td>2011</td>\n",
       "      <td>2009</td>\n",
       "      <td>5108</td>\n",
       "      <td>50910</td>\n",
       "      <td>41</td>\n",
       "      <td>NaN</td>\n",
       "    </tr>\n",
       "    <tr>\n",
       "      <th>top</th>\n",
       "      <td>Editorial comment.</td>\n",
       "      <td>Journal of clinical oncology : official journa...</td>\n",
       "      <td>J. Clin. Oncol.</td>\n",
       "      <td>2005-01-01</td>\n",
       "      <td>The benefit of salvage chemotherapy is modest ...</td>\n",
       "      <td>Journal Article</td>\n",
       "      <td>NaN</td>\n",
       "    </tr>\n",
       "    <tr>\n",
       "      <th>freq</th>\n",
       "      <td>30</td>\n",
       "      <td>3748</td>\n",
       "      <td>3748</td>\n",
       "      <td>226</td>\n",
       "      <td>2</td>\n",
       "      <td>39401</td>\n",
       "      <td>NaN</td>\n",
       "    </tr>\n",
       "    <tr>\n",
       "      <th>mean</th>\n",
       "      <td>NaN</td>\n",
       "      <td>NaN</td>\n",
       "      <td>NaN</td>\n",
       "      <td>NaN</td>\n",
       "      <td>NaN</td>\n",
       "      <td>NaN</td>\n",
       "      <td>2886.088472</td>\n",
       "    </tr>\n",
       "    <tr>\n",
       "      <th>std</th>\n",
       "      <td>NaN</td>\n",
       "      <td>NaN</td>\n",
       "      <td>NaN</td>\n",
       "      <td>NaN</td>\n",
       "      <td>NaN</td>\n",
       "      <td>NaN</td>\n",
       "      <td>1727.427447</td>\n",
       "    </tr>\n",
       "    <tr>\n",
       "      <th>min</th>\n",
       "      <td>NaN</td>\n",
       "      <td>NaN</td>\n",
       "      <td>NaN</td>\n",
       "      <td>NaN</td>\n",
       "      <td>NaN</td>\n",
       "      <td>NaN</td>\n",
       "      <td>-11.000000</td>\n",
       "    </tr>\n",
       "    <tr>\n",
       "      <th>25%</th>\n",
       "      <td>NaN</td>\n",
       "      <td>NaN</td>\n",
       "      <td>NaN</td>\n",
       "      <td>NaN</td>\n",
       "      <td>NaN</td>\n",
       "      <td>NaN</td>\n",
       "      <td>1421.000000</td>\n",
       "    </tr>\n",
       "    <tr>\n",
       "      <th>50%</th>\n",
       "      <td>NaN</td>\n",
       "      <td>NaN</td>\n",
       "      <td>NaN</td>\n",
       "      <td>NaN</td>\n",
       "      <td>NaN</td>\n",
       "      <td>NaN</td>\n",
       "      <td>2646.000000</td>\n",
       "    </tr>\n",
       "    <tr>\n",
       "      <th>75%</th>\n",
       "      <td>NaN</td>\n",
       "      <td>NaN</td>\n",
       "      <td>NaN</td>\n",
       "      <td>NaN</td>\n",
       "      <td>NaN</td>\n",
       "      <td>NaN</td>\n",
       "      <td>4221.000000</td>\n",
       "    </tr>\n",
       "    <tr>\n",
       "      <th>max</th>\n",
       "      <td>NaN</td>\n",
       "      <td>NaN</td>\n",
       "      <td>NaN</td>\n",
       "      <td>NaN</td>\n",
       "      <td>NaN</td>\n",
       "      <td>NaN</td>\n",
       "      <td>13991.000000</td>\n",
       "    </tr>\n",
       "  </tbody>\n",
       "</table>\n",
       "</div>"
      ],
      "text/plain": [
       "             article_title                                      journal_title  \\\n",
       "count                57605                                              57605   \n",
       "unique               57304                                               2011   \n",
       "top     Editorial comment.  Journal of clinical oncology : official journa...   \n",
       "freq                    30                                               3748   \n",
       "mean                   NaN                                                NaN   \n",
       "std                    NaN                                                NaN   \n",
       "min                    NaN                                                NaN   \n",
       "25%                    NaN                                                NaN   \n",
       "50%                    NaN                                                NaN   \n",
       "75%                    NaN                                                NaN   \n",
       "max                    NaN                                                NaN   \n",
       "\n",
       "          journal_abbre article_date  \\\n",
       "count             57601        56515   \n",
       "unique             2009         5108   \n",
       "top     J. Clin. Oncol.   2005-01-01   \n",
       "freq               3748          226   \n",
       "mean                NaN          NaN   \n",
       "std                 NaN          NaN   \n",
       "min                 NaN          NaN   \n",
       "25%                 NaN          NaN   \n",
       "50%                 NaN          NaN   \n",
       "75%                 NaN          NaN   \n",
       "max                 NaN          NaN   \n",
       "\n",
       "                                                 abstract     article_type  \\\n",
       "count                                               50930            57605   \n",
       "unique                                              50910               41   \n",
       "top     The benefit of salvage chemotherapy is modest ...  Journal Article   \n",
       "freq                                                    2            39401   \n",
       "mean                                                  NaN              NaN   \n",
       "std                                                   NaN              NaN   \n",
       "min                                                   NaN              NaN   \n",
       "25%                                                   NaN              NaN   \n",
       "50%                                                   NaN              NaN   \n",
       "75%                                                   NaN              NaN   \n",
       "max                                                   NaN              NaN   \n",
       "\n",
       "            pub_days  \n",
       "count   56515.000000  \n",
       "unique           NaN  \n",
       "top              NaN  \n",
       "freq             NaN  \n",
       "mean     2886.088472  \n",
       "std      1727.427447  \n",
       "min       -11.000000  \n",
       "25%      1421.000000  \n",
       "50%      2646.000000  \n",
       "75%      4221.000000  \n",
       "max     13991.000000  "
      ]
     },
     "execution_count": 79,
     "metadata": {},
     "output_type": "execute_result"
    }
   ],
   "source": [
    "abstract_df.describe(include='all')"
   ]
  },
  {
   "cell_type": "code",
   "execution_count": 80,
   "metadata": {},
   "outputs": [
    {
     "data": {
      "text/html": [
       "<div>\n",
       "<style scoped>\n",
       "    .dataframe tbody tr th:only-of-type {\n",
       "        vertical-align: middle;\n",
       "    }\n",
       "\n",
       "    .dataframe tbody tr th {\n",
       "        vertical-align: top;\n",
       "    }\n",
       "\n",
       "    .dataframe thead th {\n",
       "        text-align: right;\n",
       "    }\n",
       "</style>\n",
       "<table border=\"1\" class=\"dataframe\">\n",
       "  <thead>\n",
       "    <tr style=\"text-align: right;\">\n",
       "      <th></th>\n",
       "      <th>article_title</th>\n",
       "      <th>journal_title</th>\n",
       "      <th>journal_abbre</th>\n",
       "      <th>article_date</th>\n",
       "      <th>abstract</th>\n",
       "      <th>article_type</th>\n",
       "      <th>pub_days</th>\n",
       "    </tr>\n",
       "    <tr>\n",
       "      <th>pmid</th>\n",
       "      <th></th>\n",
       "      <th></th>\n",
       "      <th></th>\n",
       "      <th></th>\n",
       "      <th></th>\n",
       "      <th></th>\n",
       "      <th></th>\n",
       "    </tr>\n",
       "  </thead>\n",
       "  <tbody>\n",
       "    <tr>\n",
       "      <th>10037348</th>\n",
       "      <td>In vivo trial comparing patients' tolerance of...</td>\n",
       "      <td>Lasers in surgery and medicine</td>\n",
       "      <td>Lasers Surg Med</td>\n",
       "      <td>1999-01-01</td>\n",
       "      <td>Different types of Q-switched lasers have been...</td>\n",
       "      <td>Clinical Trial</td>\n",
       "      <td>7690.0</td>\n",
       "    </tr>\n",
       "    <tr>\n",
       "      <th>10079468</th>\n",
       "      <td>Chronic myelogenous leukemia: update on biolog...</td>\n",
       "      <td>Oncology (Williston Park, N.Y.)</td>\n",
       "      <td>Oncology (Williston Park, N.Y.)</td>\n",
       "      <td>1999-02-01</td>\n",
       "      <td>Chronic myelogenous leukemia (CML) is a myelop...</td>\n",
       "      <td>Comparative Study</td>\n",
       "      <td>7659.0</td>\n",
       "    </tr>\n",
       "    <tr>\n",
       "      <th>10581602</th>\n",
       "      <td>Pain management in patients with advanced pros...</td>\n",
       "      <td>Oncology (Williston Park, N.Y.)</td>\n",
       "      <td>Oncology (Williston Park, N.Y.)</td>\n",
       "      <td>1999-11-01</td>\n",
       "      <td>Prostate cancer is the most commonly diagnosed...</td>\n",
       "      <td>Journal Article</td>\n",
       "      <td>7386.0</td>\n",
       "    </tr>\n",
       "    <tr>\n",
       "      <th>10873802</th>\n",
       "      <td>A human homolog of the C. elegans polarity det...</td>\n",
       "      <td>Current biology : CB</td>\n",
       "      <td>Curr. Biol.</td>\n",
       "      <td>2000-06-01</td>\n",
       "      <td>Rac and Cdc42 are members of the Rho family of...</td>\n",
       "      <td>Journal Article</td>\n",
       "      <td>7173.0</td>\n",
       "    </tr>\n",
       "    <tr>\n",
       "      <th>11050493</th>\n",
       "      <td>An in vivo trial comparing the clinical effica...</td>\n",
       "      <td>Dermatologic surgery : official publication fo...</td>\n",
       "      <td>Dermatol Surg</td>\n",
       "      <td>2000-10-01</td>\n",
       "      <td>Q-switched 755 nm alexandrite (QS alex) and Q-...</td>\n",
       "      <td>Clinical Trial</td>\n",
       "      <td>7051.0</td>\n",
       "    </tr>\n",
       "  </tbody>\n",
       "</table>\n",
       "</div>"
      ],
      "text/plain": [
       "                                              article_title  \\\n",
       "pmid                                                          \n",
       "10037348  In vivo trial comparing patients' tolerance of...   \n",
       "10079468  Chronic myelogenous leukemia: update on biolog...   \n",
       "10581602  Pain management in patients with advanced pros...   \n",
       "10873802  A human homolog of the C. elegans polarity det...   \n",
       "11050493  An in vivo trial comparing the clinical effica...   \n",
       "\n",
       "                                              journal_title  \\\n",
       "pmid                                                          \n",
       "10037348                     Lasers in surgery and medicine   \n",
       "10079468                    Oncology (Williston Park, N.Y.)   \n",
       "10581602                    Oncology (Williston Park, N.Y.)   \n",
       "10873802                               Current biology : CB   \n",
       "11050493  Dermatologic surgery : official publication fo...   \n",
       "\n",
       "                            journal_abbre article_date  \\\n",
       "pmid                                                     \n",
       "10037348                  Lasers Surg Med   1999-01-01   \n",
       "10079468  Oncology (Williston Park, N.Y.)   1999-02-01   \n",
       "10581602  Oncology (Williston Park, N.Y.)   1999-11-01   \n",
       "10873802                      Curr. Biol.   2000-06-01   \n",
       "11050493                    Dermatol Surg   2000-10-01   \n",
       "\n",
       "                                                   abstract  \\\n",
       "pmid                                                          \n",
       "10037348  Different types of Q-switched lasers have been...   \n",
       "10079468  Chronic myelogenous leukemia (CML) is a myelop...   \n",
       "10581602  Prostate cancer is the most commonly diagnosed...   \n",
       "10873802  Rac and Cdc42 are members of the Rho family of...   \n",
       "11050493  Q-switched 755 nm alexandrite (QS alex) and Q-...   \n",
       "\n",
       "               article_type  pub_days  \n",
       "pmid                                   \n",
       "10037348     Clinical Trial    7690.0  \n",
       "10079468  Comparative Study    7659.0  \n",
       "10581602    Journal Article    7386.0  \n",
       "10873802    Journal Article    7173.0  \n",
       "11050493     Clinical Trial    7051.0  "
      ]
     },
     "execution_count": 80,
     "metadata": {},
     "output_type": "execute_result"
    }
   ],
   "source": [
    "abstract_df.head()"
   ]
  },
  {
   "cell_type": "markdown",
   "metadata": {},
   "source": [
    "### Extract citation information"
   ]
  },
  {
   "cell_type": "code",
   "execution_count": 135,
   "metadata": {},
   "outputs": [],
   "source": [
    "abstract_df2=abstract_df.dropna(subset=['abstract'])"
   ]
  },
  {
   "cell_type": "code",
   "execution_count": 136,
   "metadata": {},
   "outputs": [
    {
     "data": {
      "text/plain": [
       "(50983, 7)"
      ]
     },
     "execution_count": 136,
     "metadata": {},
     "output_type": "execute_result"
    }
   ],
   "source": [
    "abstract_df2.shape"
   ]
  },
  {
   "cell_type": "code",
   "execution_count": 126,
   "metadata": {},
   "outputs": [],
   "source": [
    "abstract_df=abstract_df[-abstract_df.abstract.isnull()]"
   ]
  },
  {
   "cell_type": "code",
   "execution_count": 127,
   "metadata": {},
   "outputs": [
    {
     "data": {
      "text/plain": [
       "(50983, 7)"
      ]
     },
     "execution_count": 127,
     "metadata": {},
     "output_type": "execute_result"
    }
   ],
   "source": [
    "abstract_df.shape"
   ]
  },
  {
   "cell_type": "code",
   "execution_count": 105,
   "metadata": {},
   "outputs": [],
   "source": [
    "abstract_df.to_csv(os.path.join(base_dir, 'data/abstract_df_50930.csv'),index=True,index_label='pmid')"
   ]
  },
  {
   "cell_type": "code",
   "execution_count": 137,
   "metadata": {},
   "outputs": [],
   "source": [
    "abstract_df=pd.read_csv(os.path.join(base_dir, 'data/abstract_df_50930.csv'),index_col='pmid')"
   ]
  },
  {
   "cell_type": "code",
   "execution_count": 138,
   "metadata": {},
   "outputs": [
    {
     "data": {
      "text/html": [
       "<div>\n",
       "<style scoped>\n",
       "    .dataframe tbody tr th:only-of-type {\n",
       "        vertical-align: middle;\n",
       "    }\n",
       "\n",
       "    .dataframe tbody tr th {\n",
       "        vertical-align: top;\n",
       "    }\n",
       "\n",
       "    .dataframe thead th {\n",
       "        text-align: right;\n",
       "    }\n",
       "</style>\n",
       "<table border=\"1\" class=\"dataframe\">\n",
       "  <thead>\n",
       "    <tr style=\"text-align: right;\">\n",
       "      <th></th>\n",
       "      <th>article_title</th>\n",
       "      <th>journal_title</th>\n",
       "      <th>journal_abbre</th>\n",
       "      <th>article_date</th>\n",
       "      <th>abstract</th>\n",
       "      <th>article_type</th>\n",
       "      <th>pub_days</th>\n",
       "    </tr>\n",
       "    <tr>\n",
       "      <th>pmid</th>\n",
       "      <th></th>\n",
       "      <th></th>\n",
       "      <th></th>\n",
       "      <th></th>\n",
       "      <th></th>\n",
       "      <th></th>\n",
       "      <th></th>\n",
       "    </tr>\n",
       "  </thead>\n",
       "  <tbody>\n",
       "    <tr>\n",
       "      <th>10037348</th>\n",
       "      <td>In vivo trial comparing patients' tolerance of...</td>\n",
       "      <td>Lasers in surgery and medicine</td>\n",
       "      <td>Lasers Surg Med</td>\n",
       "      <td>1999-01-01</td>\n",
       "      <td>Different types of Q-switched lasers have been...</td>\n",
       "      <td>Clinical Trial</td>\n",
       "      <td>7690.0</td>\n",
       "    </tr>\n",
       "    <tr>\n",
       "      <th>10079468</th>\n",
       "      <td>Chronic myelogenous leukemia: update on biolog...</td>\n",
       "      <td>Oncology (Williston Park, N.Y.)</td>\n",
       "      <td>Oncology (Williston Park, N.Y.)</td>\n",
       "      <td>1999-02-01</td>\n",
       "      <td>Chronic myelogenous leukemia (CML) is a myelop...</td>\n",
       "      <td>Comparative Study</td>\n",
       "      <td>7659.0</td>\n",
       "    </tr>\n",
       "    <tr>\n",
       "      <th>10581602</th>\n",
       "      <td>Pain management in patients with advanced pros...</td>\n",
       "      <td>Oncology (Williston Park, N.Y.)</td>\n",
       "      <td>Oncology (Williston Park, N.Y.)</td>\n",
       "      <td>1999-11-01</td>\n",
       "      <td>Prostate cancer is the most commonly diagnosed...</td>\n",
       "      <td>Journal Article</td>\n",
       "      <td>7386.0</td>\n",
       "    </tr>\n",
       "    <tr>\n",
       "      <th>10873802</th>\n",
       "      <td>A human homolog of the C. elegans polarity det...</td>\n",
       "      <td>Current biology : CB</td>\n",
       "      <td>Curr. Biol.</td>\n",
       "      <td>2000-06-01</td>\n",
       "      <td>Rac and Cdc42 are members of the Rho family of...</td>\n",
       "      <td>Journal Article</td>\n",
       "      <td>7173.0</td>\n",
       "    </tr>\n",
       "    <tr>\n",
       "      <th>11050493</th>\n",
       "      <td>An in vivo trial comparing the clinical effica...</td>\n",
       "      <td>Dermatologic surgery : official publication fo...</td>\n",
       "      <td>Dermatol Surg</td>\n",
       "      <td>2000-10-01</td>\n",
       "      <td>Q-switched 755 nm alexandrite (QS alex) and Q-...</td>\n",
       "      <td>Clinical Trial</td>\n",
       "      <td>7051.0</td>\n",
       "    </tr>\n",
       "  </tbody>\n",
       "</table>\n",
       "</div>"
      ],
      "text/plain": [
       "                                              article_title  \\\n",
       "pmid                                                          \n",
       "10037348  In vivo trial comparing patients' tolerance of...   \n",
       "10079468  Chronic myelogenous leukemia: update on biolog...   \n",
       "10581602  Pain management in patients with advanced pros...   \n",
       "10873802  A human homolog of the C. elegans polarity det...   \n",
       "11050493  An in vivo trial comparing the clinical effica...   \n",
       "\n",
       "                                              journal_title  \\\n",
       "pmid                                                          \n",
       "10037348                     Lasers in surgery and medicine   \n",
       "10079468                    Oncology (Williston Park, N.Y.)   \n",
       "10581602                    Oncology (Williston Park, N.Y.)   \n",
       "10873802                               Current biology : CB   \n",
       "11050493  Dermatologic surgery : official publication fo...   \n",
       "\n",
       "                            journal_abbre article_date  \\\n",
       "pmid                                                     \n",
       "10037348                  Lasers Surg Med   1999-01-01   \n",
       "10079468  Oncology (Williston Park, N.Y.)   1999-02-01   \n",
       "10581602  Oncology (Williston Park, N.Y.)   1999-11-01   \n",
       "10873802                      Curr. Biol.   2000-06-01   \n",
       "11050493                    Dermatol Surg   2000-10-01   \n",
       "\n",
       "                                                   abstract  \\\n",
       "pmid                                                          \n",
       "10037348  Different types of Q-switched lasers have been...   \n",
       "10079468  Chronic myelogenous leukemia (CML) is a myelop...   \n",
       "10581602  Prostate cancer is the most commonly diagnosed...   \n",
       "10873802  Rac and Cdc42 are members of the Rho family of...   \n",
       "11050493  Q-switched 755 nm alexandrite (QS alex) and Q-...   \n",
       "\n",
       "               article_type  pub_days  \n",
       "pmid                                   \n",
       "10037348     Clinical Trial    7690.0  \n",
       "10079468  Comparative Study    7659.0  \n",
       "10581602    Journal Article    7386.0  \n",
       "10873802    Journal Article    7173.0  \n",
       "11050493     Clinical Trial    7051.0  "
      ]
     },
     "execution_count": 138,
     "metadata": {},
     "output_type": "execute_result"
    }
   ],
   "source": [
    "abstract_df.head()"
   ]
  },
  {
   "cell_type": "code",
   "execution_count": 144,
   "metadata": {},
   "outputs": [
    {
     "data": {
      "text/plain": [
       "(50930, 7)"
      ]
     },
     "execution_count": 144,
     "metadata": {},
     "output_type": "execute_result"
    }
   ],
   "source": [
    "abstract_df.shape"
   ]
  },
  {
   "cell_type": "markdown",
   "metadata": {},
   "source": [
    "### Get citations"
   ]
  },
  {
   "cell_type": "code",
   "execution_count": 500,
   "metadata": {},
   "outputs": [],
   "source": [
    "with open('data/apikey.txt', 'r') as file:\n",
    "    apikey = file.read().strip('\\n')"
   ]
  },
  {
   "cell_type": "code",
   "execution_count": 501,
   "metadata": {},
   "outputs": [
    {
     "data": {
      "text/plain": [
       "'9bd17f6cbbc39d567daf1b46c4fa1c24'"
      ]
     },
     "execution_count": 501,
     "metadata": {},
     "output_type": "execute_result"
    }
   ],
   "source": [
    "apikey"
   ]
  },
  {
   "cell_type": "code",
   "execution_count": 111,
   "metadata": {},
   "outputs": [],
   "source": [
    "apikey='c348e321a28903840035023148ca6e95'"
   ]
  },
  {
   "cell_type": "code",
   "execution_count": 140,
   "metadata": {},
   "outputs": [],
   "source": [
    "base_api = 'https://api.elsevier.com/content/search/scopus'"
   ]
  },
  {
   "cell_type": "code",
   "execution_count": 145,
   "metadata": {},
   "outputs": [],
   "source": [
    "citations = {}"
   ]
  },
  {
   "cell_type": "code",
   "execution_count": 147,
   "metadata": {},
   "outputs": [],
   "source": [
    "apikey='6d0bf6749ccb91c6b8c6979349441ee9'"
   ]
  },
  {
   "cell_type": "code",
   "execution_count": 157,
   "metadata": {},
   "outputs": [],
   "source": [
    "apikey='b9f56accd684e10a904f6123be409e71'"
   ]
  },
  {
   "cell_type": "code",
   "execution_count": 158,
   "metadata": {},
   "outputs": [],
   "source": [
    "for pmid in abstract_df.index:\n",
    "    if pmid not in citations:\n",
    "        query_pmid = 'PMID(' + str(pmid) + ')'\n",
    "        params = {\n",
    "        'apiKey': apikey,\n",
    "        'query': query_pmid,\n",
    "        'field': 'citedby-count'\n",
    "    }\n",
    "        response = requests.get(base_api, params=params)\n",
    "        response = json.loads(response.text)\n",
    "        if 'search-results' in response:\n",
    "            if 'citedby-count' in response['search-results']['entry'][0]:\n",
    "                citations[pmid]=int(response['search-results']['entry'][0]['citedby-count'])"
   ]
  },
  {
   "cell_type": "code",
   "execution_count": 159,
   "metadata": {},
   "outputs": [
    {
     "data": {
      "text/plain": [
       "49665"
      ]
     },
     "execution_count": 159,
     "metadata": {},
     "output_type": "execute_result"
    }
   ],
   "source": [
    "len(citations)"
   ]
  },
  {
   "cell_type": "code",
   "execution_count": 160,
   "metadata": {},
   "outputs": [
    {
     "data": {
      "text/html": [
       "<div>\n",
       "<style scoped>\n",
       "    .dataframe tbody tr th:only-of-type {\n",
       "        vertical-align: middle;\n",
       "    }\n",
       "\n",
       "    .dataframe tbody tr th {\n",
       "        vertical-align: top;\n",
       "    }\n",
       "\n",
       "    .dataframe thead th {\n",
       "        text-align: right;\n",
       "    }\n",
       "</style>\n",
       "<table border=\"1\" class=\"dataframe\">\n",
       "  <thead>\n",
       "    <tr style=\"text-align: right;\">\n",
       "      <th></th>\n",
       "      <th>citation</th>\n",
       "    </tr>\n",
       "  </thead>\n",
       "  <tbody>\n",
       "    <tr>\n",
       "      <th>10037348</th>\n",
       "      <td>59</td>\n",
       "    </tr>\n",
       "    <tr>\n",
       "      <th>10079468</th>\n",
       "      <td>73</td>\n",
       "    </tr>\n",
       "    <tr>\n",
       "      <th>10581602</th>\n",
       "      <td>25</td>\n",
       "    </tr>\n",
       "    <tr>\n",
       "      <th>10873802</th>\n",
       "      <td>219</td>\n",
       "    </tr>\n",
       "    <tr>\n",
       "      <th>11050493</th>\n",
       "      <td>55</td>\n",
       "    </tr>\n",
       "  </tbody>\n",
       "</table>\n",
       "</div>"
      ],
      "text/plain": [
       "          citation\n",
       "10037348        59\n",
       "10079468        73\n",
       "10581602        25\n",
       "10873802       219\n",
       "11050493        55"
      ]
     },
     "execution_count": 160,
     "metadata": {},
     "output_type": "execute_result"
    }
   ],
   "source": [
    "citation_df=pd.DataFrame.from_dict(citations,orient='index')\n",
    "citation_df.columns=['citation']\n",
    "citation_df.head()"
   ]
  },
  {
   "cell_type": "code",
   "execution_count": 161,
   "metadata": {},
   "outputs": [
    {
     "name": "stdout",
     "output_type": "stream",
     "text": [
      "49665 abstracts have citations\n"
     ]
    }
   ],
   "source": [
    "print('{} abstracts have citations'.format(len(citation_df)))"
   ]
  },
  {
   "cell_type": "code",
   "execution_count": 162,
   "metadata": {},
   "outputs": [
    {
     "data": {
      "text/html": [
       "<div>\n",
       "<style scoped>\n",
       "    .dataframe tbody tr th:only-of-type {\n",
       "        vertical-align: middle;\n",
       "    }\n",
       "\n",
       "    .dataframe tbody tr th {\n",
       "        vertical-align: top;\n",
       "    }\n",
       "\n",
       "    .dataframe thead th {\n",
       "        text-align: right;\n",
       "    }\n",
       "</style>\n",
       "<table border=\"1\" class=\"dataframe\">\n",
       "  <thead>\n",
       "    <tr style=\"text-align: right;\">\n",
       "      <th></th>\n",
       "      <th>article_title</th>\n",
       "      <th>journal_title</th>\n",
       "      <th>journal_abbre</th>\n",
       "      <th>article_date</th>\n",
       "      <th>abstract</th>\n",
       "      <th>article_type</th>\n",
       "      <th>pub_days</th>\n",
       "      <th>citation</th>\n",
       "    </tr>\n",
       "  </thead>\n",
       "  <tbody>\n",
       "    <tr>\n",
       "      <th>2357786</th>\n",
       "      <td>Pseudohypoproteinemia and multiple myeloma.</td>\n",
       "      <td>Cleveland Clinic journal of medicine</td>\n",
       "      <td>Cleve Clin J Med</td>\n",
       "      <td>1990-05-01</td>\n",
       "      <td>Paraproteinemia is an important diagnostic fea...</td>\n",
       "      <td>Case Reports</td>\n",
       "      <td>10857.0</td>\n",
       "      <td>1.0</td>\n",
       "    </tr>\n",
       "    <tr>\n",
       "      <th>7512659</th>\n",
       "      <td>Comparison of digital rectal examination and s...</td>\n",
       "      <td>The Journal of urology</td>\n",
       "      <td>J. Urol.</td>\n",
       "      <td>1994-05-01</td>\n",
       "      <td>To compare the efficacy of digital rectal exam...</td>\n",
       "      <td>Clinical Trial</td>\n",
       "      <td>9396.0</td>\n",
       "      <td>1218.0</td>\n",
       "    </tr>\n",
       "    <tr>\n",
       "      <th>7523707</th>\n",
       "      <td>Accuracy of digital rectal examination and tra...</td>\n",
       "      <td>The Journal of urology</td>\n",
       "      <td>J. Urol.</td>\n",
       "      <td>1994-11-01</td>\n",
       "      <td>Not all prostate cancers are sonographically h...</td>\n",
       "      <td>Clinical Trial</td>\n",
       "      <td>9212.0</td>\n",
       "      <td>116.0</td>\n",
       "    </tr>\n",
       "    <tr>\n",
       "      <th>7525995</th>\n",
       "      <td>Selection of optimal prostate specific antigen...</td>\n",
       "      <td>The Journal of urology</td>\n",
       "      <td>J. Urol.</td>\n",
       "      <td>1994-12-01</td>\n",
       "      <td>A prospective clinical trial of prostate cance...</td>\n",
       "      <td>Clinical Trial</td>\n",
       "      <td>9182.0</td>\n",
       "      <td>230.0</td>\n",
       "    </tr>\n",
       "    <tr>\n",
       "      <th>7692657</th>\n",
       "      <td>Effect of patient age on early detection of pr...</td>\n",
       "      <td>Urology</td>\n",
       "      <td>Urology</td>\n",
       "      <td>1993-10-01</td>\n",
       "      <td>This study was designed to determine the effec...</td>\n",
       "      <td>Clinical Trial</td>\n",
       "      <td>9608.0</td>\n",
       "      <td>132.0</td>\n",
       "    </tr>\n",
       "  </tbody>\n",
       "</table>\n",
       "</div>"
      ],
      "text/plain": [
       "                                             article_title  \\\n",
       "2357786        Pseudohypoproteinemia and multiple myeloma.   \n",
       "7512659  Comparison of digital rectal examination and s...   \n",
       "7523707  Accuracy of digital rectal examination and tra...   \n",
       "7525995  Selection of optimal prostate specific antigen...   \n",
       "7692657  Effect of patient age on early detection of pr...   \n",
       "\n",
       "                                journal_title     journal_abbre article_date  \\\n",
       "2357786  Cleveland Clinic journal of medicine  Cleve Clin J Med   1990-05-01   \n",
       "7512659                The Journal of urology          J. Urol.   1994-05-01   \n",
       "7523707                The Journal of urology          J. Urol.   1994-11-01   \n",
       "7525995                The Journal of urology          J. Urol.   1994-12-01   \n",
       "7692657                               Urology           Urology   1993-10-01   \n",
       "\n",
       "                                                  abstract    article_type  \\\n",
       "2357786  Paraproteinemia is an important diagnostic fea...    Case Reports   \n",
       "7512659  To compare the efficacy of digital rectal exam...  Clinical Trial   \n",
       "7523707  Not all prostate cancers are sonographically h...  Clinical Trial   \n",
       "7525995  A prospective clinical trial of prostate cance...  Clinical Trial   \n",
       "7692657  This study was designed to determine the effec...  Clinical Trial   \n",
       "\n",
       "         pub_days  citation  \n",
       "2357786   10857.0       1.0  \n",
       "7512659    9396.0    1218.0  \n",
       "7523707    9212.0     116.0  \n",
       "7525995    9182.0     230.0  \n",
       "7692657    9608.0     132.0  "
      ]
     },
     "execution_count": 162,
     "metadata": {},
     "output_type": "execute_result"
    }
   ],
   "source": [
    "abstract_citation_df=pd.merge(abstract_df, citation_df, left_index=True, right_index=True, how='outer')\n",
    "abstract_citation_df.head()"
   ]
  },
  {
   "cell_type": "code",
   "execution_count": 163,
   "metadata": {},
   "outputs": [
    {
     "data": {
      "text/plain": [
       "(50930, 8)"
      ]
     },
     "execution_count": 163,
     "metadata": {},
     "output_type": "execute_result"
    }
   ],
   "source": [
    "abstract_citation_df.shape"
   ]
  },
  {
   "cell_type": "code",
   "execution_count": 164,
   "metadata": {},
   "outputs": [],
   "source": [
    "abstract_citation_df.to_csv(os.path.join(base_dir, 'data/abstract_citation_df_50930.csv'),index=True,index_label='pmid')"
   ]
  },
  {
   "cell_type": "code",
   "execution_count": 165,
   "metadata": {},
   "outputs": [],
   "source": [
    "abstract_citation_df=pd.read_csv(os.path.join(base_dir, 'data/abstract_citation_df_50930.csv'),index_col='pmid')"
   ]
  },
  {
   "cell_type": "code",
   "execution_count": 166,
   "metadata": {},
   "outputs": [
    {
     "data": {
      "text/plain": [
       "(50930, 8)"
      ]
     },
     "execution_count": 166,
     "metadata": {},
     "output_type": "execute_result"
    }
   ],
   "source": [
    "abstract_citation_df.shape"
   ]
  },
  {
   "cell_type": "code",
   "execution_count": null,
   "metadata": {},
   "outputs": [],
   "source": []
  },
  {
   "cell_type": "code",
   "execution_count": null,
   "metadata": {},
   "outputs": [],
   "source": []
  },
  {
   "cell_type": "code",
   "execution_count": null,
   "metadata": {},
   "outputs": [],
   "source": []
  },
  {
   "cell_type": "code",
   "execution_count": null,
   "metadata": {},
   "outputs": [],
   "source": []
  },
  {
   "cell_type": "code",
   "execution_count": null,
   "metadata": {},
   "outputs": [],
   "source": []
  },
  {
   "cell_type": "code",
   "execution_count": null,
   "metadata": {},
   "outputs": [],
   "source": []
  },
  {
   "cell_type": "code",
   "execution_count": null,
   "metadata": {},
   "outputs": [],
   "source": []
  },
  {
   "cell_type": "code",
   "execution_count": null,
   "metadata": {},
   "outputs": [],
   "source": []
  },
  {
   "cell_type": "code",
   "execution_count": null,
   "metadata": {},
   "outputs": [],
   "source": []
  }
 ],
 "metadata": {
  "kernelspec": {
   "display_name": "Python 3",
   "language": "python",
   "name": "python3"
  },
  "language_info": {
   "codemirror_mode": {
    "name": "ipython",
    "version": 3
   },
   "file_extension": ".py",
   "mimetype": "text/x-python",
   "name": "python",
   "nbconvert_exporter": "python",
   "pygments_lexer": "ipython3",
   "version": "3.6.2"
  }
 },
 "nbformat": 4,
 "nbformat_minor": 2
}
