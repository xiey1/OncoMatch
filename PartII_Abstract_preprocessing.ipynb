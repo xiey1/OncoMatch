{
 "cells": [
  {
   "cell_type": "markdown",
   "metadata": {},
   "source": [
    "# Summary:\n",
    "This notebook will cover obtaining cancer type information and gene information from abstracts. The aim is to annotate each abstract by cancer type and gene which are two critical features for the doctor recommendation system."
   ]
  },
  {
   "cell_type": "markdown",
   "metadata": {},
   "source": [
    "# Table of contents\n",
    "* [1. Annotate cancer type information for each abstract](#Part1_link)\n",
    "<br >&nbsp;&nbsp;&nbsp;[1.1 Tokenize abstracts](#Part1.1_link)\n",
    "<br >&nbsp;&nbsp;&nbsp;[1.2 Annotate abstracts by cancer types](#Part1.2_link)\n",
    "<br >&nbsp;&nbsp;&nbsp;[1.3 EDA cancer type information](#Part1.3_link)\n",
    "<br >&nbsp;&nbsp;&nbsp;&nbsp;&nbsp;&nbsp;[1.3.1 Summarize number of abstracts with/without cancer type information](#Part1.3.1_link)\n",
    "<br >&nbsp;&nbsp;&nbsp;&nbsp;&nbsp;&nbsp;[1.3.2 Number of articles for each cancer type](#Part1.3.2_link)\n",
    "* [2. Annotate gene information for each abstract](#Part2_link)\n",
    "<br >&nbsp;&nbsp;&nbsp;[2.1 Obtain cancer-related genes and aliases](#Part2.1_link)\n",
    "<br >&nbsp;&nbsp;&nbsp;[2.2 Annotate abstracts by gene](#Part2.2_link)"
   ]
  },
  {
   "cell_type": "code",
   "execution_count": 40,
   "metadata": {},
   "outputs": [],
   "source": [
    "import pandas as pd\n",
    "import numpy as np\n",
    "import os\n",
    "import gensim\n",
    "import nltk\n",
    "from nltk.stem import WordNetLemmatizer\n",
    "\n",
    "import matplotlib.pyplot as plt\n",
    "%matplotlib inline\n",
    "import seaborn as sns\n",
    "from collections import Counter\n",
    "from collections import defaultdict\n",
    "import scipy\n",
    "import requests\n",
    "from bs4 import BeautifulSoup"
   ]
  },
  {
   "cell_type": "markdown",
   "metadata": {},
   "source": [
    "<a id='Part1_link'></a>\n",
    "# 1. Annotate cancer type information for each abstract"
   ]
  },
  {
   "cell_type": "markdown",
   "metadata": {},
   "source": [
    "It is important to assign each abstract to cancer types, which reflect subspecialties of oncologists. \n",
    "<br>The cancer type information for each abstract can be simply identified by searching for cancer-related keywords."
   ]
  },
  {
   "cell_type": "markdown",
   "metadata": {},
   "source": [
    "<a id='Part1.1_link'></a>\n",
    "## 1.1 Tokenize abstracts"
   ]
  },
  {
   "cell_type": "code",
   "execution_count": 9,
   "metadata": {},
   "outputs": [],
   "source": [
    "base_dir='/Volumes/Yuchen_Drive/Insight/OncoMatch'\n",
    "abstract_df=pd.read_csv(os.path.join(base_dir, 'data/abstract_citation_df_50930.csv'),index_col='pmid')"
   ]
  },
  {
   "cell_type": "code",
   "execution_count": 11,
   "metadata": {},
   "outputs": [],
   "source": [
    "stop_word1 = gensim.parsing.preprocessing.STOPWORDS   ## 337\n",
    "stop_word2 = nltk.corpus.stopwords.words('english')   ## 179\n",
    "punct = \"/-'?!.,#$%\\'()*+-/:;<=>@[\\\\]^_`{|}~`\" + '\"\"“”’' + '∞θ÷α•à−β∅³π‘₹´°£€\\×™√²—–&'\n",
    "custom_words = [\"fig\", \"figure\", \"et\", \"al\", \"al.\", \"also\",\n",
    "                \"data\", \"analyze\", \"study\", \"table\", \"using\",\n",
    "                \"method\", \"result\", \"conclusion\", \"author\", \n",
    "                \"find\", \"found\", \"show\", '\"', \"’\", \"“\", \"”\", 'analysis','analyses','analyzed','results','figures'\n",
    "                \"assayed\", \"assay\", \"assays\",\"figures\", \"figure\",\"data\", \"sample\",\"samples\",\"table\",\"tables\",\n",
    "                'proteins','protein','cells','cell','genes','gene',\n",
    "                'mutated','mutation','mutational','mutations','mutate','mutant','mutants',\n",
    "                'cancer','cancers','tumor','tumors','variant','variants','biology','biological']\n",
    "stop_words = set(list(stop_word1)+stop_word2+list(punct)+custom_words)   ## 493"
   ]
  },
  {
   "cell_type": "code",
   "execution_count": 12,
   "metadata": {},
   "outputs": [],
   "source": [
    "def preprocess(text):\n",
    "    result = []\n",
    "    for token in gensim.utils.simple_preprocess(text):\n",
    "        temp=WordNetLemmatizer().lemmatize(token).lower()\n",
    "        if len(temp)>1 and temp not in stop_words:\n",
    "            result.append(temp)\n",
    "    return result"
   ]
  },
  {
   "cell_type": "code",
   "execution_count": 16,
   "metadata": {},
   "outputs": [],
   "source": [
    "abstract_df['abstract_processed']=abstract_df.abstract.apply(lambda x:preprocess(x))"
   ]
  },
  {
   "cell_type": "code",
   "execution_count": 17,
   "metadata": {},
   "outputs": [],
   "source": [
    "abstract_df['abstract_counter']=abstract_df.abstract_processed.apply(lambda x:Counter(x))"
   ]
  },
  {
   "cell_type": "code",
   "execution_count": 18,
   "metadata": {},
   "outputs": [],
   "source": [
    "abstract_df['unique_words']=abstract_df.abstract_counter.apply(lambda x:list(x.keys()))"
   ]
  },
  {
   "cell_type": "markdown",
   "metadata": {},
   "source": [
    "<a id='Part1.2_link'></a>\n",
    "## 1.2 Annotate abstracts by cancer types"
   ]
  },
  {
   "cell_type": "code",
   "execution_count": 1,
   "metadata": {},
   "outputs": [],
   "source": [
    "def annotate_abstract(text):\n",
    "    cancer_type=[]\n",
    "    cancer_list1=['adrenocortical', 'anal', 'appendix', 'bladder', 'bone', 'breast', 'cervical', 'gallbladder', 'ovarian', 'penile', 'prostate', 'rectal', 'skin', 'thyroid', 'vaginal', 'vulvar', 'urethral', 'parathyroid',]\n",
    "    cancer_list2=['carcinoid', 'pituitary', 'wilms', 'rhabdoid', 'brain']\n",
    "    cancer_list3=['melanoma', 'mesothelioma', 'neuroblastoma', 'osteosarcoma', 'pheochromocytoma', 'retinoblastoma', 'rhabdomyosarcoma', 'sarcoma']\n",
    "    for token in text:\n",
    "        if token in cancer_list1:\n",
    "            cancer_type.append(token.capitalize()+ ' Cancer')\n",
    "        if token in cancer_list2:\n",
    "            cancer_type.append(token.capitalize()+ ' Tumor')\n",
    "        if token in cancer_list3:\n",
    "            cancer_type.append(token.capitalize())\n",
    "    if len(set(text).intersection(set(['bile','duct'])))==2:\n",
    "        cancer_type.append('Bile Duct Cancer')\n",
    "    if len(set(text).intersection(set(['colorectal', 'colon'])))>0:\n",
    "        cancer_type.append('Colorectal Cancer')\n",
    "    if len(set(text).intersection(set(['cardiac', 'heart'])))>0:\n",
    "        cancer_type.append('Cardiac Tumors')\n",
    "    if len(set(text).intersection(set(['endometrial', 'uterine', 'endometrium', 'uterus'])))>0:\n",
    "        cancer_type.append('Endometrial Cancer')\n",
    "    if len(set(text).intersection(set(['esophageal', 'esophagus'])))>0:\n",
    "        cancer_type.append('Esophageal Cancer')\n",
    "    if len(set(text).intersection(set(['ewing', 'sarcoma'])))==2:\n",
    "        cancer_type.append('Ewing Sarcoma')\n",
    "    if len(set(text).intersection(set(['fallopian', 'tube'])))==2:\n",
    "        cancer_type.append('Fallopian Tube Cancer')\n",
    "    if len(set(text).intersection(set(['gastric', 'stomach'])))>0:\n",
    "        cancer_type.append('Gastric Cancer')\n",
    "    if len(set(text).intersection(set(['gastrointestinal', 'stromal'])))>0:\n",
    "        if len(set(text).intersection(set(['gastrointestinal', 'stromal'])))==2:\n",
    "            cancer_type.append('Gastrointestinal Stromal Tumor (GIST)')\n",
    "        else:\n",
    "            cancer_type.append('Gastrointestinal Tumor')\n",
    "    if len(set(text).intersection(set(['esthesioneuroblastoma', 'hypopharyngeal', 'laryngeal', 'nasopharyngeal', 'pharyngeal', 'salivary', 'oropharyngeal', 'neck'])))>0:\n",
    "        cancer_type.append('Head and Neck Cancer')\n",
    "    if len(set(text).intersection(set(['kidney', 'renal'])))>0:\n",
    "        cancer_type.append('Kidney Cancer')\n",
    "    if 'leukemia' in text:\n",
    "        cancer_type.append('Leukemia')\n",
    "        if 'acute' in text:\n",
    "            if 'lymphoblastic' in text:\n",
    "                cancer_type.append('Acute Lymphoblastic Leukemia (ALL)')\n",
    "            if 'myeloid' in text:\n",
    "                cancer_type.append('Acute Myeloid Leukemia (AML)')\n",
    "        if 'chronic' in text:\n",
    "            if 'lymphocytic' in text:\n",
    "                cancer_type.append('Chronic Lymphocytic Leukemia (CLL)')\n",
    "            if 'myelogenous' in text:\n",
    "                cancer_type.append('Chronic Myelogenous Leukemia (CML)')\n",
    "        if 'hairy' in text:\n",
    "            cancer_type.append('Hairy Cell Leukemia')\n",
    "    if len(set(text).intersection(set(['liver', 'hepatocellular', 'hepatocyte', 'hepatoblastoma'])))>0:\n",
    "        cancer_type.append('Liver Cancer')\n",
    "    if len(set(text).intersection(set(['lung', 'bronchial', 'pleuropulmonar', 'tracheobronchial'])))>0:\n",
    "        cancer_type.append('Lung Cancer')\n",
    "    if 'lymphoma' in text:\n",
    "        cancer_type.append('Lymphoma')\n",
    "        if 'burkitt' in text:\n",
    "            cancer_type.append('Burkitt Lymphoma')\n",
    "        if len(set(text).intersection(set(['mycosis', 'fungoides'])))==2:\n",
    "            cancer_type.append('Mycosis Fungoides')\n",
    "    if len(set(text).intersection(set(['multiple', 'myeloma'])))==2:\n",
    "        cancer_type.append('Multiple Myeloma')\n",
    "    if len(set(text).intersection(set(['myeloproliferative', 'myelodysplastic'])))>0:\n",
    "        cancer_type.append('Myeloproliferative Neoplasms')\n",
    "    if len(set(text).intersection(set(['pancreatic', 'pancreas'])))>0:\n",
    "        cancer_type.append('Pancreatic Cancer')\n",
    "    if len(set(text).intersection(set(['testicular', 'testicle', 'testicles', 'testis'])))>0:\n",
    "        cancer_type.append('Testicular Cancer')\n",
    "    return cancer_type"
   ]
  },
  {
   "cell_type": "code",
   "execution_count": 20,
   "metadata": {},
   "outputs": [],
   "source": [
    "abstract_df['cancer_type']=abstract_df.unique_words.apply(lambda x:annotate_abstract(x))"
   ]
  },
  {
   "cell_type": "code",
   "execution_count": 21,
   "metadata": {},
   "outputs": [
    {
     "name": "stdout",
     "output_type": "stream",
     "text": [
      "Number of unique cancer types: 55\n"
     ]
    }
   ],
   "source": [
    "cancer_list=set()\n",
    "for i in abstract_df.cancer_type:\n",
    "    for j in i:\n",
    "        cancer_list.add(j)\n",
    "cancer_list=list(cancer_list)\n",
    "print('Number of unique cancer types: {}'.format(len(cancer_list)))"
   ]
  },
  {
   "cell_type": "markdown",
   "metadata": {},
   "source": [
    "<a id='Part1.3_link'></a>\n",
    "## 1.3 EDA cancer type information"
   ]
  },
  {
   "cell_type": "markdown",
   "metadata": {},
   "source": [
    "<a id='Part1.3.1_link'></a>\n",
    "### 1.3.1 Summarize number of abstracts with/without cancer type information"
   ]
  },
  {
   "cell_type": "code",
   "execution_count": 22,
   "metadata": {},
   "outputs": [
    {
     "name": "stdout",
     "output_type": "stream",
     "text": [
      "64853\n"
     ]
    },
    {
     "data": {
      "text/html": [
       "<div>\n",
       "<style scoped>\n",
       "    .dataframe tbody tr th:only-of-type {\n",
       "        vertical-align: middle;\n",
       "    }\n",
       "\n",
       "    .dataframe tbody tr th {\n",
       "        vertical-align: top;\n",
       "    }\n",
       "\n",
       "    .dataframe thead th {\n",
       "        text-align: right;\n",
       "    }\n",
       "</style>\n",
       "<table border=\"1\" class=\"dataframe\">\n",
       "  <thead>\n",
       "    <tr style=\"text-align: right;\">\n",
       "      <th></th>\n",
       "      <th>pmid</th>\n",
       "      <th>cancer_type</th>\n",
       "    </tr>\n",
       "  </thead>\n",
       "  <tbody>\n",
       "    <tr>\n",
       "      <th>0</th>\n",
       "      <td>2357786</td>\n",
       "      <td>Multiple Myeloma</td>\n",
       "    </tr>\n",
       "    <tr>\n",
       "      <th>1</th>\n",
       "      <td>7512659</td>\n",
       "      <td>Rectal Cancer</td>\n",
       "    </tr>\n",
       "    <tr>\n",
       "      <th>2</th>\n",
       "      <td>7512659</td>\n",
       "      <td>Prostate Cancer</td>\n",
       "    </tr>\n",
       "    <tr>\n",
       "      <th>3</th>\n",
       "      <td>7523707</td>\n",
       "      <td>Prostate Cancer</td>\n",
       "    </tr>\n",
       "    <tr>\n",
       "      <th>4</th>\n",
       "      <td>7523707</td>\n",
       "      <td>Rectal Cancer</td>\n",
       "    </tr>\n",
       "  </tbody>\n",
       "</table>\n",
       "</div>"
      ],
      "text/plain": [
       "      pmid       cancer_type\n",
       "0  2357786  Multiple Myeloma\n",
       "1  7512659     Rectal Cancer\n",
       "2  7512659   Prostate Cancer\n",
       "3  7523707   Prostate Cancer\n",
       "4  7523707     Rectal Cancer"
      ]
     },
     "execution_count": 22,
     "metadata": {},
     "output_type": "execute_result"
    }
   ],
   "source": [
    "cancertype_df=abstract_df.copy()\n",
    "cancertype_df['pmid']=cancertype_df.index\n",
    "cancertype_df['combined']=cancertype_df.apply(lambda row:[(row.pmid, s) for s in row['cancer_type']],axis=1)\n",
    "cancertype_flattened=[c for pair in cancertype_df.combined for c in pair]\n",
    "print(len(cancertype_flattened))\n",
    "cancertype_flattened_df=pd.DataFrame.from_records(cancertype_flattened)\n",
    "cancertype_flattened_df.columns=['pmid', 'cancer_type']\n",
    "cancertype_flattened_df.head()"
   ]
  },
  {
   "cell_type": "code",
   "execution_count": null,
   "metadata": {},
   "outputs": [],
   "source": [
    "cancertype_flattened_df.to_csv(os.path.join(base_dir, \"data/cancertype_df2.csv\"),index=False)"
   ]
  },
  {
   "cell_type": "code",
   "execution_count": 24,
   "metadata": {},
   "outputs": [
    {
     "name": "stdout",
     "output_type": "stream",
     "text": [
      "Number of abstracts have cancer type information: 42455\n",
      "Number of abstracts don't have cancer type information: 8475\n"
     ]
    }
   ],
   "source": [
    "print('Number of abstracts have cancer type information: {}'.format(cancertype_flattened_df.pmid.nunique()))\n",
    "print(\"Number of abstracts don't have cancer type information: {}\".format(abstract_df.shape[0]-cancertype_flattened_df.pmid.nunique()))"
   ]
  },
  {
   "cell_type": "code",
   "execution_count": 25,
   "metadata": {},
   "outputs": [
    {
     "data": {
      "image/png": "[encoded data removed]",
      "text/plain": [
       "<Figure size 360x360 with 1 Axes>"
      ]
     },
     "metadata": {},
     "output_type": "display_data"
    }
   ],
   "source": [
    "fig, ax = plt.subplots(figsize=(5, 5), subplot_kw=dict(aspect=\"equal\"))\n",
    "\n",
    "annot = [\"42455 Annotated\",\n",
    "          \"8475 Nonannotated\"]\n",
    "explode = (0, 0.1)\n",
    "data = [float(x.split()[0]) for x in annot]\n",
    "abstract = [x.split()[-1] for x in annot]\n",
    "\n",
    "def func(pct, allvals):\n",
    "    absolute = int(pct/100.*np.sum(allvals))\n",
    "    return \"{:.1f}%\\n({:d})\".format(pct, absolute)\n",
    "\n",
    "wedges, texts, autotexts = ax.pie(data, autopct=lambda pct: func(pct, data), explode=explode, shadow=True, startangle=90,\n",
    "                                  textprops=dict(color=\"black\"))\n",
    "\n",
    "ax.legend(wedges, abstract,\n",
    "          title=\"Abstract\",\n",
    "          loc=\"center left\",\n",
    "          bbox_to_anchor=(1, 0, 0.5, 1),\n",
    "          fontsize=20,\n",
    "          title_fontsize=20)\n",
    "\n",
    "plt.setp(autotexts, size=20, weight=\"bold\")\n",
    "#ax.set_title(\"Matplotlib bakery: A pie\")\n",
    "\n",
    "plt.show()"
   ]
  },
  {
   "cell_type": "markdown",
   "metadata": {},
   "source": [
    "**Note**: Although around 83.4% of abstracts have clear cancer type information, it is still important to annotate the remaining 16.6% as the final recommendation system will first filter abstracts according to cancer types. It is possible that oncologists with important research findings will be eliminated from the first round filtering if the cancer type information is missing."
   ]
  },
  {
   "cell_type": "markdown",
   "metadata": {},
   "source": [
    "<a id='Part1.3.2_link'></a>\n",
    "### 1.3.2 Number of articles for each cancer type"
   ]
  },
  {
   "cell_type": "code",
   "execution_count": 27,
   "metadata": {},
   "outputs": [
    {
     "data": {
      "text/html": [
       "<div>\n",
       "<style scoped>\n",
       "    .dataframe tbody tr th:only-of-type {\n",
       "        vertical-align: middle;\n",
       "    }\n",
       "\n",
       "    .dataframe tbody tr th {\n",
       "        vertical-align: top;\n",
       "    }\n",
       "\n",
       "    .dataframe thead th {\n",
       "        text-align: right;\n",
       "    }\n",
       "</style>\n",
       "<table border=\"1\" class=\"dataframe\">\n",
       "  <thead>\n",
       "    <tr style=\"text-align: right;\">\n",
       "      <th></th>\n",
       "      <th>cancer_type</th>\n",
       "      <th>counts</th>\n",
       "    </tr>\n",
       "  </thead>\n",
       "  <tbody>\n",
       "    <tr>\n",
       "      <th>0</th>\n",
       "      <td>Breast Cancer</td>\n",
       "      <td>7757</td>\n",
       "    </tr>\n",
       "    <tr>\n",
       "      <th>1</th>\n",
       "      <td>Lung Cancer</td>\n",
       "      <td>5201</td>\n",
       "    </tr>\n",
       "    <tr>\n",
       "      <th>2</th>\n",
       "      <td>Leukemia</td>\n",
       "      <td>4755</td>\n",
       "    </tr>\n",
       "    <tr>\n",
       "      <th>3</th>\n",
       "      <td>Prostate Cancer</td>\n",
       "      <td>3878</td>\n",
       "    </tr>\n",
       "    <tr>\n",
       "      <th>4</th>\n",
       "      <td>Colorectal Cancer</td>\n",
       "      <td>3412</td>\n",
       "    </tr>\n",
       "  </tbody>\n",
       "</table>\n",
       "</div>"
      ],
      "text/plain": [
       "         cancer_type  counts\n",
       "0      Breast Cancer    7757\n",
       "1        Lung Cancer    5201\n",
       "2           Leukemia    4755\n",
       "3    Prostate Cancer    3878\n",
       "4  Colorectal Cancer    3412"
      ]
     },
     "execution_count": 27,
     "metadata": {},
     "output_type": "execute_result"
    }
   ],
   "source": [
    "cancertype_counts = cancertype_flattened_df.cancer_type.value_counts().reset_index().rename(columns={'cancer_type':'counts','index':'cancer_type'}).sort_values(by=['counts'],ascending=False)\n",
    "cancertype_counts.head()\n"
   ]
  },
  {
   "cell_type": "code",
   "execution_count": 29,
   "metadata": {},
   "outputs": [
    {
     "data": {
      "text/plain": [
       "Text(0.5, 1.0, 'Number of articles in each cancer type')"
      ]
     },
     "execution_count": 29,
     "metadata": {},
     "output_type": "execute_result"
    },
    {
     "data": {
      "image/png": "[encoded data removed]",
      "text/plain": [
       "<Figure size 720x720 with 1 Axes>"
      ]
     },
     "metadata": {
      "needs_background": "light"
     },
     "output_type": "display_data"
    }
   ],
   "source": [
    "fig,ax=plt.subplots(1,1,figsize=(10,10))\n",
    "ax.barh(np.arange(55),cancertype_counts.counts.values,edgecolor='black',color='red')\n",
    "\n",
    "ax.set_yticks(np.arange(55))\n",
    "ax.set_yticklabels(cancertype_counts.cancer_type.values)\n",
    "ax.invert_yaxis()\n",
    "ax.set_title('Number of articles in each cancer type')"
   ]
  },
  {
   "cell_type": "code",
   "execution_count": 32,
   "metadata": {},
   "outputs": [
    {
     "data": {
      "image/png": "[encoded data removed]",
      "text/plain": [
       "<Figure size 864x432 with 2 Axes>"
      ]
     },
     "metadata": {
      "needs_background": "light"
     },
     "output_type": "display_data"
    }
   ],
   "source": [
    "fig, axes = plt.subplots(1,2,figsize = (12,6))\n",
    "cancer_statistics=pd.read_csv(os.path.join(base_dir, 'data/cancer_statistics.csv'))\n",
    "\n",
    "coef1, p1 = scipy.stats.pearsonr(cancer_statistics.counts1, cancer_statistics.new_cases)\n",
    "coef2, p2 = scipy.stats.pearsonr(cancer_statistics.counts1, cancer_statistics.death_cases)\n",
    "\n",
    "sns.regplot(x='counts1',y='new_cases',data=cancer_statistics,ax=axes[0])\n",
    "axes[0].set_xlabel('abstract_count', fontsize=14)\n",
    "axes[0].set_ylabel('cancer_cases', fontsize=14)\n",
    "axes[0].set_title('Pearson’s correlation coefficient: {}\\np-value: {}'.format(coef1, p1), fontsize=12)\n",
    "\n",
    "sns.regplot(x='counts1',y='death_cases',data=cancer_statistics,ax=axes[1])\n",
    "axes[1].set_xlabel('abstract_count', fontsize=14)\n",
    "axes[1].set_ylabel('death_cases', fontsize=14)\n",
    "axes[1].set_title('Pearson’s correlation coefficient: {}\\np-value: {}'.format(coef2, p2), fontsize=12)\n",
    "\n",
    "plt.tight_layout()"
   ]
  },
  {
   "cell_type": "markdown",
   "metadata": {},
   "source": [
    "Based on the correlation plots above, there is positive correlation between the numebr of abstracts and the number of cancer cases/ death cases for each cancer type."
   ]
  },
  {
   "cell_type": "markdown",
   "metadata": {},
   "source": [
    "<a id='Part2_link'></a>\n",
    "# 2. Annotate gene information for each abstract"
   ]
  },
  {
   "cell_type": "markdown",
   "metadata": {},
   "source": [
    "The second important feature for abstracts is gene information. The majority of cancers are caused by alterations in genes and targeted therapies are designed based on gene mutation profiles."
   ]
  },
  {
   "cell_type": "markdown",
   "metadata": {},
   "source": [
    "<a id='Part2.1_link'></a>\n",
    "## 2.1 Obtain cancer-related genes and aliases"
   ]
  },
  {
   "cell_type": "markdown",
   "metadata": {},
   "source": [
    "Here we are only interested in cancer-related genes. Thus, genes that have been annotated to be cancer-relevant are obtained from **OncoKB** https://www.oncokb.org/."
   ]
  },
  {
   "cell_type": "code",
   "execution_count": 34,
   "metadata": {},
   "outputs": [
    {
     "name": "stdout",
     "output_type": "stream",
     "text": [
      "669\n"
     ]
    }
   ],
   "source": [
    "oncokb_df=pd.read_csv(os.path.join(base_dir,'data/cancerGeneList.tsv'),sep='\\t')\n",
    "oncokb_df=oncokb_df.sort_values(by=['Hugo Symbol'])\n",
    "oncokb_df=oncokb_df[oncokb_df['OncoKB Annotated']=='Yes']\n",
    "gene_list=oncokb_df['Hugo Symbol'].values\n",
    "print(len(gene_list))"
   ]
  },
  {
   "cell_type": "markdown",
   "metadata": {},
   "source": [
    "Every gene may have multiple aliases/synonyms. To simplify the annotation process, the gene names are converted to the HGNC format. The gene alias information can be obtained from https://ghr.nlm.nih.gov/gene.\n",
    "<br>**Note**: For BRCA1 and BRCA2, since they are usually discussed together in literature as BRCA1/2, BRCA1/2 will be used to replace BRCA1 and BRCA2."
   ]
  },
  {
   "cell_type": "code",
   "execution_count": 36,
   "metadata": {},
   "outputs": [],
   "source": [
    "def extract_gene_info(gene_list):\n",
    "    gene_dict=defaultdict(list)\n",
    "    base_url='https://ghr.nlm.nih.gov/gene/{}#synonyms'\n",
    "    for gene in gene_list:\n",
    "        search_url=base_url.replace(\"{}\",gene)\n",
    "    \n",
    "        # get html of search results page\n",
    "        html = requests.get(search_url).content\n",
    "        soup = BeautifulSoup(html,'html.parser')\n",
    "        ## get list of gene alias\n",
    "        genes = soup.find_all('div',{'class':'col-md-8'})\n",
    "        if len(genes) ==4:\n",
    "            genes=genes[3]\n",
    "            for i in genes.find_all('li'):\n",
    "                gene_dict[gene].append(i.get_text())\n",
    "    return gene_dict"
   ]
  },
  {
   "cell_type": "code",
   "execution_count": 41,
   "metadata": {},
   "outputs": [],
   "source": [
    "alias_dict=extract_gene_info(gene_list)"
   ]
  },
  {
   "cell_type": "code",
   "execution_count": 42,
   "metadata": {},
   "outputs": [],
   "source": [
    "alias_dict['BRCA1/2'].append('BRCA')\n",
    "alias_dict['BRCA1/2'].append('BRCA1/2')"
   ]
  },
  {
   "cell_type": "code",
   "execution_count": 43,
   "metadata": {},
   "outputs": [],
   "source": [
    "del alias_dict['BRCA1']\n",
    "del alias_dict['BRCA2']"
   ]
  },
  {
   "cell_type": "code",
   "execution_count": 46,
   "metadata": {},
   "outputs": [
    {
     "data": {
      "text/plain": [
       "dict_keys(['ABL1', 'ACTG1', 'ACVR1', 'AKT1', 'AKT2', 'AKT3', 'ALB', 'ALK', 'ALOX12B', 'AMER1', 'ANKRD11', 'APC', 'AR', 'ARID1A', 'ARID1B', 'ARID2', 'ARID5B', 'ASXL1', 'ASXL2', 'ATF1', 'ATM', 'ATP6AP1', 'ATP6V1B2', 'ATR', 'ATRX', 'ATXN2', 'ATXN7', 'AURKB', 'AXIN1', 'AXIN2', 'AXL', 'B2M', 'BAP1', 'BCL10', 'BCL11B', 'BCL2', 'BCL6', 'BCL9', 'BCOR', 'BCORL1', 'BCR', 'BIRC3', 'BLM', 'BMPR1A', 'BRAF', 'BRD4', 'BRIP1', 'BTG1', 'BTK', 'CALR', 'CARD11', 'CASP8', 'CBFB', 'CBL', 'CCND1', 'CCND2', 'CD274', 'CD28', 'CD58', 'CD79A', 'CD79B', 'CDC42', 'CDC73', 'CDH1', 'CDK12', 'CDK4', 'CDK6', 'CDKN1B', 'CDKN2A', 'CEBPA', 'CHEK2', 'CIC', 'CIITA', 'CRBN', 'CREB1', 'CREBBP', 'CSF1R', 'CSF3R', 'CTCF', 'CTLA4', 'CTNNB1', 'CUL3', 'CUX1', 'CXCR4', 'CYLD', 'CYP19A1', 'DDIT3', 'DDR2', 'DDX3X', 'DEK', 'DICER1', 'DNMT1', 'DNMT3A', 'DNMT3B', 'DOT1L', 'DROSHA', 'EED', 'EGFR', 'EIF4E', 'EP300', 'EPAS1', 'EPCAM', 'EPHA3', 'EPOR', 'ERBB2', 'ERBB3', 'ERBB4', 'ERCC2', 'ERCC3', 'ERCC4', 'ERCC5', 'ERF', 'ERG', 'ESCO2', 'ESR1', 'ETV1', 'ETV4', 'ETV6', 'EWSR1', 'EZH2', 'FAM175A', 'FAM58A', 'FANCA', 'FANCC', 'FANCD2', 'FAS', 'FAT1', 'FBXO11', 'FEV', 'FGF3', 'FGFR1', 'FGFR2', 'FGFR3', 'FGFR4', 'FH', 'FLCN', 'FLI1', 'FLT1', 'FLT3', 'FLT4', 'FOXF1', 'FOXL2', 'FOXO1', 'FOXP1', 'GAB1', 'GATA1', 'GATA2', 'GATA3', 'GLI1', 'GNA11', 'GNAQ', 'GNAS', 'GNB1', 'GREM1', 'GRIN2A', 'GTF2I', 'H3F3A', 'H3F3B', 'HDAC4', 'HGF', 'HIST1H1E', 'HIST1H3A', 'HIST1H3B', 'HIST1H3C', 'HIST1H3D', 'HIST1H3E', 'HIST1H3F', 'HIST1H3G', 'HIST1H3H', 'HIST1H3I', 'HIST1H3J', 'HLA-A', 'HLA-B', 'HLA-C', 'HNF1A', 'HOXB13', 'HRAS', 'IDH1', 'IDH2', 'IFNGR1', 'IGF1', 'IGF1R', 'IGF2', 'IKZF1', 'IKZF3', 'IL10', 'IL7R', 'INPPL1', 'INSR', 'IRF1', 'IRF4', 'IRF8', 'IRS1', 'IRS2', 'JAK2', 'JAK3', 'KAT6A', 'KDM5C', 'KDM6A', 'KDR', 'KEAP1', 'KIT', 'KMT2A', 'KMT2B', 'KMT2C', 'KMT2D', 'KRAS', 'KSR2', 'LCK', 'LMO1', 'LMO2', 'LRP5', 'LRP6', 'LYN', 'LZTR1', 'MAD2L2', 'MAF', 'MAFB', 'MALT1', 'MAP2K1', 'MAP2K2', 'MAP3K1', 'MAX', 'MDM2', 'MECOM', 'MED12', 'MEN1', 'MET', 'MITF', 'MLH1', 'MLLT10', 'MPL', 'MRE11A', 'MSH2', 'MSH3', 'MSH6', 'MSI2', 'MST1', 'MST1R', 'MTAP', 'MTOR', 'MUTYH', 'MYC', 'MYCN', 'MYD88', 'NBN', 'NCOA3', 'NCSTN', 'NF1', 'NF2', 'NFE2L2', 'NFKBIA', 'NKX2-1', 'NOTCH1', 'NOTCH2', 'NOTCH3', 'NOTCH4', 'NPM1', 'NR4A3', 'NRAS', 'NRG1', 'NSD1', 'NT5C2', 'NTHL1', 'NTRK1', 'NTRK2', 'NTRK3', 'NUP93', 'NUP98', 'PAK1', 'PALB2', 'PARK2', 'PAX5', 'PAX8', 'PBRM1', 'PDCD1', 'PDGFB', 'PDGFRA', 'PDGFRB', 'PGR', 'PHF6', 'PHOX2B', 'PIGA', 'PIK3CA', 'PIK3CD', 'PIK3R1', 'PIK3R2', 'PLCG2', 'PMS1', 'PMS2', 'POLD1', 'POLE', 'POT1', 'PPARG', 'PPM1D', 'PPP2R1A', 'PRDM1', 'PRKACA', 'PRKAR1A', 'PRKD1', 'PRSS1', 'PTCH1', 'PTEN', 'PTPN1', 'PTPN11', 'PTPN2', 'PTPRD', 'RAC1', 'RAC2', 'RAD21', 'RAD50', 'RAD51', 'RAD51B', 'RAD51C', 'RAD51D', 'RAD54L', 'RAF1', 'RARA', 'RASA1', 'RB1', 'RBM10', 'RECQL4', 'REL', 'RELN', 'REST', 'RET', 'RHOA', 'RIT1', 'RNF43', 'ROS1', 'RRAGC', 'RRAS', 'RRAS2', 'RTEL1', 'RUNX1', 'RUNX1T1', 'SAMHD1', 'SDHA', 'SDHAF2', 'SDHB', 'SDHC', 'SDHD', 'SESN1', 'SETBP1', 'SETD2', 'SF3B1', 'SH2B3', 'SH2D1A', 'SHOC2', 'SLX4', 'SMAD2', 'SMAD3', 'SMAD4', 'SMARCA2', 'SMARCA4', 'SMARCB1', 'SMARCE1', 'SMC1A', 'SMC3', 'SMO', 'SOCS3', 'SOS1', 'SOX17', 'SOX2', 'SOX9', 'SPRED1', 'SPRTN', 'SRC', 'SRSF2', 'STAG1', 'STAG2', 'STAT1', 'STAT2', 'STAT3', 'STAT5B', 'STK11', 'STK19', 'SUFU', 'SUZ12', 'TAP1', 'TAP2', 'TBL1XR1', 'TBX3', 'TCF3', 'TCF7L2', 'TEK', 'TERT', 'TET1', 'TET2', 'TFE3', 'TGFBR1', 'TGFBR2', 'TLE3', 'TLX1', 'TMEM127', 'TNFAIP3', 'TNFRSF14', 'TOP1', 'TP53', 'TP53BP1', 'TP63', 'TRAF3', 'TRIP13', 'TSC1', 'TSC2', 'TSHR', 'TYK2', 'U2AF1', 'USP8', 'VEGFA', 'VHL', 'WHSC1', 'WHSC1L1', 'WT1', 'XBP1', 'XIAP', 'XRCC2', 'YAP1', 'YY1', 'ZFHX3', 'BRCA1/2'])"
      ]
     },
     "execution_count": 46,
     "metadata": {},
     "output_type": "execute_result"
    }
   ],
   "source": [
    "alias_dict.keys()"
   ]
  },
  {
   "cell_type": "markdown",
   "metadata": {},
   "source": [
    "Further processing gene aliases."
   ]
  },
  {
   "cell_type": "code",
   "execution_count": 47,
   "metadata": {},
   "outputs": [
    {
     "data": {
      "text/html": [
       "<div>\n",
       "<style scoped>\n",
       "    .dataframe tbody tr th:only-of-type {\n",
       "        vertical-align: middle;\n",
       "    }\n",
       "\n",
       "    .dataframe tbody tr th {\n",
       "        vertical-align: top;\n",
       "    }\n",
       "\n",
       "    .dataframe thead th {\n",
       "        text-align: right;\n",
       "    }\n",
       "</style>\n",
       "<table border=\"1\" class=\"dataframe\">\n",
       "  <thead>\n",
       "    <tr style=\"text-align: right;\">\n",
       "      <th></th>\n",
       "      <th>0</th>\n",
       "      <th>1</th>\n",
       "      <th>2</th>\n",
       "      <th>3</th>\n",
       "      <th>4</th>\n",
       "      <th>5</th>\n",
       "      <th>6</th>\n",
       "      <th>7</th>\n",
       "      <th>8</th>\n",
       "      <th>9</th>\n",
       "      <th>...</th>\n",
       "      <th>19</th>\n",
       "      <th>20</th>\n",
       "      <th>21</th>\n",
       "      <th>22</th>\n",
       "      <th>23</th>\n",
       "      <th>24</th>\n",
       "      <th>25</th>\n",
       "      <th>26</th>\n",
       "      <th>27</th>\n",
       "      <th>HGNC</th>\n",
       "    </tr>\n",
       "  </thead>\n",
       "  <tbody>\n",
       "    <tr>\n",
       "      <th>ABL1</th>\n",
       "      <td>Abelson tyrosine-protein kinase 1</td>\n",
       "      <td>ABL</td>\n",
       "      <td>bcr/abl</td>\n",
       "      <td>bcr/c-abl oncogene protein</td>\n",
       "      <td>c-ABL</td>\n",
       "      <td>c-abl oncogene 1, receptor tyrosine kinase</td>\n",
       "      <td>c-ABL1</td>\n",
       "      <td>JTK7</td>\n",
       "      <td>p150</td>\n",
       "      <td>proto-oncogene c-Abl</td>\n",
       "      <td>...</td>\n",
       "      <td>None</td>\n",
       "      <td>None</td>\n",
       "      <td>None</td>\n",
       "      <td>None</td>\n",
       "      <td>None</td>\n",
       "      <td>None</td>\n",
       "      <td>None</td>\n",
       "      <td>None</td>\n",
       "      <td>None</td>\n",
       "      <td>ABL1</td>\n",
       "    </tr>\n",
       "    <tr>\n",
       "      <th>ACTG1</th>\n",
       "      <td>ACT</td>\n",
       "      <td>ACTG</td>\n",
       "      <td>ACTG_HUMAN</td>\n",
       "      <td>actin-like protein</td>\n",
       "      <td>actin, cytoplasmic 2</td>\n",
       "      <td>actin, gamma 1</td>\n",
       "      <td>cytoskeletal gamma-actin</td>\n",
       "      <td>deafness, autosomal dominant 20</td>\n",
       "      <td>deafness, autosomal dominant 26</td>\n",
       "      <td>DFNA20</td>\n",
       "      <td>...</td>\n",
       "      <td>None</td>\n",
       "      <td>None</td>\n",
       "      <td>None</td>\n",
       "      <td>None</td>\n",
       "      <td>None</td>\n",
       "      <td>None</td>\n",
       "      <td>None</td>\n",
       "      <td>None</td>\n",
       "      <td>None</td>\n",
       "      <td>ACTG1</td>\n",
       "    </tr>\n",
       "    <tr>\n",
       "      <th>ACVR1</th>\n",
       "      <td>activin A receptor type I</td>\n",
       "      <td>activin A receptor, type I</td>\n",
       "      <td>activin A receptor, type II-like kinase 2</td>\n",
       "      <td>activin A type I receptor</td>\n",
       "      <td>activin A type I receptor precursor</td>\n",
       "      <td>ActR-IA protein, human</td>\n",
       "      <td>ACTRI</td>\n",
       "      <td>ACVR1_HUMAN</td>\n",
       "      <td>ACVR1A</td>\n",
       "      <td>ACVRLK2</td>\n",
       "      <td>...</td>\n",
       "      <td>None</td>\n",
       "      <td>None</td>\n",
       "      <td>None</td>\n",
       "      <td>None</td>\n",
       "      <td>None</td>\n",
       "      <td>None</td>\n",
       "      <td>None</td>\n",
       "      <td>None</td>\n",
       "      <td>None</td>\n",
       "      <td>ACVR1</td>\n",
       "    </tr>\n",
       "    <tr>\n",
       "      <th>AKT1</th>\n",
       "      <td>AKT</td>\n",
       "      <td>AKT1_HUMAN</td>\n",
       "      <td>MGC99656</td>\n",
       "      <td>PKB</td>\n",
       "      <td>PKB-ALPHA</td>\n",
       "      <td>PKB alpha</td>\n",
       "      <td>PRKBA</td>\n",
       "      <td>protein kinase B alpha</td>\n",
       "      <td>proto-oncogene c-Akt</td>\n",
       "      <td>RAC</td>\n",
       "      <td>...</td>\n",
       "      <td>None</td>\n",
       "      <td>None</td>\n",
       "      <td>None</td>\n",
       "      <td>None</td>\n",
       "      <td>None</td>\n",
       "      <td>None</td>\n",
       "      <td>None</td>\n",
       "      <td>None</td>\n",
       "      <td>None</td>\n",
       "      <td>AKT1</td>\n",
       "    </tr>\n",
       "    <tr>\n",
       "      <th>AKT2</th>\n",
       "      <td>HIHGHH</td>\n",
       "      <td>PKBB</td>\n",
       "      <td>PKBBETA</td>\n",
       "      <td>PRKBB</td>\n",
       "      <td>RAC-BETA</td>\n",
       "      <td>None</td>\n",
       "      <td>None</td>\n",
       "      <td>None</td>\n",
       "      <td>None</td>\n",
       "      <td>None</td>\n",
       "      <td>...</td>\n",
       "      <td>None</td>\n",
       "      <td>None</td>\n",
       "      <td>None</td>\n",
       "      <td>None</td>\n",
       "      <td>None</td>\n",
       "      <td>None</td>\n",
       "      <td>None</td>\n",
       "      <td>None</td>\n",
       "      <td>None</td>\n",
       "      <td>AKT2</td>\n",
       "    </tr>\n",
       "  </tbody>\n",
       "</table>\n",
       "<p>5 rows × 29 columns</p>\n",
       "</div>"
      ],
      "text/plain": [
       "                                       0                           1  \\\n",
       "ABL1   Abelson tyrosine-protein kinase 1                         ABL   \n",
       "ACTG1                                ACT                        ACTG   \n",
       "ACVR1          activin A receptor type I  activin A receptor, type I   \n",
       "AKT1                                 AKT                  AKT1_HUMAN   \n",
       "AKT2                              HIHGHH                        PKBB   \n",
       "\n",
       "                                               2                           3  \\\n",
       "ABL1                                     bcr/abl  bcr/c-abl oncogene protein   \n",
       "ACTG1                                 ACTG_HUMAN          actin-like protein   \n",
       "ACVR1  activin A receptor, type II-like kinase 2   activin A type I receptor   \n",
       "AKT1                                    MGC99656                         PKB   \n",
       "AKT2                                     PKBBETA                       PRKBB   \n",
       "\n",
       "                                         4  \\\n",
       "ABL1                                 c-ABL   \n",
       "ACTG1                 actin, cytoplasmic 2   \n",
       "ACVR1  activin A type I receptor precursor   \n",
       "AKT1                             PKB-ALPHA   \n",
       "AKT2                              RAC-BETA   \n",
       "\n",
       "                                                5                         6  \\\n",
       "ABL1   c-abl oncogene 1, receptor tyrosine kinase                    c-ABL1   \n",
       "ACTG1                              actin, gamma 1  cytoskeletal gamma-actin   \n",
       "ACVR1                      ActR-IA protein, human                     ACTRI   \n",
       "AKT1                                    PKB alpha                     PRKBA   \n",
       "AKT2                                         None                      None   \n",
       "\n",
       "                                     7                                8  \\\n",
       "ABL1                              JTK7                             p150   \n",
       "ACTG1  deafness, autosomal dominant 20  deafness, autosomal dominant 26   \n",
       "ACVR1                      ACVR1_HUMAN                           ACVR1A   \n",
       "AKT1            protein kinase B alpha             proto-oncogene c-Akt   \n",
       "AKT2                              None                             None   \n",
       "\n",
       "                          9  ...    19    20    21    22    23    24    25  \\\n",
       "ABL1   proto-oncogene c-Abl  ...  None  None  None  None  None  None  None   \n",
       "ACTG1                DFNA20  ...  None  None  None  None  None  None  None   \n",
       "ACVR1               ACVRLK2  ...  None  None  None  None  None  None  None   \n",
       "AKT1                    RAC  ...  None  None  None  None  None  None  None   \n",
       "AKT2                   None  ...  None  None  None  None  None  None  None   \n",
       "\n",
       "         26    27   HGNC  \n",
       "ABL1   None  None   ABL1  \n",
       "ACTG1  None  None  ACTG1  \n",
       "ACVR1  None  None  ACVR1  \n",
       "AKT1   None  None   AKT1  \n",
       "AKT2   None  None   AKT2  \n",
       "\n",
       "[5 rows x 29 columns]"
      ]
     },
     "execution_count": 47,
     "metadata": {},
     "output_type": "execute_result"
    }
   ],
   "source": [
    "alias_df = pd.DataFrame.from_dict(alias_dict, orient='index')\n",
    "alias_df['HGNC']=alias_df.index\n",
    "alias_df.head()"
   ]
  },
  {
   "cell_type": "code",
   "execution_count": 48,
   "metadata": {},
   "outputs": [
    {
     "data": {
      "text/html": [
       "<div>\n",
       "<style scoped>\n",
       "    .dataframe tbody tr th:only-of-type {\n",
       "        vertical-align: middle;\n",
       "    }\n",
       "\n",
       "    .dataframe tbody tr th {\n",
       "        vertical-align: top;\n",
       "    }\n",
       "\n",
       "    .dataframe thead th {\n",
       "        text-align: right;\n",
       "    }\n",
       "</style>\n",
       "<table border=\"1\" class=\"dataframe\">\n",
       "  <thead>\n",
       "    <tr style=\"text-align: right;\">\n",
       "      <th></th>\n",
       "      <th>HGNC</th>\n",
       "      <th>alias</th>\n",
       "      <th>alias_lower</th>\n",
       "    </tr>\n",
       "  </thead>\n",
       "  <tbody>\n",
       "    <tr>\n",
       "      <th>0</th>\n",
       "      <td>ABL1</td>\n",
       "      <td>Abelson tyrosine-protein kinase 1</td>\n",
       "      <td>abelson tyrosine-protein kinase 1</td>\n",
       "    </tr>\n",
       "    <tr>\n",
       "      <th>1</th>\n",
       "      <td>ABL1</td>\n",
       "      <td>ABL</td>\n",
       "      <td>abl</td>\n",
       "    </tr>\n",
       "    <tr>\n",
       "      <th>2</th>\n",
       "      <td>ABL1</td>\n",
       "      <td>bcr/abl</td>\n",
       "      <td>bcr/abl</td>\n",
       "    </tr>\n",
       "    <tr>\n",
       "      <th>3</th>\n",
       "      <td>ABL1</td>\n",
       "      <td>bcr/c-abl oncogene protein</td>\n",
       "      <td>bcr/c-abl oncogene protein</td>\n",
       "    </tr>\n",
       "    <tr>\n",
       "      <th>4</th>\n",
       "      <td>ABL1</td>\n",
       "      <td>c-ABL</td>\n",
       "      <td>c-abl</td>\n",
       "    </tr>\n",
       "  </tbody>\n",
       "</table>\n",
       "</div>"
      ],
      "text/plain": [
       "   HGNC                              alias                        alias_lower\n",
       "0  ABL1  Abelson tyrosine-protein kinase 1  abelson tyrosine-protein kinase 1\n",
       "1  ABL1                                ABL                                abl\n",
       "2  ABL1                            bcr/abl                            bcr/abl\n",
       "3  ABL1         bcr/c-abl oncogene protein         bcr/c-abl oncogene protein\n",
       "4  ABL1                              c-ABL                              c-abl"
      ]
     },
     "execution_count": 48,
     "metadata": {},
     "output_type": "execute_result"
    }
   ],
   "source": [
    "alias_df=pd.DataFrame({'HGNC':np.array(list(alias_dict.keys())),'alias_list':list(alias_dict.values())})\n",
    "alias_df.apply(lambda x:x['alias_list'].append(x['HGNC']),axis=1)\n",
    "alias_df['combined']=alias_df.apply(lambda row:[(row['HGNC'], s) for s in row['alias_list']],axis=1)\n",
    "\n",
    "alias_flattened=[a for pair in alias_df.combined for a in pair]\n",
    "alias_flattened_df=pd.DataFrame.from_records(alias_flattened)\n",
    "alias_flattened_df.columns=['HGNC', 'alias']\n",
    "alias_flattened_df['alias_lower']=alias_flattened_df.alias.apply(lambda x:x.lower())\n",
    "alias_flattened_df.head()"
   ]
  },
  {
   "cell_type": "code",
   "execution_count": 49,
   "metadata": {},
   "outputs": [
    {
     "name": "stdout",
     "output_type": "stream",
     "text": [
      "Number of unique HGNC: 421\n"
     ]
    }
   ],
   "source": [
    "print('Number of unique HGNC: {}'.format(alias_flattened_df.HGNC.nunique()))"
   ]
  },
  {
   "cell_type": "code",
   "execution_count": 50,
   "metadata": {},
   "outputs": [],
   "source": [
    "alias_dict2={}\n",
    "for i in range(len(alias_flattened_df)):\n",
    "    alias_dict2[alias_flattened_df.iloc[i,2]]=alias_flattened_df.iloc[i,0]"
   ]
  },
  {
   "cell_type": "markdown",
   "metadata": {},
   "source": [
    "<a id='Part2.2_link'></a>\n",
    "## 2.2 Annotate abstracts by gene"
   ]
  },
  {
   "cell_type": "code",
   "execution_count": 51,
   "metadata": {},
   "outputs": [],
   "source": [
    "abstract_df['alias_set']=abstract_df.unique_words.apply(lambda x:set(alias_flattened_df.alias_lower.values).intersection(set(x)))"
   ]
  },
  {
   "cell_type": "code",
   "execution_count": 52,
   "metadata": {},
   "outputs": [],
   "source": [
    "abstract_df['HGNC_set']=abstract_df.alias_set.apply(lambda x:set([alias_dict2.get(i) for i in x]))"
   ]
  },
  {
   "cell_type": "code",
   "execution_count": 53,
   "metadata": {},
   "outputs": [
    {
     "name": "stdout",
     "output_type": "stream",
     "text": [
      "31530\n"
     ]
    },
    {
     "data": {
      "text/html": [
       "<div>\n",
       "<style scoped>\n",
       "    .dataframe tbody tr th:only-of-type {\n",
       "        vertical-align: middle;\n",
       "    }\n",
       "\n",
       "    .dataframe tbody tr th {\n",
       "        vertical-align: top;\n",
       "    }\n",
       "\n",
       "    .dataframe thead th {\n",
       "        text-align: right;\n",
       "    }\n",
       "</style>\n",
       "<table border=\"1\" class=\"dataframe\">\n",
       "  <thead>\n",
       "    <tr style=\"text-align: right;\">\n",
       "      <th></th>\n",
       "      <th>pmid</th>\n",
       "      <th>HGNC</th>\n",
       "    </tr>\n",
       "  </thead>\n",
       "  <tbody>\n",
       "    <tr>\n",
       "      <th>0</th>\n",
       "      <td>9306419</td>\n",
       "      <td>BCR</td>\n",
       "    </tr>\n",
       "    <tr>\n",
       "      <th>1</th>\n",
       "      <td>9306419</td>\n",
       "      <td>ABL1</td>\n",
       "    </tr>\n",
       "    <tr>\n",
       "      <th>2</th>\n",
       "      <td>10037348</td>\n",
       "      <td>DNMT1</td>\n",
       "    </tr>\n",
       "    <tr>\n",
       "      <th>3</th>\n",
       "      <td>10079468</td>\n",
       "      <td>BCR</td>\n",
       "    </tr>\n",
       "    <tr>\n",
       "      <th>4</th>\n",
       "      <td>10079468</td>\n",
       "      <td>ABL1</td>\n",
       "    </tr>\n",
       "  </tbody>\n",
       "</table>\n",
       "</div>"
      ],
      "text/plain": [
       "       pmid   HGNC\n",
       "0   9306419    BCR\n",
       "1   9306419   ABL1\n",
       "2  10037348  DNMT1\n",
       "3  10079468    BCR\n",
       "4  10079468   ABL1"
      ]
     },
     "execution_count": 53,
     "metadata": {},
     "output_type": "execute_result"
    }
   ],
   "source": [
    "HGNC_df=abstract_df.copy()\n",
    "HGNC_df['pmid']=HGNC_df.index\n",
    "HGNC_df['combined']=HGNC_df.apply(lambda row:[(row.pmid, s) for s in row['HGNC_set']],axis=1)\n",
    "HGNC_flattened=[c for pair in HGNC_df.combined for c in pair]\n",
    "print(len(HGNC_flattened))\n",
    "HGNC_flattened_df=pd.DataFrame.from_records(HGNC_flattened)\n",
    "HGNC_flattened_df.columns=['pmid', 'HGNC']\n",
    "HGNC_flattened_df.head()"
   ]
  },
  {
   "cell_type": "code",
   "execution_count": null,
   "metadata": {},
   "outputs": [],
   "source": [
    "HGNC_flattened_df.to_csv(os.path.join(base_dir, \"data/HGNC_df2.csv\"),index=False)"
   ]
  },
  {
   "cell_type": "code",
   "execution_count": 54,
   "metadata": {},
   "outputs": [
    {
     "name": "stdout",
     "output_type": "stream",
     "text": [
      "Number of articles with gene information: 20448\n",
      "Number of unique genes: 206\n"
     ]
    }
   ],
   "source": [
    "print('Number of articles with gene information: {}'.format(HGNC_flattened_df.pmid.nunique()))\n",
    "print('Number of unique genes: {}'.format(HGNC_flattened_df.HGNC.nunique()))"
   ]
  },
  {
   "cell_type": "code",
   "execution_count": 55,
   "metadata": {},
   "outputs": [
    {
     "data": {
      "text/html": [
       "<div>\n",
       "<style scoped>\n",
       "    .dataframe tbody tr th:only-of-type {\n",
       "        vertical-align: middle;\n",
       "    }\n",
       "\n",
       "    .dataframe tbody tr th {\n",
       "        vertical-align: top;\n",
       "    }\n",
       "\n",
       "    .dataframe thead th {\n",
       "        text-align: right;\n",
       "    }\n",
       "</style>\n",
       "<table border=\"1\" class=\"dataframe\">\n",
       "  <thead>\n",
       "    <tr style=\"text-align: right;\">\n",
       "      <th></th>\n",
       "      <th>HGNC</th>\n",
       "      <th>counts</th>\n",
       "    </tr>\n",
       "  </thead>\n",
       "  <tbody>\n",
       "    <tr>\n",
       "      <th>0</th>\n",
       "      <td>CTLA4</td>\n",
       "      <td>2870</td>\n",
       "    </tr>\n",
       "    <tr>\n",
       "      <th>1</th>\n",
       "      <td>DNMT1</td>\n",
       "      <td>1893</td>\n",
       "    </tr>\n",
       "    <tr>\n",
       "      <th>2</th>\n",
       "      <td>EGFR</td>\n",
       "      <td>1835</td>\n",
       "    </tr>\n",
       "    <tr>\n",
       "      <th>3</th>\n",
       "      <td>ESR1</td>\n",
       "      <td>1611</td>\n",
       "    </tr>\n",
       "    <tr>\n",
       "      <th>4</th>\n",
       "      <td>MET</td>\n",
       "      <td>1518</td>\n",
       "    </tr>\n",
       "  </tbody>\n",
       "</table>\n",
       "</div>"
      ],
      "text/plain": [
       "    HGNC  counts\n",
       "0  CTLA4    2870\n",
       "1  DNMT1    1893\n",
       "2   EGFR    1835\n",
       "3   ESR1    1611\n",
       "4    MET    1518"
      ]
     },
     "execution_count": 55,
     "metadata": {},
     "output_type": "execute_result"
    }
   ],
   "source": [
    "HGNC_counts = HGNC_flattened_df.HGNC.value_counts().to_frame().reset_index().rename(columns={'HGNC':'counts', 'index':'HGNC'})\n",
    "HGNC_counts.head()"
   ]
  },
  {
   "cell_type": "code",
   "execution_count": 57,
   "metadata": {},
   "outputs": [
    {
     "data": {
      "text/plain": [
       "Text(0.5, 1.0, 'Number of occurrences for top20 frequent genes ')"
      ]
     },
     "execution_count": 57,
     "metadata": {},
     "output_type": "execute_result"
    },
    {
     "data": {
      "image/png": "[encoded data removed]",
      "text/plain": [
       "<Figure size 720x720 with 1 Axes>"
      ]
     },
     "metadata": {
      "needs_background": "light"
     },
     "output_type": "display_data"
    }
   ],
   "source": [
    "fig,ax=plt.subplots(1,1,figsize=(10,10))\n",
    "ax.barh(np.arange(20),HGNC_counts.counts.values[:20],edgecolor='black',color='red')\n",
    "\n",
    "ax.set_yticks(np.arange(20))\n",
    "ax.set_yticklabels(HGNC_counts.HGNC.values[:20])\n",
    "ax.invert_yaxis()\n",
    "ax.set_title('Number of occurrences for top20 frequent genes ')"
   ]
  },
  {
   "cell_type": "markdown",
   "metadata": {},
   "source": [
    "The most frequent gene in abstracts is **CTLA4**, which is involved in immune response. CTLA-4 blockade (eg. by **Ipilimumab**) can reactivate immune cells and thereby cure cancer in some patients. The Nobel Prize in Medicine in 2018 was awarded for discovery of CTLA-4 and PD-1 (another target in regulating immune response)."
   ]
  },
  {
   "cell_type": "code",
   "execution_count": null,
   "metadata": {},
   "outputs": [],
   "source": []
  },
  {
   "cell_type": "code",
   "execution_count": null,
   "metadata": {},
   "outputs": [],
   "source": []
  },
  {
   "cell_type": "code",
   "execution_count": null,
   "metadata": {},
   "outputs": [],
   "source": []
  }
 ],
 "metadata": {
  "kernelspec": {
   "display_name": "Python 3",
   "language": "python",
   "name": "python3"
  },
  "language_info": {
   "codemirror_mode": {
    "name": "ipython",
    "version": 3
   },
   "file_extension": ".py",
   "mimetype": "text/x-python",
   "name": "python",
   "nbconvert_exporter": "python",
   "pygments_lexer": "ipython3",
   "version": "3.7.4"
  }
 },
 "nbformat": 4,
 "nbformat_minor": 4
}
